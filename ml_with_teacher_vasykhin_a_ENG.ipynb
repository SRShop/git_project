{
 "cells": [
  {
   "cell_type": "markdown",
   "id": "22a3749f",
   "metadata": {},
   "source": [
    "## Introduction ##"
   ]
  },
  {
   "cell_type": "markdown",
   "id": "315f2e9c",
   "metadata": {},
   "source": [
    "Hey there for everyone!\n",
    "\n",
    "My name is Vasyukhin Artem and Im glad to see you in my GH repository of \"Supervised learning\" project!\n",
    "\n",
    "Today we gonna look at client database of \"Beta-bank\" for check the reason why people leaving. By the side of view of product manager catch a new clients is more expensive than save the initial.\n",
    "\n",
    "Our target - build ML model which can predict will client leave bank or no.\n",
    "\n",
    "**Features**\n",
    "\n",
    "* RowNumber — индекс строки в данных\n",
    "* CustomerId — уникальный идентификатор клиента\n",
    "* Surname — фамилия\n",
    "* CreditScore — кредитный рейтинг\n",
    "* Geography — страна проживания\n",
    "* Gender — пол\n",
    "* Age — возраст\n",
    "* Tenure — сколько лет человек является клиентом банка\n",
    "* Balance — баланс на счёте\n",
    "* NumOfProducts — количество продуктов банка, используемых клиентом\n",
    "* HasCrCard — наличие кредитной карты\n",
    "* IsActiveMember — активность клиента\n",
    "* EstimatedSalary — предполагаемая зарплата\n",
    "\n",
    "**Target**\n",
    "* Exited — факт ухода клиента\n",
    "\n"
   ]
  },
  {
   "cell_type": "markdown",
   "id": "ff94facc",
   "metadata": {},
   "source": [
    "## Library and data import ##"
   ]
  },
  {
   "cell_type": "code",
   "execution_count": 1,
   "id": "004ff82a",
   "metadata": {},
   "outputs": [],
   "source": [
    "import pandas as pd\n",
    "import numpy as np\n",
    "import matplotlib.pyplot as plt\n",
    "\n",
    "from sklearn.model_selection import train_test_split\n",
    "from sklearn.tree import DecisionTreeClassifier\n",
    "from sklearn.linear_model import LogisticRegression\n",
    "from sklearn.ensemble import RandomForestClassifier\n",
    "\n",
    "from sklearn.metrics import accuracy_score, precision_score, recall_score, f1_score\n",
    "from sklearn.metrics import roc_auc_score, roc_curve\n",
    "from sklearn.metrics import precision_recall_curve\n",
    "\n",
    "from sklearn.preprocessing import StandardScaler\n",
    "from sklearn.utils import shuffle\n",
    "\n",
    "pd.set_option('display.max_columns', None)\n",
    "pd.set_option('display.max_rows', 30)"
   ]
  },
  {
   "cell_type": "code",
   "execution_count": 2,
   "id": "65191b65",
   "metadata": {
    "scrolled": true
   },
   "outputs": [],
   "source": [
    "try:\n",
    "    data = pd.read_csv('Churn.csv')\n",
    "except:\n",
    "    data = pd.read_csv('/datasets/Churn.csv')"
   ]
  },
  {
   "cell_type": "code",
   "execution_count": 3,
   "id": "11420cd1",
   "metadata": {},
   "outputs": [
    {
     "data": {
      "text/html": [
       "<div>\n",
       "<style scoped>\n",
       "    .dataframe tbody tr th:only-of-type {\n",
       "        vertical-align: middle;\n",
       "    }\n",
       "\n",
       "    .dataframe tbody tr th {\n",
       "        vertical-align: top;\n",
       "    }\n",
       "\n",
       "    .dataframe thead th {\n",
       "        text-align: right;\n",
       "    }\n",
       "</style>\n",
       "<table border=\"1\" class=\"dataframe\">\n",
       "  <thead>\n",
       "    <tr style=\"text-align: right;\">\n",
       "      <th></th>\n",
       "      <th>RowNumber</th>\n",
       "      <th>CustomerId</th>\n",
       "      <th>Surname</th>\n",
       "      <th>CreditScore</th>\n",
       "      <th>Geography</th>\n",
       "      <th>Gender</th>\n",
       "      <th>Age</th>\n",
       "      <th>Tenure</th>\n",
       "      <th>Balance</th>\n",
       "      <th>NumOfProducts</th>\n",
       "      <th>HasCrCard</th>\n",
       "      <th>IsActiveMember</th>\n",
       "      <th>EstimatedSalary</th>\n",
       "      <th>Exited</th>\n",
       "    </tr>\n",
       "  </thead>\n",
       "  <tbody>\n",
       "    <tr>\n",
       "      <th>0</th>\n",
       "      <td>1</td>\n",
       "      <td>15634602</td>\n",
       "      <td>Hargrave</td>\n",
       "      <td>619</td>\n",
       "      <td>France</td>\n",
       "      <td>Female</td>\n",
       "      <td>42</td>\n",
       "      <td>2.0</td>\n",
       "      <td>0.00</td>\n",
       "      <td>1</td>\n",
       "      <td>1</td>\n",
       "      <td>1</td>\n",
       "      <td>101348.88</td>\n",
       "      <td>1</td>\n",
       "    </tr>\n",
       "    <tr>\n",
       "      <th>1</th>\n",
       "      <td>2</td>\n",
       "      <td>15647311</td>\n",
       "      <td>Hill</td>\n",
       "      <td>608</td>\n",
       "      <td>Spain</td>\n",
       "      <td>Female</td>\n",
       "      <td>41</td>\n",
       "      <td>1.0</td>\n",
       "      <td>83807.86</td>\n",
       "      <td>1</td>\n",
       "      <td>0</td>\n",
       "      <td>1</td>\n",
       "      <td>112542.58</td>\n",
       "      <td>0</td>\n",
       "    </tr>\n",
       "    <tr>\n",
       "      <th>2</th>\n",
       "      <td>3</td>\n",
       "      <td>15619304</td>\n",
       "      <td>Onio</td>\n",
       "      <td>502</td>\n",
       "      <td>France</td>\n",
       "      <td>Female</td>\n",
       "      <td>42</td>\n",
       "      <td>8.0</td>\n",
       "      <td>159660.80</td>\n",
       "      <td>3</td>\n",
       "      <td>1</td>\n",
       "      <td>0</td>\n",
       "      <td>113931.57</td>\n",
       "      <td>1</td>\n",
       "    </tr>\n",
       "    <tr>\n",
       "      <th>3</th>\n",
       "      <td>4</td>\n",
       "      <td>15701354</td>\n",
       "      <td>Boni</td>\n",
       "      <td>699</td>\n",
       "      <td>France</td>\n",
       "      <td>Female</td>\n",
       "      <td>39</td>\n",
       "      <td>1.0</td>\n",
       "      <td>0.00</td>\n",
       "      <td>2</td>\n",
       "      <td>0</td>\n",
       "      <td>0</td>\n",
       "      <td>93826.63</td>\n",
       "      <td>0</td>\n",
       "    </tr>\n",
       "    <tr>\n",
       "      <th>4</th>\n",
       "      <td>5</td>\n",
       "      <td>15737888</td>\n",
       "      <td>Mitchell</td>\n",
       "      <td>850</td>\n",
       "      <td>Spain</td>\n",
       "      <td>Female</td>\n",
       "      <td>43</td>\n",
       "      <td>2.0</td>\n",
       "      <td>125510.82</td>\n",
       "      <td>1</td>\n",
       "      <td>1</td>\n",
       "      <td>1</td>\n",
       "      <td>79084.10</td>\n",
       "      <td>0</td>\n",
       "    </tr>\n",
       "  </tbody>\n",
       "</table>\n",
       "</div>"
      ],
      "text/plain": [
       "   RowNumber  CustomerId   Surname  CreditScore Geography  Gender  Age  \\\n",
       "0          1    15634602  Hargrave          619    France  Female   42   \n",
       "1          2    15647311      Hill          608     Spain  Female   41   \n",
       "2          3    15619304      Onio          502    France  Female   42   \n",
       "3          4    15701354      Boni          699    France  Female   39   \n",
       "4          5    15737888  Mitchell          850     Spain  Female   43   \n",
       "\n",
       "   Tenure    Balance  NumOfProducts  HasCrCard  IsActiveMember  \\\n",
       "0     2.0       0.00              1          1               1   \n",
       "1     1.0   83807.86              1          0               1   \n",
       "2     8.0  159660.80              3          1               0   \n",
       "3     1.0       0.00              2          0               0   \n",
       "4     2.0  125510.82              1          1               1   \n",
       "\n",
       "   EstimatedSalary  Exited  \n",
       "0        101348.88       1  \n",
       "1        112542.58       0  \n",
       "2        113931.57       1  \n",
       "3         93826.63       0  \n",
       "4         79084.10       0  "
      ]
     },
     "execution_count": 3,
     "metadata": {},
     "output_type": "execute_result"
    }
   ],
   "source": [
    "data.head()"
   ]
  },
  {
   "cell_type": "markdown",
   "id": "f778bc01",
   "metadata": {},
   "source": [
    "## EDA ##"
   ]
  },
  {
   "cell_type": "code",
   "execution_count": 4,
   "id": "ac54e2a1",
   "metadata": {
    "scrolled": false
   },
   "outputs": [
    {
     "name": "stdout",
     "output_type": "stream",
     "text": [
      "<class 'pandas.core.frame.DataFrame'>\n",
      "RangeIndex: 10000 entries, 0 to 9999\n",
      "Data columns (total 14 columns):\n",
      " #   Column           Non-Null Count  Dtype  \n",
      "---  ------           --------------  -----  \n",
      " 0   RowNumber        10000 non-null  int64  \n",
      " 1   CustomerId       10000 non-null  int64  \n",
      " 2   Surname          10000 non-null  object \n",
      " 3   CreditScore      10000 non-null  int64  \n",
      " 4   Geography        10000 non-null  object \n",
      " 5   Gender           10000 non-null  object \n",
      " 6   Age              10000 non-null  int64  \n",
      " 7   Tenure           9091 non-null   float64\n",
      " 8   Balance          10000 non-null  float64\n",
      " 9   NumOfProducts    10000 non-null  int64  \n",
      " 10  HasCrCard        10000 non-null  int64  \n",
      " 11  IsActiveMember   10000 non-null  int64  \n",
      " 12  EstimatedSalary  10000 non-null  float64\n",
      " 13  Exited           10000 non-null  int64  \n",
      "dtypes: float64(3), int64(8), object(3)\n",
      "memory usage: 1.1+ MB\n"
     ]
    },
    {
     "data": {
      "text/html": [
       "<div>\n",
       "<style scoped>\n",
       "    .dataframe tbody tr th:only-of-type {\n",
       "        vertical-align: middle;\n",
       "    }\n",
       "\n",
       "    .dataframe tbody tr th {\n",
       "        vertical-align: top;\n",
       "    }\n",
       "\n",
       "    .dataframe thead th {\n",
       "        text-align: right;\n",
       "    }\n",
       "</style>\n",
       "<table border=\"1\" class=\"dataframe\">\n",
       "  <thead>\n",
       "    <tr style=\"text-align: right;\">\n",
       "      <th></th>\n",
       "      <th>RowNumber</th>\n",
       "      <th>CustomerId</th>\n",
       "      <th>Surname</th>\n",
       "      <th>CreditScore</th>\n",
       "      <th>Geography</th>\n",
       "      <th>Gender</th>\n",
       "      <th>Age</th>\n",
       "      <th>Tenure</th>\n",
       "      <th>Balance</th>\n",
       "      <th>NumOfProducts</th>\n",
       "      <th>HasCrCard</th>\n",
       "      <th>IsActiveMember</th>\n",
       "      <th>EstimatedSalary</th>\n",
       "      <th>Exited</th>\n",
       "    </tr>\n",
       "  </thead>\n",
       "  <tbody>\n",
       "    <tr>\n",
       "      <th>0</th>\n",
       "      <td>1</td>\n",
       "      <td>15634602</td>\n",
       "      <td>Hargrave</td>\n",
       "      <td>619</td>\n",
       "      <td>France</td>\n",
       "      <td>Female</td>\n",
       "      <td>42</td>\n",
       "      <td>2.0</td>\n",
       "      <td>0.00</td>\n",
       "      <td>1</td>\n",
       "      <td>1</td>\n",
       "      <td>1</td>\n",
       "      <td>101348.88</td>\n",
       "      <td>1</td>\n",
       "    </tr>\n",
       "    <tr>\n",
       "      <th>1</th>\n",
       "      <td>2</td>\n",
       "      <td>15647311</td>\n",
       "      <td>Hill</td>\n",
       "      <td>608</td>\n",
       "      <td>Spain</td>\n",
       "      <td>Female</td>\n",
       "      <td>41</td>\n",
       "      <td>1.0</td>\n",
       "      <td>83807.86</td>\n",
       "      <td>1</td>\n",
       "      <td>0</td>\n",
       "      <td>1</td>\n",
       "      <td>112542.58</td>\n",
       "      <td>0</td>\n",
       "    </tr>\n",
       "    <tr>\n",
       "      <th>2</th>\n",
       "      <td>3</td>\n",
       "      <td>15619304</td>\n",
       "      <td>Onio</td>\n",
       "      <td>502</td>\n",
       "      <td>France</td>\n",
       "      <td>Female</td>\n",
       "      <td>42</td>\n",
       "      <td>8.0</td>\n",
       "      <td>159660.80</td>\n",
       "      <td>3</td>\n",
       "      <td>1</td>\n",
       "      <td>0</td>\n",
       "      <td>113931.57</td>\n",
       "      <td>1</td>\n",
       "    </tr>\n",
       "    <tr>\n",
       "      <th>3</th>\n",
       "      <td>4</td>\n",
       "      <td>15701354</td>\n",
       "      <td>Boni</td>\n",
       "      <td>699</td>\n",
       "      <td>France</td>\n",
       "      <td>Female</td>\n",
       "      <td>39</td>\n",
       "      <td>1.0</td>\n",
       "      <td>0.00</td>\n",
       "      <td>2</td>\n",
       "      <td>0</td>\n",
       "      <td>0</td>\n",
       "      <td>93826.63</td>\n",
       "      <td>0</td>\n",
       "    </tr>\n",
       "    <tr>\n",
       "      <th>4</th>\n",
       "      <td>5</td>\n",
       "      <td>15737888</td>\n",
       "      <td>Mitchell</td>\n",
       "      <td>850</td>\n",
       "      <td>Spain</td>\n",
       "      <td>Female</td>\n",
       "      <td>43</td>\n",
       "      <td>2.0</td>\n",
       "      <td>125510.82</td>\n",
       "      <td>1</td>\n",
       "      <td>1</td>\n",
       "      <td>1</td>\n",
       "      <td>79084.10</td>\n",
       "      <td>0</td>\n",
       "    </tr>\n",
       "  </tbody>\n",
       "</table>\n",
       "</div>"
      ],
      "text/plain": [
       "   RowNumber  CustomerId   Surname  CreditScore Geography  Gender  Age  \\\n",
       "0          1    15634602  Hargrave          619    France  Female   42   \n",
       "1          2    15647311      Hill          608     Spain  Female   41   \n",
       "2          3    15619304      Onio          502    France  Female   42   \n",
       "3          4    15701354      Boni          699    France  Female   39   \n",
       "4          5    15737888  Mitchell          850     Spain  Female   43   \n",
       "\n",
       "   Tenure    Balance  NumOfProducts  HasCrCard  IsActiveMember  \\\n",
       "0     2.0       0.00              1          1               1   \n",
       "1     1.0   83807.86              1          0               1   \n",
       "2     8.0  159660.80              3          1               0   \n",
       "3     1.0       0.00              2          0               0   \n",
       "4     2.0  125510.82              1          1               1   \n",
       "\n",
       "   EstimatedSalary  Exited  \n",
       "0        101348.88       1  \n",
       "1        112542.58       0  \n",
       "2        113931.57       1  \n",
       "3         93826.63       0  \n",
       "4         79084.10       0  "
      ]
     },
     "execution_count": 4,
     "metadata": {},
     "output_type": "execute_result"
    }
   ],
   "source": [
    "data.info()\n",
    "data.head()"
   ]
  },
  {
   "cell_type": "code",
   "execution_count": 5,
   "id": "31c3557a",
   "metadata": {},
   "outputs": [],
   "source": [
    "# deleting useless for ML-model columns\n",
    "data = data.drop(['RowNumber', 'CustomerId', 'Surname'], axis=1)"
   ]
  },
  {
   "cell_type": "code",
   "execution_count": 6,
   "id": "d4cdcbc8",
   "metadata": {
    "scrolled": false
   },
   "outputs": [],
   "source": [
    "# rename columns to correct look\n",
    "data = data.rename(columns={\n",
    "    'CreditScore': 'credit_score', \n",
    "    'Geography': 'geography', \n",
    "    'Gender': 'gender', \n",
    "    'Age': 'age', \n",
    "    'Tenure': 'tenure', \n",
    "    'Balance': 'balance', \n",
    "    'NumOfProducts': 'personal_products',\n",
    "    'HasCrCard': 'has_cr_card',\n",
    "    'IsActiveMember': 'is_active_member',\n",
    "    'EstimatedSalary': 'estimated_salary',\n",
    "    'Exited': 'exited'})"
   ]
  },
  {
   "cell_type": "code",
   "execution_count": 7,
   "id": "d76ef506",
   "metadata": {},
   "outputs": [
    {
     "data": {
      "image/png": "[encoded data removed]",
      "text/plain": [
       "<Figure size 1440x864 with 9 Axes>"
      ]
     },
     "metadata": {
      "needs_background": "light"
     },
     "output_type": "display_data"
    }
   ],
   "source": [
    "data.hist(figsize=(20, 12), bins=100);"
   ]
  },
  {
   "cell_type": "markdown",
   "id": "71160d4d",
   "metadata": {},
   "source": [
    "<div class = \"alert alert-info\" style=\"border-left: 7px solid blue\">\n",
    "\n",
    "As we can see, into columns **CreditScore** and **Balance** we have emissions: in *CreditScore* max value emission, in *Balance* emission stack at the null. Also we have uneven distribution of credit cards.\n",
    "\n",
    "The major idea of our feature work - its uneven distribution in our target column **Exited**. Thats why we will use ***f-score*** for to assess the quality of the constructed model."
   ]
  },
  {
   "cell_type": "markdown",
   "id": "f9ea45e2",
   "metadata": {},
   "source": [
    "### Dublicates ###"
   ]
  },
  {
   "cell_type": "markdown",
   "id": "6173ede8",
   "metadata": {},
   "source": [
    "Because in our data not a lot of unique information, we will check our data only for explicit duplicates. Other data we will accept as correct."
   ]
  },
  {
   "cell_type": "code",
   "execution_count": 8,
   "id": "15b92eca",
   "metadata": {
    "scrolled": true
   },
   "outputs": [
    {
     "data": {
      "text/html": [
       "<div>\n",
       "<style scoped>\n",
       "    .dataframe tbody tr th:only-of-type {\n",
       "        vertical-align: middle;\n",
       "    }\n",
       "\n",
       "    .dataframe tbody tr th {\n",
       "        vertical-align: top;\n",
       "    }\n",
       "\n",
       "    .dataframe thead th {\n",
       "        text-align: right;\n",
       "    }\n",
       "</style>\n",
       "<table border=\"1\" class=\"dataframe\">\n",
       "  <thead>\n",
       "    <tr style=\"text-align: right;\">\n",
       "      <th></th>\n",
       "      <th>credit_score</th>\n",
       "      <th>geography</th>\n",
       "      <th>gender</th>\n",
       "      <th>age</th>\n",
       "      <th>tenure</th>\n",
       "      <th>balance</th>\n",
       "      <th>personal_products</th>\n",
       "      <th>has_cr_card</th>\n",
       "      <th>is_active_member</th>\n",
       "      <th>estimated_salary</th>\n",
       "      <th>exited</th>\n",
       "    </tr>\n",
       "  </thead>\n",
       "  <tbody>\n",
       "  </tbody>\n",
       "</table>\n",
       "</div>"
      ],
      "text/plain": [
       "Empty DataFrame\n",
       "Columns: [credit_score, geography, gender, age, tenure, balance, personal_products, has_cr_card, is_active_member, estimated_salary, exited]\n",
       "Index: []"
      ]
     },
     "execution_count": 8,
     "metadata": {},
     "output_type": "execute_result"
    }
   ],
   "source": [
    "data[data.duplicated()]"
   ]
  },
  {
   "cell_type": "markdown",
   "id": "34de2c96",
   "metadata": {},
   "source": [
    "### Pass processing ##"
   ]
  },
  {
   "cell_type": "markdown",
   "id": "7ea55679",
   "metadata": {},
   "source": [
    "Where we check data information, passes was only in **Tenure** column. Lets look at data and try to find some patterns."
   ]
  },
  {
   "cell_type": "code",
   "execution_count": 9,
   "id": "6a96e412",
   "metadata": {
    "scrolled": false
   },
   "outputs": [
    {
     "data": {
      "text/html": [
       "<div>\n",
       "<style scoped>\n",
       "    .dataframe tbody tr th:only-of-type {\n",
       "        vertical-align: middle;\n",
       "    }\n",
       "\n",
       "    .dataframe tbody tr th {\n",
       "        vertical-align: top;\n",
       "    }\n",
       "\n",
       "    .dataframe thead th {\n",
       "        text-align: right;\n",
       "    }\n",
       "</style>\n",
       "<table border=\"1\" class=\"dataframe\">\n",
       "  <thead>\n",
       "    <tr style=\"text-align: right;\">\n",
       "      <th></th>\n",
       "      <th>credit_score</th>\n",
       "      <th>geography</th>\n",
       "      <th>gender</th>\n",
       "      <th>age</th>\n",
       "      <th>tenure</th>\n",
       "      <th>balance</th>\n",
       "      <th>personal_products</th>\n",
       "      <th>has_cr_card</th>\n",
       "      <th>is_active_member</th>\n",
       "      <th>estimated_salary</th>\n",
       "      <th>exited</th>\n",
       "    </tr>\n",
       "  </thead>\n",
       "  <tbody>\n",
       "    <tr>\n",
       "      <th>30</th>\n",
       "      <td>591</td>\n",
       "      <td>Spain</td>\n",
       "      <td>Female</td>\n",
       "      <td>39</td>\n",
       "      <td>NaN</td>\n",
       "      <td>0.00</td>\n",
       "      <td>3</td>\n",
       "      <td>1</td>\n",
       "      <td>0</td>\n",
       "      <td>140469.38</td>\n",
       "      <td>1</td>\n",
       "    </tr>\n",
       "    <tr>\n",
       "      <th>48</th>\n",
       "      <td>550</td>\n",
       "      <td>Germany</td>\n",
       "      <td>Male</td>\n",
       "      <td>38</td>\n",
       "      <td>NaN</td>\n",
       "      <td>103391.38</td>\n",
       "      <td>1</td>\n",
       "      <td>0</td>\n",
       "      <td>1</td>\n",
       "      <td>90878.13</td>\n",
       "      <td>0</td>\n",
       "    </tr>\n",
       "    <tr>\n",
       "      <th>51</th>\n",
       "      <td>585</td>\n",
       "      <td>Germany</td>\n",
       "      <td>Male</td>\n",
       "      <td>36</td>\n",
       "      <td>NaN</td>\n",
       "      <td>146050.97</td>\n",
       "      <td>2</td>\n",
       "      <td>0</td>\n",
       "      <td>0</td>\n",
       "      <td>86424.57</td>\n",
       "      <td>0</td>\n",
       "    </tr>\n",
       "    <tr>\n",
       "      <th>53</th>\n",
       "      <td>655</td>\n",
       "      <td>Germany</td>\n",
       "      <td>Male</td>\n",
       "      <td>41</td>\n",
       "      <td>NaN</td>\n",
       "      <td>125561.97</td>\n",
       "      <td>1</td>\n",
       "      <td>0</td>\n",
       "      <td>0</td>\n",
       "      <td>164040.94</td>\n",
       "      <td>1</td>\n",
       "    </tr>\n",
       "    <tr>\n",
       "      <th>60</th>\n",
       "      <td>742</td>\n",
       "      <td>Germany</td>\n",
       "      <td>Male</td>\n",
       "      <td>35</td>\n",
       "      <td>NaN</td>\n",
       "      <td>136857.00</td>\n",
       "      <td>1</td>\n",
       "      <td>0</td>\n",
       "      <td>0</td>\n",
       "      <td>84509.57</td>\n",
       "      <td>0</td>\n",
       "    </tr>\n",
       "    <tr>\n",
       "      <th>...</th>\n",
       "      <td>...</td>\n",
       "      <td>...</td>\n",
       "      <td>...</td>\n",
       "      <td>...</td>\n",
       "      <td>...</td>\n",
       "      <td>...</td>\n",
       "      <td>...</td>\n",
       "      <td>...</td>\n",
       "      <td>...</td>\n",
       "      <td>...</td>\n",
       "      <td>...</td>\n",
       "    </tr>\n",
       "    <tr>\n",
       "      <th>9944</th>\n",
       "      <td>744</td>\n",
       "      <td>Germany</td>\n",
       "      <td>Male</td>\n",
       "      <td>41</td>\n",
       "      <td>NaN</td>\n",
       "      <td>190409.34</td>\n",
       "      <td>2</td>\n",
       "      <td>1</td>\n",
       "      <td>1</td>\n",
       "      <td>138361.48</td>\n",
       "      <td>0</td>\n",
       "    </tr>\n",
       "    <tr>\n",
       "      <th>9956</th>\n",
       "      <td>520</td>\n",
       "      <td>France</td>\n",
       "      <td>Female</td>\n",
       "      <td>46</td>\n",
       "      <td>NaN</td>\n",
       "      <td>85216.61</td>\n",
       "      <td>1</td>\n",
       "      <td>1</td>\n",
       "      <td>0</td>\n",
       "      <td>117369.52</td>\n",
       "      <td>1</td>\n",
       "    </tr>\n",
       "    <tr>\n",
       "      <th>9964</th>\n",
       "      <td>479</td>\n",
       "      <td>France</td>\n",
       "      <td>Male</td>\n",
       "      <td>34</td>\n",
       "      <td>NaN</td>\n",
       "      <td>117593.48</td>\n",
       "      <td>2</td>\n",
       "      <td>0</td>\n",
       "      <td>0</td>\n",
       "      <td>113308.29</td>\n",
       "      <td>0</td>\n",
       "    </tr>\n",
       "    <tr>\n",
       "      <th>9985</th>\n",
       "      <td>659</td>\n",
       "      <td>France</td>\n",
       "      <td>Male</td>\n",
       "      <td>36</td>\n",
       "      <td>NaN</td>\n",
       "      <td>123841.49</td>\n",
       "      <td>2</td>\n",
       "      <td>1</td>\n",
       "      <td>0</td>\n",
       "      <td>96833.00</td>\n",
       "      <td>0</td>\n",
       "    </tr>\n",
       "    <tr>\n",
       "      <th>9999</th>\n",
       "      <td>792</td>\n",
       "      <td>France</td>\n",
       "      <td>Female</td>\n",
       "      <td>28</td>\n",
       "      <td>NaN</td>\n",
       "      <td>130142.79</td>\n",
       "      <td>1</td>\n",
       "      <td>1</td>\n",
       "      <td>0</td>\n",
       "      <td>38190.78</td>\n",
       "      <td>0</td>\n",
       "    </tr>\n",
       "  </tbody>\n",
       "</table>\n",
       "<p>909 rows × 11 columns</p>\n",
       "</div>"
      ],
      "text/plain": [
       "      credit_score geography  gender  age  tenure    balance  \\\n",
       "30             591     Spain  Female   39     NaN       0.00   \n",
       "48             550   Germany    Male   38     NaN  103391.38   \n",
       "51             585   Germany    Male   36     NaN  146050.97   \n",
       "53             655   Germany    Male   41     NaN  125561.97   \n",
       "60             742   Germany    Male   35     NaN  136857.00   \n",
       "...            ...       ...     ...  ...     ...        ...   \n",
       "9944           744   Germany    Male   41     NaN  190409.34   \n",
       "9956           520    France  Female   46     NaN   85216.61   \n",
       "9964           479    France    Male   34     NaN  117593.48   \n",
       "9985           659    France    Male   36     NaN  123841.49   \n",
       "9999           792    France  Female   28     NaN  130142.79   \n",
       "\n",
       "      personal_products  has_cr_card  is_active_member  estimated_salary  \\\n",
       "30                    3            1                 0         140469.38   \n",
       "48                    1            0                 1          90878.13   \n",
       "51                    2            0                 0          86424.57   \n",
       "53                    1            0                 0         164040.94   \n",
       "60                    1            0                 0          84509.57   \n",
       "...                 ...          ...               ...               ...   \n",
       "9944                  2            1                 1         138361.48   \n",
       "9956                  1            1                 0         117369.52   \n",
       "9964                  2            0                 0         113308.29   \n",
       "9985                  2            1                 0          96833.00   \n",
       "9999                  1            1                 0          38190.78   \n",
       "\n",
       "      exited  \n",
       "30         1  \n",
       "48         0  \n",
       "51         0  \n",
       "53         1  \n",
       "60         0  \n",
       "...      ...  \n",
       "9944       0  \n",
       "9956       1  \n",
       "9964       0  \n",
       "9985       0  \n",
       "9999       0  \n",
       "\n",
       "[909 rows x 11 columns]"
      ]
     },
     "execution_count": 9,
     "metadata": {},
     "output_type": "execute_result"
    }
   ],
   "source": [
    "data[data['tenure'].isna()]"
   ]
  },
  {
   "cell_type": "markdown",
   "id": "3fc3aef7",
   "metadata": {},
   "source": [
    "For the next steps we creating variable **data_fixed**. If we will need original dataset we will back to it with original variable **data**\n",
    "\n",
    "Also we will encode **geography** and **gender** columns."
   ]
  },
  {
   "cell_type": "code",
   "execution_count": 10,
   "id": "865724e2",
   "metadata": {},
   "outputs": [
    {
     "name": "stdout",
     "output_type": "stream",
     "text": [
      "(10000, 11)\n"
     ]
    },
    {
     "data": {
      "text/html": [
       "<div>\n",
       "<style scoped>\n",
       "    .dataframe tbody tr th:only-of-type {\n",
       "        vertical-align: middle;\n",
       "    }\n",
       "\n",
       "    .dataframe tbody tr th {\n",
       "        vertical-align: top;\n",
       "    }\n",
       "\n",
       "    .dataframe thead th {\n",
       "        text-align: right;\n",
       "    }\n",
       "</style>\n",
       "<table border=\"1\" class=\"dataframe\">\n",
       "  <thead>\n",
       "    <tr style=\"text-align: right;\">\n",
       "      <th></th>\n",
       "      <th>credit_score</th>\n",
       "      <th>geography</th>\n",
       "      <th>gender</th>\n",
       "      <th>age</th>\n",
       "      <th>tenure</th>\n",
       "      <th>balance</th>\n",
       "      <th>personal_products</th>\n",
       "      <th>has_cr_card</th>\n",
       "      <th>is_active_member</th>\n",
       "      <th>estimated_salary</th>\n",
       "      <th>exited</th>\n",
       "    </tr>\n",
       "  </thead>\n",
       "  <tbody>\n",
       "    <tr>\n",
       "      <th>0</th>\n",
       "      <td>619</td>\n",
       "      <td>France</td>\n",
       "      <td>Female</td>\n",
       "      <td>42</td>\n",
       "      <td>2.0</td>\n",
       "      <td>0.00</td>\n",
       "      <td>1</td>\n",
       "      <td>1</td>\n",
       "      <td>1</td>\n",
       "      <td>101348.88</td>\n",
       "      <td>1</td>\n",
       "    </tr>\n",
       "    <tr>\n",
       "      <th>1</th>\n",
       "      <td>608</td>\n",
       "      <td>Spain</td>\n",
       "      <td>Female</td>\n",
       "      <td>41</td>\n",
       "      <td>1.0</td>\n",
       "      <td>83807.86</td>\n",
       "      <td>1</td>\n",
       "      <td>0</td>\n",
       "      <td>1</td>\n",
       "      <td>112542.58</td>\n",
       "      <td>0</td>\n",
       "    </tr>\n",
       "    <tr>\n",
       "      <th>2</th>\n",
       "      <td>502</td>\n",
       "      <td>France</td>\n",
       "      <td>Female</td>\n",
       "      <td>42</td>\n",
       "      <td>8.0</td>\n",
       "      <td>159660.80</td>\n",
       "      <td>3</td>\n",
       "      <td>1</td>\n",
       "      <td>0</td>\n",
       "      <td>113931.57</td>\n",
       "      <td>1</td>\n",
       "    </tr>\n",
       "    <tr>\n",
       "      <th>3</th>\n",
       "      <td>699</td>\n",
       "      <td>France</td>\n",
       "      <td>Female</td>\n",
       "      <td>39</td>\n",
       "      <td>1.0</td>\n",
       "      <td>0.00</td>\n",
       "      <td>2</td>\n",
       "      <td>0</td>\n",
       "      <td>0</td>\n",
       "      <td>93826.63</td>\n",
       "      <td>0</td>\n",
       "    </tr>\n",
       "    <tr>\n",
       "      <th>4</th>\n",
       "      <td>850</td>\n",
       "      <td>Spain</td>\n",
       "      <td>Female</td>\n",
       "      <td>43</td>\n",
       "      <td>2.0</td>\n",
       "      <td>125510.82</td>\n",
       "      <td>1</td>\n",
       "      <td>1</td>\n",
       "      <td>1</td>\n",
       "      <td>79084.10</td>\n",
       "      <td>0</td>\n",
       "    </tr>\n",
       "  </tbody>\n",
       "</table>\n",
       "</div>"
      ],
      "text/plain": [
       "   credit_score geography  gender  age  tenure    balance  personal_products  \\\n",
       "0           619    France  Female   42     2.0       0.00                  1   \n",
       "1           608     Spain  Female   41     1.0   83807.86                  1   \n",
       "2           502    France  Female   42     8.0  159660.80                  3   \n",
       "3           699    France  Female   39     1.0       0.00                  2   \n",
       "4           850     Spain  Female   43     2.0  125510.82                  1   \n",
       "\n",
       "   has_cr_card  is_active_member  estimated_salary  exited  \n",
       "0            1                 1         101348.88       1  \n",
       "1            0                 1         112542.58       0  \n",
       "2            1                 0         113931.57       1  \n",
       "3            0                 0          93826.63       0  \n",
       "4            1                 1          79084.10       0  "
      ]
     },
     "execution_count": 10,
     "metadata": {},
     "output_type": "execute_result"
    }
   ],
   "source": [
    "data_fixed = data\n",
    "\n",
    "print(data_fixed.shape)\n",
    "data_fixed.head()"
   ]
  },
  {
   "cell_type": "markdown",
   "id": "91bb373e",
   "metadata": {},
   "source": [
    "Lets check **credit_score** column, because we can see emissions near 400 value and take a look at rows with max rate and passes into **tenure** column."
   ]
  },
  {
   "cell_type": "code",
   "execution_count": 11,
   "id": "1718e102",
   "metadata": {},
   "outputs": [
    {
     "data": {
      "image/png": "[encoded data removed]",
      "text/plain": [
       "<Figure size 432x288 with 1 Axes>"
      ]
     },
     "metadata": {
      "needs_background": "light"
     },
     "output_type": "display_data"
    }
   ],
   "source": [
    "data.boxplot(['credit_score']);"
   ]
  },
  {
   "cell_type": "code",
   "execution_count": 12,
   "id": "ad635a1d",
   "metadata": {},
   "outputs": [
    {
     "data": {
      "text/html": [
       "<div>\n",
       "<style scoped>\n",
       "    .dataframe tbody tr th:only-of-type {\n",
       "        vertical-align: middle;\n",
       "    }\n",
       "\n",
       "    .dataframe tbody tr th {\n",
       "        vertical-align: top;\n",
       "    }\n",
       "\n",
       "    .dataframe thead th {\n",
       "        text-align: right;\n",
       "    }\n",
       "</style>\n",
       "<table border=\"1\" class=\"dataframe\">\n",
       "  <thead>\n",
       "    <tr style=\"text-align: right;\">\n",
       "      <th></th>\n",
       "      <th>credit_score</th>\n",
       "      <th>geography</th>\n",
       "      <th>gender</th>\n",
       "      <th>age</th>\n",
       "      <th>tenure</th>\n",
       "      <th>balance</th>\n",
       "      <th>personal_products</th>\n",
       "      <th>has_cr_card</th>\n",
       "      <th>is_active_member</th>\n",
       "      <th>estimated_salary</th>\n",
       "      <th>exited</th>\n",
       "    </tr>\n",
       "  </thead>\n",
       "  <tbody>\n",
       "    <tr>\n",
       "      <th>7</th>\n",
       "      <td>376</td>\n",
       "      <td>Germany</td>\n",
       "      <td>Female</td>\n",
       "      <td>29</td>\n",
       "      <td>4.0</td>\n",
       "      <td>115046.74</td>\n",
       "      <td>4</td>\n",
       "      <td>1</td>\n",
       "      <td>0</td>\n",
       "      <td>119346.88</td>\n",
       "      <td>1</td>\n",
       "    </tr>\n",
       "    <tr>\n",
       "      <th>942</th>\n",
       "      <td>376</td>\n",
       "      <td>France</td>\n",
       "      <td>Female</td>\n",
       "      <td>46</td>\n",
       "      <td>NaN</td>\n",
       "      <td>0.00</td>\n",
       "      <td>1</td>\n",
       "      <td>1</td>\n",
       "      <td>0</td>\n",
       "      <td>157333.69</td>\n",
       "      <td>1</td>\n",
       "    </tr>\n",
       "    <tr>\n",
       "      <th>1193</th>\n",
       "      <td>363</td>\n",
       "      <td>Spain</td>\n",
       "      <td>Female</td>\n",
       "      <td>28</td>\n",
       "      <td>6.0</td>\n",
       "      <td>146098.43</td>\n",
       "      <td>3</td>\n",
       "      <td>1</td>\n",
       "      <td>0</td>\n",
       "      <td>100615.14</td>\n",
       "      <td>1</td>\n",
       "    </tr>\n",
       "    <tr>\n",
       "      <th>1405</th>\n",
       "      <td>359</td>\n",
       "      <td>France</td>\n",
       "      <td>Female</td>\n",
       "      <td>44</td>\n",
       "      <td>NaN</td>\n",
       "      <td>128747.69</td>\n",
       "      <td>1</td>\n",
       "      <td>1</td>\n",
       "      <td>0</td>\n",
       "      <td>146955.71</td>\n",
       "      <td>1</td>\n",
       "    </tr>\n",
       "    <tr>\n",
       "      <th>1631</th>\n",
       "      <td>350</td>\n",
       "      <td>Spain</td>\n",
       "      <td>Male</td>\n",
       "      <td>54</td>\n",
       "      <td>1.0</td>\n",
       "      <td>152677.48</td>\n",
       "      <td>1</td>\n",
       "      <td>1</td>\n",
       "      <td>1</td>\n",
       "      <td>191973.49</td>\n",
       "      <td>1</td>\n",
       "    </tr>\n",
       "    <tr>\n",
       "      <th>1838</th>\n",
       "      <td>350</td>\n",
       "      <td>Germany</td>\n",
       "      <td>Male</td>\n",
       "      <td>39</td>\n",
       "      <td>0.0</td>\n",
       "      <td>109733.20</td>\n",
       "      <td>2</td>\n",
       "      <td>0</td>\n",
       "      <td>0</td>\n",
       "      <td>123602.11</td>\n",
       "      <td>1</td>\n",
       "    </tr>\n",
       "    <tr>\n",
       "      <th>1962</th>\n",
       "      <td>358</td>\n",
       "      <td>Spain</td>\n",
       "      <td>Female</td>\n",
       "      <td>52</td>\n",
       "      <td>8.0</td>\n",
       "      <td>143542.36</td>\n",
       "      <td>3</td>\n",
       "      <td>1</td>\n",
       "      <td>0</td>\n",
       "      <td>141959.11</td>\n",
       "      <td>1</td>\n",
       "    </tr>\n",
       "    <tr>\n",
       "      <th>2473</th>\n",
       "      <td>351</td>\n",
       "      <td>Germany</td>\n",
       "      <td>Female</td>\n",
       "      <td>57</td>\n",
       "      <td>4.0</td>\n",
       "      <td>163146.46</td>\n",
       "      <td>1</td>\n",
       "      <td>1</td>\n",
       "      <td>0</td>\n",
       "      <td>169621.69</td>\n",
       "      <td>1</td>\n",
       "    </tr>\n",
       "    <tr>\n",
       "      <th>2579</th>\n",
       "      <td>365</td>\n",
       "      <td>Germany</td>\n",
       "      <td>Male</td>\n",
       "      <td>30</td>\n",
       "      <td>0.0</td>\n",
       "      <td>127760.07</td>\n",
       "      <td>1</td>\n",
       "      <td>1</td>\n",
       "      <td>0</td>\n",
       "      <td>81537.85</td>\n",
       "      <td>1</td>\n",
       "    </tr>\n",
       "    <tr>\n",
       "      <th>5285</th>\n",
       "      <td>386</td>\n",
       "      <td>Spain</td>\n",
       "      <td>Female</td>\n",
       "      <td>53</td>\n",
       "      <td>1.0</td>\n",
       "      <td>131955.07</td>\n",
       "      <td>1</td>\n",
       "      <td>1</td>\n",
       "      <td>1</td>\n",
       "      <td>62514.65</td>\n",
       "      <td>1</td>\n",
       "    </tr>\n",
       "    <tr>\n",
       "      <th>5494</th>\n",
       "      <td>383</td>\n",
       "      <td>Spain</td>\n",
       "      <td>Female</td>\n",
       "      <td>48</td>\n",
       "      <td>8.0</td>\n",
       "      <td>95808.19</td>\n",
       "      <td>1</td>\n",
       "      <td>0</td>\n",
       "      <td>0</td>\n",
       "      <td>137702.01</td>\n",
       "      <td>1</td>\n",
       "    </tr>\n",
       "    <tr>\n",
       "      <th>8154</th>\n",
       "      <td>367</td>\n",
       "      <td>Spain</td>\n",
       "      <td>Male</td>\n",
       "      <td>42</td>\n",
       "      <td>6.0</td>\n",
       "      <td>93608.28</td>\n",
       "      <td>1</td>\n",
       "      <td>1</td>\n",
       "      <td>0</td>\n",
       "      <td>168816.73</td>\n",
       "      <td>1</td>\n",
       "    </tr>\n",
       "    <tr>\n",
       "      <th>8723</th>\n",
       "      <td>350</td>\n",
       "      <td>France</td>\n",
       "      <td>Male</td>\n",
       "      <td>51</td>\n",
       "      <td>10.0</td>\n",
       "      <td>0.00</td>\n",
       "      <td>1</td>\n",
       "      <td>1</td>\n",
       "      <td>1</td>\n",
       "      <td>125823.79</td>\n",
       "      <td>1</td>\n",
       "    </tr>\n",
       "    <tr>\n",
       "      <th>8762</th>\n",
       "      <td>350</td>\n",
       "      <td>France</td>\n",
       "      <td>Female</td>\n",
       "      <td>60</td>\n",
       "      <td>3.0</td>\n",
       "      <td>0.00</td>\n",
       "      <td>1</td>\n",
       "      <td>0</td>\n",
       "      <td>0</td>\n",
       "      <td>113796.15</td>\n",
       "      <td>1</td>\n",
       "    </tr>\n",
       "    <tr>\n",
       "      <th>9210</th>\n",
       "      <td>382</td>\n",
       "      <td>Spain</td>\n",
       "      <td>Male</td>\n",
       "      <td>36</td>\n",
       "      <td>0.0</td>\n",
       "      <td>0.00</td>\n",
       "      <td>1</td>\n",
       "      <td>1</td>\n",
       "      <td>1</td>\n",
       "      <td>179540.73</td>\n",
       "      <td>1</td>\n",
       "    </tr>\n",
       "    <tr>\n",
       "      <th>9356</th>\n",
       "      <td>373</td>\n",
       "      <td>France</td>\n",
       "      <td>Male</td>\n",
       "      <td>42</td>\n",
       "      <td>7.0</td>\n",
       "      <td>0.00</td>\n",
       "      <td>1</td>\n",
       "      <td>1</td>\n",
       "      <td>0</td>\n",
       "      <td>77786.37</td>\n",
       "      <td>1</td>\n",
       "    </tr>\n",
       "    <tr>\n",
       "      <th>9624</th>\n",
       "      <td>350</td>\n",
       "      <td>France</td>\n",
       "      <td>Female</td>\n",
       "      <td>40</td>\n",
       "      <td>0.0</td>\n",
       "      <td>111098.85</td>\n",
       "      <td>1</td>\n",
       "      <td>1</td>\n",
       "      <td>1</td>\n",
       "      <td>172321.21</td>\n",
       "      <td>1</td>\n",
       "    </tr>\n",
       "  </tbody>\n",
       "</table>\n",
       "</div>"
      ],
      "text/plain": [
       "      credit_score geography  gender  age  tenure    balance  \\\n",
       "7              376   Germany  Female   29     4.0  115046.74   \n",
       "942            376    France  Female   46     NaN       0.00   \n",
       "1193           363     Spain  Female   28     6.0  146098.43   \n",
       "1405           359    France  Female   44     NaN  128747.69   \n",
       "1631           350     Spain    Male   54     1.0  152677.48   \n",
       "1838           350   Germany    Male   39     0.0  109733.20   \n",
       "1962           358     Spain  Female   52     8.0  143542.36   \n",
       "2473           351   Germany  Female   57     4.0  163146.46   \n",
       "2579           365   Germany    Male   30     0.0  127760.07   \n",
       "5285           386     Spain  Female   53     1.0  131955.07   \n",
       "5494           383     Spain  Female   48     8.0   95808.19   \n",
       "8154           367     Spain    Male   42     6.0   93608.28   \n",
       "8723           350    France    Male   51    10.0       0.00   \n",
       "8762           350    France  Female   60     3.0       0.00   \n",
       "9210           382     Spain    Male   36     0.0       0.00   \n",
       "9356           373    France    Male   42     7.0       0.00   \n",
       "9624           350    France  Female   40     0.0  111098.85   \n",
       "\n",
       "      personal_products  has_cr_card  is_active_member  estimated_salary  \\\n",
       "7                     4            1                 0         119346.88   \n",
       "942                   1            1                 0         157333.69   \n",
       "1193                  3            1                 0         100615.14   \n",
       "1405                  1            1                 0         146955.71   \n",
       "1631                  1            1                 1         191973.49   \n",
       "1838                  2            0                 0         123602.11   \n",
       "1962                  3            1                 0         141959.11   \n",
       "2473                  1            1                 0         169621.69   \n",
       "2579                  1            1                 0          81537.85   \n",
       "5285                  1            1                 1          62514.65   \n",
       "5494                  1            0                 0         137702.01   \n",
       "8154                  1            1                 0         168816.73   \n",
       "8723                  1            1                 1         125823.79   \n",
       "8762                  1            0                 0         113796.15   \n",
       "9210                  1            1                 1         179540.73   \n",
       "9356                  1            1                 0          77786.37   \n",
       "9624                  1            1                 1         172321.21   \n",
       "\n",
       "      exited  \n",
       "7          1  \n",
       "942        1  \n",
       "1193       1  \n",
       "1405       1  \n",
       "1631       1  \n",
       "1838       1  \n",
       "1962       1  \n",
       "2473       1  \n",
       "2579       1  \n",
       "5285       1  \n",
       "5494       1  \n",
       "8154       1  \n",
       "8723       1  \n",
       "8762       1  \n",
       "9210       1  \n",
       "9356       1  \n",
       "9624       1  "
      ]
     },
     "execution_count": 12,
     "metadata": {},
     "output_type": "execute_result"
    }
   ],
   "source": [
    "# lets filter our 'credit_score' column under 1 quantile\n",
    "data_fixed[data_fixed['credit_score'] < 390]"
   ]
  },
  {
   "cell_type": "code",
   "execution_count": 13,
   "id": "96b9de24",
   "metadata": {},
   "outputs": [
    {
     "data": {
      "text/html": [
       "<div>\n",
       "<style scoped>\n",
       "    .dataframe tbody tr th:only-of-type {\n",
       "        vertical-align: middle;\n",
       "    }\n",
       "\n",
       "    .dataframe tbody tr th {\n",
       "        vertical-align: top;\n",
       "    }\n",
       "\n",
       "    .dataframe thead th {\n",
       "        text-align: right;\n",
       "    }\n",
       "</style>\n",
       "<table border=\"1\" class=\"dataframe\">\n",
       "  <thead>\n",
       "    <tr style=\"text-align: right;\">\n",
       "      <th></th>\n",
       "      <th>credit_score</th>\n",
       "      <th>geography</th>\n",
       "      <th>gender</th>\n",
       "      <th>age</th>\n",
       "      <th>tenure</th>\n",
       "      <th>balance</th>\n",
       "      <th>personal_products</th>\n",
       "      <th>has_cr_card</th>\n",
       "      <th>is_active_member</th>\n",
       "      <th>estimated_salary</th>\n",
       "      <th>exited</th>\n",
       "    </tr>\n",
       "  </thead>\n",
       "  <tbody>\n",
       "    <tr>\n",
       "      <th>180</th>\n",
       "      <td>850</td>\n",
       "      <td>Spain</td>\n",
       "      <td>Female</td>\n",
       "      <td>45</td>\n",
       "      <td>NaN</td>\n",
       "      <td>122311.21</td>\n",
       "      <td>1</td>\n",
       "      <td>1</td>\n",
       "      <td>1</td>\n",
       "      <td>19482.50</td>\n",
       "      <td>0</td>\n",
       "    </tr>\n",
       "    <tr>\n",
       "      <th>559</th>\n",
       "      <td>850</td>\n",
       "      <td>Spain</td>\n",
       "      <td>Female</td>\n",
       "      <td>70</td>\n",
       "      <td>NaN</td>\n",
       "      <td>0.00</td>\n",
       "      <td>1</td>\n",
       "      <td>1</td>\n",
       "      <td>1</td>\n",
       "      <td>705.18</td>\n",
       "      <td>0</td>\n",
       "    </tr>\n",
       "    <tr>\n",
       "      <th>1059</th>\n",
       "      <td>850</td>\n",
       "      <td>France</td>\n",
       "      <td>Male</td>\n",
       "      <td>38</td>\n",
       "      <td>NaN</td>\n",
       "      <td>80293.98</td>\n",
       "      <td>1</td>\n",
       "      <td>0</td>\n",
       "      <td>0</td>\n",
       "      <td>126555.74</td>\n",
       "      <td>0</td>\n",
       "    </tr>\n",
       "    <tr>\n",
       "      <th>1483</th>\n",
       "      <td>850</td>\n",
       "      <td>France</td>\n",
       "      <td>Male</td>\n",
       "      <td>36</td>\n",
       "      <td>NaN</td>\n",
       "      <td>104077.19</td>\n",
       "      <td>2</td>\n",
       "      <td>0</td>\n",
       "      <td>1</td>\n",
       "      <td>68594.00</td>\n",
       "      <td>0</td>\n",
       "    </tr>\n",
       "    <tr>\n",
       "      <th>2329</th>\n",
       "      <td>850</td>\n",
       "      <td>France</td>\n",
       "      <td>Male</td>\n",
       "      <td>35</td>\n",
       "      <td>NaN</td>\n",
       "      <td>162442.35</td>\n",
       "      <td>1</td>\n",
       "      <td>1</td>\n",
       "      <td>0</td>\n",
       "      <td>183566.78</td>\n",
       "      <td>0</td>\n",
       "    </tr>\n",
       "    <tr>\n",
       "      <th>2416</th>\n",
       "      <td>850</td>\n",
       "      <td>France</td>\n",
       "      <td>Male</td>\n",
       "      <td>46</td>\n",
       "      <td>NaN</td>\n",
       "      <td>117640.39</td>\n",
       "      <td>1</td>\n",
       "      <td>1</td>\n",
       "      <td>0</td>\n",
       "      <td>88920.68</td>\n",
       "      <td>0</td>\n",
       "    </tr>\n",
       "    <tr>\n",
       "      <th>2619</th>\n",
       "      <td>850</td>\n",
       "      <td>Spain</td>\n",
       "      <td>Male</td>\n",
       "      <td>49</td>\n",
       "      <td>NaN</td>\n",
       "      <td>0.00</td>\n",
       "      <td>1</td>\n",
       "      <td>0</td>\n",
       "      <td>0</td>\n",
       "      <td>25867.67</td>\n",
       "      <td>1</td>\n",
       "    </tr>\n",
       "    <tr>\n",
       "      <th>2834</th>\n",
       "      <td>850</td>\n",
       "      <td>France</td>\n",
       "      <td>Male</td>\n",
       "      <td>30</td>\n",
       "      <td>NaN</td>\n",
       "      <td>121535.18</td>\n",
       "      <td>1</td>\n",
       "      <td>0</td>\n",
       "      <td>0</td>\n",
       "      <td>40313.47</td>\n",
       "      <td>0</td>\n",
       "    </tr>\n",
       "    <tr>\n",
       "      <th>3822</th>\n",
       "      <td>850</td>\n",
       "      <td>France</td>\n",
       "      <td>Female</td>\n",
       "      <td>39</td>\n",
       "      <td>NaN</td>\n",
       "      <td>104386.53</td>\n",
       "      <td>1</td>\n",
       "      <td>1</td>\n",
       "      <td>0</td>\n",
       "      <td>105886.77</td>\n",
       "      <td>0</td>\n",
       "    </tr>\n",
       "    <tr>\n",
       "      <th>4141</th>\n",
       "      <td>850</td>\n",
       "      <td>Spain</td>\n",
       "      <td>Male</td>\n",
       "      <td>39</td>\n",
       "      <td>NaN</td>\n",
       "      <td>141829.67</td>\n",
       "      <td>1</td>\n",
       "      <td>1</td>\n",
       "      <td>1</td>\n",
       "      <td>92748.16</td>\n",
       "      <td>0</td>\n",
       "    </tr>\n",
       "    <tr>\n",
       "      <th>4375</th>\n",
       "      <td>850</td>\n",
       "      <td>Germany</td>\n",
       "      <td>Male</td>\n",
       "      <td>41</td>\n",
       "      <td>NaN</td>\n",
       "      <td>60880.68</td>\n",
       "      <td>1</td>\n",
       "      <td>1</td>\n",
       "      <td>0</td>\n",
       "      <td>31825.84</td>\n",
       "      <td>0</td>\n",
       "    </tr>\n",
       "    <tr>\n",
       "      <th>4518</th>\n",
       "      <td>850</td>\n",
       "      <td>Spain</td>\n",
       "      <td>Female</td>\n",
       "      <td>29</td>\n",
       "      <td>NaN</td>\n",
       "      <td>0.00</td>\n",
       "      <td>2</td>\n",
       "      <td>1</td>\n",
       "      <td>0</td>\n",
       "      <td>23237.25</td>\n",
       "      <td>0</td>\n",
       "    </tr>\n",
       "    <tr>\n",
       "      <th>4533</th>\n",
       "      <td>850</td>\n",
       "      <td>Spain</td>\n",
       "      <td>Male</td>\n",
       "      <td>39</td>\n",
       "      <td>NaN</td>\n",
       "      <td>206014.94</td>\n",
       "      <td>2</td>\n",
       "      <td>0</td>\n",
       "      <td>1</td>\n",
       "      <td>42774.84</td>\n",
       "      <td>1</td>\n",
       "    </tr>\n",
       "    <tr>\n",
       "      <th>4608</th>\n",
       "      <td>850</td>\n",
       "      <td>Germany</td>\n",
       "      <td>Male</td>\n",
       "      <td>42</td>\n",
       "      <td>NaN</td>\n",
       "      <td>119839.69</td>\n",
       "      <td>1</td>\n",
       "      <td>0</td>\n",
       "      <td>1</td>\n",
       "      <td>51016.02</td>\n",
       "      <td>1</td>\n",
       "    </tr>\n",
       "    <tr>\n",
       "      <th>5146</th>\n",
       "      <td>850</td>\n",
       "      <td>Germany</td>\n",
       "      <td>Male</td>\n",
       "      <td>32</td>\n",
       "      <td>NaN</td>\n",
       "      <td>128647.98</td>\n",
       "      <td>2</td>\n",
       "      <td>0</td>\n",
       "      <td>0</td>\n",
       "      <td>54416.18</td>\n",
       "      <td>0</td>\n",
       "    </tr>\n",
       "    <tr>\n",
       "      <th>6471</th>\n",
       "      <td>850</td>\n",
       "      <td>France</td>\n",
       "      <td>Female</td>\n",
       "      <td>40</td>\n",
       "      <td>NaN</td>\n",
       "      <td>0.00</td>\n",
       "      <td>2</td>\n",
       "      <td>1</td>\n",
       "      <td>0</td>\n",
       "      <td>35034.15</td>\n",
       "      <td>0</td>\n",
       "    </tr>\n",
       "    <tr>\n",
       "      <th>7882</th>\n",
       "      <td>850</td>\n",
       "      <td>Germany</td>\n",
       "      <td>Female</td>\n",
       "      <td>45</td>\n",
       "      <td>NaN</td>\n",
       "      <td>121874.89</td>\n",
       "      <td>1</td>\n",
       "      <td>0</td>\n",
       "      <td>0</td>\n",
       "      <td>6865.41</td>\n",
       "      <td>1</td>\n",
       "    </tr>\n",
       "    <tr>\n",
       "      <th>8033</th>\n",
       "      <td>850</td>\n",
       "      <td>Spain</td>\n",
       "      <td>Male</td>\n",
       "      <td>36</td>\n",
       "      <td>NaN</td>\n",
       "      <td>0.00</td>\n",
       "      <td>2</td>\n",
       "      <td>0</td>\n",
       "      <td>1</td>\n",
       "      <td>41291.05</td>\n",
       "      <td>0</td>\n",
       "    </tr>\n",
       "    <tr>\n",
       "      <th>8288</th>\n",
       "      <td>850</td>\n",
       "      <td>France</td>\n",
       "      <td>Female</td>\n",
       "      <td>34</td>\n",
       "      <td>NaN</td>\n",
       "      <td>92899.27</td>\n",
       "      <td>2</td>\n",
       "      <td>1</td>\n",
       "      <td>0</td>\n",
       "      <td>97465.89</td>\n",
       "      <td>0</td>\n",
       "    </tr>\n",
       "    <tr>\n",
       "      <th>8458</th>\n",
       "      <td>850</td>\n",
       "      <td>France</td>\n",
       "      <td>Female</td>\n",
       "      <td>71</td>\n",
       "      <td>NaN</td>\n",
       "      <td>0.00</td>\n",
       "      <td>2</td>\n",
       "      <td>1</td>\n",
       "      <td>1</td>\n",
       "      <td>107236.87</td>\n",
       "      <td>0</td>\n",
       "    </tr>\n",
       "    <tr>\n",
       "      <th>8813</th>\n",
       "      <td>850</td>\n",
       "      <td>Germany</td>\n",
       "      <td>Female</td>\n",
       "      <td>26</td>\n",
       "      <td>NaN</td>\n",
       "      <td>123126.29</td>\n",
       "      <td>1</td>\n",
       "      <td>1</td>\n",
       "      <td>0</td>\n",
       "      <td>74425.41</td>\n",
       "      <td>0</td>\n",
       "    </tr>\n",
       "    <tr>\n",
       "      <th>9485</th>\n",
       "      <td>850</td>\n",
       "      <td>Spain</td>\n",
       "      <td>Male</td>\n",
       "      <td>37</td>\n",
       "      <td>NaN</td>\n",
       "      <td>88141.10</td>\n",
       "      <td>1</td>\n",
       "      <td>1</td>\n",
       "      <td>0</td>\n",
       "      <td>109659.12</td>\n",
       "      <td>0</td>\n",
       "    </tr>\n",
       "    <tr>\n",
       "      <th>9931</th>\n",
       "      <td>850</td>\n",
       "      <td>France</td>\n",
       "      <td>Female</td>\n",
       "      <td>34</td>\n",
       "      <td>NaN</td>\n",
       "      <td>101266.51</td>\n",
       "      <td>1</td>\n",
       "      <td>1</td>\n",
       "      <td>0</td>\n",
       "      <td>33501.98</td>\n",
       "      <td>0</td>\n",
       "    </tr>\n",
       "  </tbody>\n",
       "</table>\n",
       "</div>"
      ],
      "text/plain": [
       "      credit_score geography  gender  age  tenure    balance  \\\n",
       "180            850     Spain  Female   45     NaN  122311.21   \n",
       "559            850     Spain  Female   70     NaN       0.00   \n",
       "1059           850    France    Male   38     NaN   80293.98   \n",
       "1483           850    France    Male   36     NaN  104077.19   \n",
       "2329           850    France    Male   35     NaN  162442.35   \n",
       "2416           850    France    Male   46     NaN  117640.39   \n",
       "2619           850     Spain    Male   49     NaN       0.00   \n",
       "2834           850    France    Male   30     NaN  121535.18   \n",
       "3822           850    France  Female   39     NaN  104386.53   \n",
       "4141           850     Spain    Male   39     NaN  141829.67   \n",
       "4375           850   Germany    Male   41     NaN   60880.68   \n",
       "4518           850     Spain  Female   29     NaN       0.00   \n",
       "4533           850     Spain    Male   39     NaN  206014.94   \n",
       "4608           850   Germany    Male   42     NaN  119839.69   \n",
       "5146           850   Germany    Male   32     NaN  128647.98   \n",
       "6471           850    France  Female   40     NaN       0.00   \n",
       "7882           850   Germany  Female   45     NaN  121874.89   \n",
       "8033           850     Spain    Male   36     NaN       0.00   \n",
       "8288           850    France  Female   34     NaN   92899.27   \n",
       "8458           850    France  Female   71     NaN       0.00   \n",
       "8813           850   Germany  Female   26     NaN  123126.29   \n",
       "9485           850     Spain    Male   37     NaN   88141.10   \n",
       "9931           850    France  Female   34     NaN  101266.51   \n",
       "\n",
       "      personal_products  has_cr_card  is_active_member  estimated_salary  \\\n",
       "180                   1            1                 1          19482.50   \n",
       "559                   1            1                 1            705.18   \n",
       "1059                  1            0                 0         126555.74   \n",
       "1483                  2            0                 1          68594.00   \n",
       "2329                  1            1                 0         183566.78   \n",
       "2416                  1            1                 0          88920.68   \n",
       "2619                  1            0                 0          25867.67   \n",
       "2834                  1            0                 0          40313.47   \n",
       "3822                  1            1                 0         105886.77   \n",
       "4141                  1            1                 1          92748.16   \n",
       "4375                  1            1                 0          31825.84   \n",
       "4518                  2            1                 0          23237.25   \n",
       "4533                  2            0                 1          42774.84   \n",
       "4608                  1            0                 1          51016.02   \n",
       "5146                  2            0                 0          54416.18   \n",
       "6471                  2            1                 0          35034.15   \n",
       "7882                  1            0                 0           6865.41   \n",
       "8033                  2            0                 1          41291.05   \n",
       "8288                  2            1                 0          97465.89   \n",
       "8458                  2            1                 1         107236.87   \n",
       "8813                  1            1                 0          74425.41   \n",
       "9485                  1            1                 0         109659.12   \n",
       "9931                  1            1                 0          33501.98   \n",
       "\n",
       "      exited  \n",
       "180        0  \n",
       "559        0  \n",
       "1059       0  \n",
       "1483       0  \n",
       "2329       0  \n",
       "2416       0  \n",
       "2619       1  \n",
       "2834       0  \n",
       "3822       0  \n",
       "4141       0  \n",
       "4375       0  \n",
       "4518       0  \n",
       "4533       1  \n",
       "4608       1  \n",
       "5146       0  \n",
       "6471       0  \n",
       "7882       1  \n",
       "8033       0  \n",
       "8288       0  \n",
       "8458       0  \n",
       "8813       0  \n",
       "9485       0  \n",
       "9931       0  "
      ]
     },
     "execution_count": 13,
     "metadata": {},
     "output_type": "execute_result"
    }
   ],
   "source": [
    "data_fixed[(data_fixed['credit_score'] >= 850) & (data_fixed['tenure'].isna())]"
   ]
  },
  {
   "cell_type": "code",
   "execution_count": 14,
   "id": "f11a8faf",
   "metadata": {},
   "outputs": [
    {
     "name": "stdout",
     "output_type": "stream",
     "text": [
      "1.0     952\n",
      "2.0     950\n",
      "8.0     933\n",
      "3.0     928\n",
      "5.0     927\n",
      "7.0     925\n",
      "4.0     885\n",
      "9.0     882\n",
      "6.0     881\n",
      "10.0    446\n",
      "0.0     382\n",
      "Name: tenure, dtype: int64\n"
     ]
    }
   ],
   "source": [
    "print(data_fixed['tenure'].value_counts())"
   ]
  },
  {
   "cell_type": "code",
   "execution_count": 15,
   "id": "d6af2953",
   "metadata": {},
   "outputs": [
    {
     "data": {
      "text/plain": [
       "0"
      ]
     },
     "execution_count": 15,
     "metadata": {},
     "output_type": "execute_result"
    }
   ],
   "source": [
    "# fill passes random numbers between 0 and 10\n",
    "\n",
    "data_fixed['tenure'] = data_fixed['tenure'].fillna(np.random.randint(10))\n",
    "data_fixed['tenure'].isna().sum()"
   ]
  },
  {
   "cell_type": "code",
   "execution_count": 16,
   "id": "0860b81a",
   "metadata": {},
   "outputs": [
    {
     "data": {
      "text/plain": [
       "0.0     1291\n",
       "1.0      952\n",
       "2.0      950\n",
       "8.0      933\n",
       "3.0      928\n",
       "5.0      927\n",
       "7.0      925\n",
       "4.0      885\n",
       "9.0      882\n",
       "6.0      881\n",
       "10.0     446\n",
       "Name: tenure, dtype: int64"
      ]
     },
     "execution_count": 16,
     "metadata": {},
     "output_type": "execute_result"
    }
   ],
   "source": [
    "# check the result\n",
    "data_fixed['tenure'].value_counts()"
   ]
  },
  {
   "cell_type": "code",
   "execution_count": 17,
   "id": "e3a20b16",
   "metadata": {
    "scrolled": true
   },
   "outputs": [
    {
     "data": {
      "text/html": [
       "<div>\n",
       "<style scoped>\n",
       "    .dataframe tbody tr th:only-of-type {\n",
       "        vertical-align: middle;\n",
       "    }\n",
       "\n",
       "    .dataframe tbody tr th {\n",
       "        vertical-align: top;\n",
       "    }\n",
       "\n",
       "    .dataframe thead th {\n",
       "        text-align: right;\n",
       "    }\n",
       "</style>\n",
       "<table border=\"1\" class=\"dataframe\">\n",
       "  <thead>\n",
       "    <tr style=\"text-align: right;\">\n",
       "      <th></th>\n",
       "      <th>credit_score</th>\n",
       "      <th>geography</th>\n",
       "      <th>gender</th>\n",
       "      <th>age</th>\n",
       "      <th>tenure</th>\n",
       "      <th>balance</th>\n",
       "      <th>personal_products</th>\n",
       "      <th>has_cr_card</th>\n",
       "      <th>is_active_member</th>\n",
       "      <th>estimated_salary</th>\n",
       "      <th>exited</th>\n",
       "    </tr>\n",
       "  </thead>\n",
       "  <tbody>\n",
       "    <tr>\n",
       "      <th>0</th>\n",
       "      <td>619</td>\n",
       "      <td>France</td>\n",
       "      <td>Female</td>\n",
       "      <td>42</td>\n",
       "      <td>2.0</td>\n",
       "      <td>0.00</td>\n",
       "      <td>1</td>\n",
       "      <td>1</td>\n",
       "      <td>1</td>\n",
       "      <td>101348.88</td>\n",
       "      <td>1</td>\n",
       "    </tr>\n",
       "    <tr>\n",
       "      <th>1</th>\n",
       "      <td>608</td>\n",
       "      <td>Spain</td>\n",
       "      <td>Female</td>\n",
       "      <td>41</td>\n",
       "      <td>1.0</td>\n",
       "      <td>83807.86</td>\n",
       "      <td>1</td>\n",
       "      <td>0</td>\n",
       "      <td>1</td>\n",
       "      <td>112542.58</td>\n",
       "      <td>0</td>\n",
       "    </tr>\n",
       "    <tr>\n",
       "      <th>2</th>\n",
       "      <td>502</td>\n",
       "      <td>France</td>\n",
       "      <td>Female</td>\n",
       "      <td>42</td>\n",
       "      <td>8.0</td>\n",
       "      <td>159660.80</td>\n",
       "      <td>3</td>\n",
       "      <td>1</td>\n",
       "      <td>0</td>\n",
       "      <td>113931.57</td>\n",
       "      <td>1</td>\n",
       "    </tr>\n",
       "    <tr>\n",
       "      <th>3</th>\n",
       "      <td>699</td>\n",
       "      <td>France</td>\n",
       "      <td>Female</td>\n",
       "      <td>39</td>\n",
       "      <td>1.0</td>\n",
       "      <td>0.00</td>\n",
       "      <td>2</td>\n",
       "      <td>0</td>\n",
       "      <td>0</td>\n",
       "      <td>93826.63</td>\n",
       "      <td>0</td>\n",
       "    </tr>\n",
       "    <tr>\n",
       "      <th>4</th>\n",
       "      <td>850</td>\n",
       "      <td>Spain</td>\n",
       "      <td>Female</td>\n",
       "      <td>43</td>\n",
       "      <td>2.0</td>\n",
       "      <td>125510.82</td>\n",
       "      <td>1</td>\n",
       "      <td>1</td>\n",
       "      <td>1</td>\n",
       "      <td>79084.10</td>\n",
       "      <td>0</td>\n",
       "    </tr>\n",
       "    <tr>\n",
       "      <th>5</th>\n",
       "      <td>645</td>\n",
       "      <td>Spain</td>\n",
       "      <td>Male</td>\n",
       "      <td>44</td>\n",
       "      <td>8.0</td>\n",
       "      <td>113755.78</td>\n",
       "      <td>2</td>\n",
       "      <td>1</td>\n",
       "      <td>0</td>\n",
       "      <td>149756.71</td>\n",
       "      <td>1</td>\n",
       "    </tr>\n",
       "    <tr>\n",
       "      <th>6</th>\n",
       "      <td>822</td>\n",
       "      <td>France</td>\n",
       "      <td>Male</td>\n",
       "      <td>50</td>\n",
       "      <td>7.0</td>\n",
       "      <td>0.00</td>\n",
       "      <td>2</td>\n",
       "      <td>1</td>\n",
       "      <td>1</td>\n",
       "      <td>10062.80</td>\n",
       "      <td>0</td>\n",
       "    </tr>\n",
       "    <tr>\n",
       "      <th>7</th>\n",
       "      <td>376</td>\n",
       "      <td>Germany</td>\n",
       "      <td>Female</td>\n",
       "      <td>29</td>\n",
       "      <td>4.0</td>\n",
       "      <td>115046.74</td>\n",
       "      <td>4</td>\n",
       "      <td>1</td>\n",
       "      <td>0</td>\n",
       "      <td>119346.88</td>\n",
       "      <td>1</td>\n",
       "    </tr>\n",
       "    <tr>\n",
       "      <th>8</th>\n",
       "      <td>501</td>\n",
       "      <td>France</td>\n",
       "      <td>Male</td>\n",
       "      <td>44</td>\n",
       "      <td>4.0</td>\n",
       "      <td>142051.07</td>\n",
       "      <td>2</td>\n",
       "      <td>0</td>\n",
       "      <td>1</td>\n",
       "      <td>74940.50</td>\n",
       "      <td>0</td>\n",
       "    </tr>\n",
       "    <tr>\n",
       "      <th>9</th>\n",
       "      <td>684</td>\n",
       "      <td>France</td>\n",
       "      <td>Male</td>\n",
       "      <td>27</td>\n",
       "      <td>2.0</td>\n",
       "      <td>134603.88</td>\n",
       "      <td>1</td>\n",
       "      <td>1</td>\n",
       "      <td>1</td>\n",
       "      <td>71725.73</td>\n",
       "      <td>0</td>\n",
       "    </tr>\n",
       "  </tbody>\n",
       "</table>\n",
       "</div>"
      ],
      "text/plain": [
       "   credit_score geography  gender  age  tenure    balance  personal_products  \\\n",
       "0           619    France  Female   42     2.0       0.00                  1   \n",
       "1           608     Spain  Female   41     1.0   83807.86                  1   \n",
       "2           502    France  Female   42     8.0  159660.80                  3   \n",
       "3           699    France  Female   39     1.0       0.00                  2   \n",
       "4           850     Spain  Female   43     2.0  125510.82                  1   \n",
       "5           645     Spain    Male   44     8.0  113755.78                  2   \n",
       "6           822    France    Male   50     7.0       0.00                  2   \n",
       "7           376   Germany  Female   29     4.0  115046.74                  4   \n",
       "8           501    France    Male   44     4.0  142051.07                  2   \n",
       "9           684    France    Male   27     2.0  134603.88                  1   \n",
       "\n",
       "   has_cr_card  is_active_member  estimated_salary  exited  \n",
       "0            1                 1         101348.88       1  \n",
       "1            0                 1         112542.58       0  \n",
       "2            1                 0         113931.57       1  \n",
       "3            0                 0          93826.63       0  \n",
       "4            1                 1          79084.10       0  \n",
       "5            1                 0         149756.71       1  \n",
       "6            1                 1          10062.80       0  \n",
       "7            1                 0         119346.88       1  \n",
       "8            0                 1          74940.50       0  \n",
       "9            1                 1          71725.73       0  "
      ]
     },
     "execution_count": 17,
     "metadata": {},
     "output_type": "execute_result"
    }
   ],
   "source": [
    "# lets look at first 10 rows in \"data_fixed\"\n",
    "\n",
    "data_fixed.head(10)"
   ]
  },
  {
   "cell_type": "markdown",
   "id": "be40264c",
   "metadata": {},
   "source": [
    "Lets encode **geography** by class with *replace* method. At this time we will use *replace*, because One-Heat Encoding we will use to encode **gender** column."
   ]
  },
  {
   "cell_type": "code",
   "execution_count": 18,
   "id": "62636312",
   "metadata": {},
   "outputs": [
    {
     "name": "stdout",
     "output_type": "stream",
     "text": [
      "<class 'pandas.core.frame.DataFrame'>\n",
      "RangeIndex: 10000 entries, 0 to 9999\n",
      "Data columns (total 11 columns):\n",
      " #   Column             Non-Null Count  Dtype  \n",
      "---  ------             --------------  -----  \n",
      " 0   credit_score       10000 non-null  int64  \n",
      " 1   geography          10000 non-null  object \n",
      " 2   gender             10000 non-null  uint8  \n",
      " 3   age                10000 non-null  int64  \n",
      " 4   tenure             10000 non-null  float64\n",
      " 5   balance            10000 non-null  float64\n",
      " 6   personal_products  10000 non-null  int64  \n",
      " 7   has_cr_card        10000 non-null  int64  \n",
      " 8   is_active_member   10000 non-null  int64  \n",
      " 9   estimated_salary   10000 non-null  float64\n",
      " 10  exited             10000 non-null  int64  \n",
      "dtypes: float64(3), int64(6), object(1), uint8(1)\n",
      "memory usage: 791.1+ KB\n"
     ]
    },
    {
     "data": {
      "text/html": [
       "<div>\n",
       "<style scoped>\n",
       "    .dataframe tbody tr th:only-of-type {\n",
       "        vertical-align: middle;\n",
       "    }\n",
       "\n",
       "    .dataframe tbody tr th {\n",
       "        vertical-align: top;\n",
       "    }\n",
       "\n",
       "    .dataframe thead th {\n",
       "        text-align: right;\n",
       "    }\n",
       "</style>\n",
       "<table border=\"1\" class=\"dataframe\">\n",
       "  <thead>\n",
       "    <tr style=\"text-align: right;\">\n",
       "      <th></th>\n",
       "      <th>credit_score</th>\n",
       "      <th>geography</th>\n",
       "      <th>gender</th>\n",
       "      <th>age</th>\n",
       "      <th>tenure</th>\n",
       "      <th>balance</th>\n",
       "      <th>personal_products</th>\n",
       "      <th>has_cr_card</th>\n",
       "      <th>is_active_member</th>\n",
       "      <th>estimated_salary</th>\n",
       "      <th>exited</th>\n",
       "    </tr>\n",
       "  </thead>\n",
       "  <tbody>\n",
       "    <tr>\n",
       "      <th>0</th>\n",
       "      <td>619</td>\n",
       "      <td>2</td>\n",
       "      <td>0</td>\n",
       "      <td>42</td>\n",
       "      <td>2.0</td>\n",
       "      <td>0.00</td>\n",
       "      <td>1</td>\n",
       "      <td>1</td>\n",
       "      <td>1</td>\n",
       "      <td>101348.88</td>\n",
       "      <td>1</td>\n",
       "    </tr>\n",
       "    <tr>\n",
       "      <th>1</th>\n",
       "      <td>608</td>\n",
       "      <td>1</td>\n",
       "      <td>0</td>\n",
       "      <td>41</td>\n",
       "      <td>1.0</td>\n",
       "      <td>83807.86</td>\n",
       "      <td>1</td>\n",
       "      <td>0</td>\n",
       "      <td>1</td>\n",
       "      <td>112542.58</td>\n",
       "      <td>0</td>\n",
       "    </tr>\n",
       "    <tr>\n",
       "      <th>2</th>\n",
       "      <td>502</td>\n",
       "      <td>2</td>\n",
       "      <td>0</td>\n",
       "      <td>42</td>\n",
       "      <td>8.0</td>\n",
       "      <td>159660.80</td>\n",
       "      <td>3</td>\n",
       "      <td>1</td>\n",
       "      <td>0</td>\n",
       "      <td>113931.57</td>\n",
       "      <td>1</td>\n",
       "    </tr>\n",
       "    <tr>\n",
       "      <th>3</th>\n",
       "      <td>699</td>\n",
       "      <td>2</td>\n",
       "      <td>0</td>\n",
       "      <td>39</td>\n",
       "      <td>1.0</td>\n",
       "      <td>0.00</td>\n",
       "      <td>2</td>\n",
       "      <td>0</td>\n",
       "      <td>0</td>\n",
       "      <td>93826.63</td>\n",
       "      <td>0</td>\n",
       "    </tr>\n",
       "    <tr>\n",
       "      <th>4</th>\n",
       "      <td>850</td>\n",
       "      <td>1</td>\n",
       "      <td>0</td>\n",
       "      <td>43</td>\n",
       "      <td>2.0</td>\n",
       "      <td>125510.82</td>\n",
       "      <td>1</td>\n",
       "      <td>1</td>\n",
       "      <td>1</td>\n",
       "      <td>79084.10</td>\n",
       "      <td>0</td>\n",
       "    </tr>\n",
       "    <tr>\n",
       "      <th>5</th>\n",
       "      <td>645</td>\n",
       "      <td>1</td>\n",
       "      <td>1</td>\n",
       "      <td>44</td>\n",
       "      <td>8.0</td>\n",
       "      <td>113755.78</td>\n",
       "      <td>2</td>\n",
       "      <td>1</td>\n",
       "      <td>0</td>\n",
       "      <td>149756.71</td>\n",
       "      <td>1</td>\n",
       "    </tr>\n",
       "    <tr>\n",
       "      <th>6</th>\n",
       "      <td>822</td>\n",
       "      <td>2</td>\n",
       "      <td>1</td>\n",
       "      <td>50</td>\n",
       "      <td>7.0</td>\n",
       "      <td>0.00</td>\n",
       "      <td>2</td>\n",
       "      <td>1</td>\n",
       "      <td>1</td>\n",
       "      <td>10062.80</td>\n",
       "      <td>0</td>\n",
       "    </tr>\n",
       "    <tr>\n",
       "      <th>7</th>\n",
       "      <td>376</td>\n",
       "      <td>0</td>\n",
       "      <td>0</td>\n",
       "      <td>29</td>\n",
       "      <td>4.0</td>\n",
       "      <td>115046.74</td>\n",
       "      <td>4</td>\n",
       "      <td>1</td>\n",
       "      <td>0</td>\n",
       "      <td>119346.88</td>\n",
       "      <td>1</td>\n",
       "    </tr>\n",
       "    <tr>\n",
       "      <th>8</th>\n",
       "      <td>501</td>\n",
       "      <td>2</td>\n",
       "      <td>1</td>\n",
       "      <td>44</td>\n",
       "      <td>4.0</td>\n",
       "      <td>142051.07</td>\n",
       "      <td>2</td>\n",
       "      <td>0</td>\n",
       "      <td>1</td>\n",
       "      <td>74940.50</td>\n",
       "      <td>0</td>\n",
       "    </tr>\n",
       "    <tr>\n",
       "      <th>9</th>\n",
       "      <td>684</td>\n",
       "      <td>2</td>\n",
       "      <td>1</td>\n",
       "      <td>27</td>\n",
       "      <td>2.0</td>\n",
       "      <td>134603.88</td>\n",
       "      <td>1</td>\n",
       "      <td>1</td>\n",
       "      <td>1</td>\n",
       "      <td>71725.73</td>\n",
       "      <td>0</td>\n",
       "    </tr>\n",
       "    <tr>\n",
       "      <th>10</th>\n",
       "      <td>528</td>\n",
       "      <td>2</td>\n",
       "      <td>1</td>\n",
       "      <td>31</td>\n",
       "      <td>6.0</td>\n",
       "      <td>102016.72</td>\n",
       "      <td>2</td>\n",
       "      <td>0</td>\n",
       "      <td>0</td>\n",
       "      <td>80181.12</td>\n",
       "      <td>0</td>\n",
       "    </tr>\n",
       "    <tr>\n",
       "      <th>11</th>\n",
       "      <td>497</td>\n",
       "      <td>1</td>\n",
       "      <td>1</td>\n",
       "      <td>24</td>\n",
       "      <td>3.0</td>\n",
       "      <td>0.00</td>\n",
       "      <td>2</td>\n",
       "      <td>1</td>\n",
       "      <td>0</td>\n",
       "      <td>76390.01</td>\n",
       "      <td>0</td>\n",
       "    </tr>\n",
       "    <tr>\n",
       "      <th>12</th>\n",
       "      <td>476</td>\n",
       "      <td>2</td>\n",
       "      <td>0</td>\n",
       "      <td>34</td>\n",
       "      <td>10.0</td>\n",
       "      <td>0.00</td>\n",
       "      <td>2</td>\n",
       "      <td>1</td>\n",
       "      <td>0</td>\n",
       "      <td>26260.98</td>\n",
       "      <td>0</td>\n",
       "    </tr>\n",
       "    <tr>\n",
       "      <th>13</th>\n",
       "      <td>549</td>\n",
       "      <td>2</td>\n",
       "      <td>0</td>\n",
       "      <td>25</td>\n",
       "      <td>5.0</td>\n",
       "      <td>0.00</td>\n",
       "      <td>2</td>\n",
       "      <td>0</td>\n",
       "      <td>0</td>\n",
       "      <td>190857.79</td>\n",
       "      <td>0</td>\n",
       "    </tr>\n",
       "    <tr>\n",
       "      <th>14</th>\n",
       "      <td>635</td>\n",
       "      <td>1</td>\n",
       "      <td>0</td>\n",
       "      <td>35</td>\n",
       "      <td>7.0</td>\n",
       "      <td>0.00</td>\n",
       "      <td>2</td>\n",
       "      <td>1</td>\n",
       "      <td>1</td>\n",
       "      <td>65951.65</td>\n",
       "      <td>0</td>\n",
       "    </tr>\n",
       "  </tbody>\n",
       "</table>\n",
       "</div>"
      ],
      "text/plain": [
       "    credit_score geography  gender  age  tenure    balance  personal_products  \\\n",
       "0            619         2       0   42     2.0       0.00                  1   \n",
       "1            608         1       0   41     1.0   83807.86                  1   \n",
       "2            502         2       0   42     8.0  159660.80                  3   \n",
       "3            699         2       0   39     1.0       0.00                  2   \n",
       "4            850         1       0   43     2.0  125510.82                  1   \n",
       "5            645         1       1   44     8.0  113755.78                  2   \n",
       "6            822         2       1   50     7.0       0.00                  2   \n",
       "7            376         0       0   29     4.0  115046.74                  4   \n",
       "8            501         2       1   44     4.0  142051.07                  2   \n",
       "9            684         2       1   27     2.0  134603.88                  1   \n",
       "10           528         2       1   31     6.0  102016.72                  2   \n",
       "11           497         1       1   24     3.0       0.00                  2   \n",
       "12           476         2       0   34    10.0       0.00                  2   \n",
       "13           549         2       0   25     5.0       0.00                  2   \n",
       "14           635         1       0   35     7.0       0.00                  2   \n",
       "\n",
       "    has_cr_card  is_active_member  estimated_salary  exited  \n",
       "0             1                 1         101348.88       1  \n",
       "1             0                 1         112542.58       0  \n",
       "2             1                 0         113931.57       1  \n",
       "3             0                 0          93826.63       0  \n",
       "4             1                 1          79084.10       0  \n",
       "5             1                 0         149756.71       1  \n",
       "6             1                 1          10062.80       0  \n",
       "7             1                 0         119346.88       1  \n",
       "8             0                 1          74940.50       0  \n",
       "9             1                 1          71725.73       0  \n",
       "10            0                 0          80181.12       0  \n",
       "11            1                 0          76390.01       0  \n",
       "12            1                 0          26260.98       0  \n",
       "13            0                 0         190857.79       0  \n",
       "14            1                 1          65951.65       0  "
      ]
     },
     "metadata": {},
     "output_type": "display_data"
    }
   ],
   "source": [
    "# replacing countries by 0, 1, 2\n",
    "data_fixed['geography'] = data_fixed['geography'].replace(['Germany', 'Spain', 'France'], ['0', '1', '2'])\n",
    "\n",
    "# encode \"gender\" column with \"dummy\" method and resist dummy-trap by drop 1st column\n",
    "data_fixed['gender'] = pd.get_dummies(data['gender'], drop_first=True)\n",
    "\n",
    "# checking info of data and printing first 15 rows\n",
    "data_fixed.info()\n",
    "display(data_fixed.head(15))"
   ]
  },
  {
   "cell_type": "markdown",
   "id": "6759faa5",
   "metadata": {},
   "source": [
    "<div class = \"alert alert-info\" style=\"border-left: 7px solid blue\">\n",
    "\n",
    "### Total of EDA ###\n",
    "\n",
    "After EDA, we got correct dataset without string values. Now our data is ready for construct ML-model"
   ]
  },
  {
   "cell_type": "markdown",
   "id": "110874b5",
   "metadata": {},
   "source": [
    "## Preparing data for ML ##"
   ]
  },
  {
   "cell_type": "code",
   "execution_count": 19,
   "id": "920f7538",
   "metadata": {},
   "outputs": [
    {
     "data": {
      "text/html": [
       "<div>\n",
       "<style scoped>\n",
       "    .dataframe tbody tr th:only-of-type {\n",
       "        vertical-align: middle;\n",
       "    }\n",
       "\n",
       "    .dataframe tbody tr th {\n",
       "        vertical-align: top;\n",
       "    }\n",
       "\n",
       "    .dataframe thead th {\n",
       "        text-align: right;\n",
       "    }\n",
       "</style>\n",
       "<table border=\"1\" class=\"dataframe\">\n",
       "  <thead>\n",
       "    <tr style=\"text-align: right;\">\n",
       "      <th></th>\n",
       "      <th>Type</th>\n",
       "      <th>Features split size</th>\n",
       "      <th>Target split size</th>\n",
       "    </tr>\n",
       "  </thead>\n",
       "  <tbody>\n",
       "    <tr>\n",
       "      <th>0</th>\n",
       "      <td>default</td>\n",
       "      <td>(10000, 10)</td>\n",
       "      <td>(10000,)</td>\n",
       "    </tr>\n",
       "    <tr>\n",
       "      <th>1</th>\n",
       "      <td>train</td>\n",
       "      <td>(7000, 10)</td>\n",
       "      <td>(7000,)</td>\n",
       "    </tr>\n",
       "    <tr>\n",
       "      <th>2</th>\n",
       "      <td>test</td>\n",
       "      <td>(2250, 10)</td>\n",
       "      <td>(2250,)</td>\n",
       "    </tr>\n",
       "    <tr>\n",
       "      <th>3</th>\n",
       "      <td>valid</td>\n",
       "      <td>(750, 10)</td>\n",
       "      <td>(750,)</td>\n",
       "    </tr>\n",
       "  </tbody>\n",
       "</table>\n",
       "</div>"
      ],
      "text/plain": [
       "      Type Features split size Target split size\n",
       "0  default         (10000, 10)          (10000,)\n",
       "1    train          (7000, 10)           (7000,)\n",
       "2     test          (2250, 10)           (2250,)\n",
       "3    valid           (750, 10)            (750,)"
      ]
     },
     "execution_count": 19,
     "metadata": {},
     "output_type": "execute_result"
    }
   ],
   "source": [
    "# creating of train, test and valid features and target\n",
    "features = data_fixed.drop('exited', axis=1)\n",
    "target = data_fixed['exited']\n",
    "\n",
    "features_train, features_rem, target_train, target_rem = train_test_split(\n",
    "    features, target, test_size=0.3, random_state=69)\n",
    "\n",
    "features_test, features_valid, target_test, target_valid = train_test_split(\n",
    "    features_rem, target_rem, test_size=0.25, random_state=69)\n",
    "\n",
    "# check the result\n",
    "pd.DataFrame({\n",
    "    'Type': ['default', 'train', 'test', 'valid'],\n",
    "    'Features split size': [features.shape, features_train.shape, features_test.shape, features_valid.shape],\n",
    "    'Target split size': [target.shape, target_train.shape, target_test.shape, target_valid.shape]})"
   ]
  },
  {
   "cell_type": "markdown",
   "id": "8f4ad828",
   "metadata": {},
   "source": [
    "Now we construct standard scaler for calculating of Logistic Regression model, because our target is uneven distribution."
   ]
  },
  {
   "cell_type": "code",
   "execution_count": 20,
   "id": "8cb3048a",
   "metadata": {},
   "outputs": [],
   "source": [
    "scaler = StandardScaler()\n",
    "scaler.fit(features_train)\n",
    "\n",
    "features_train_scaled = scaler.transform(features_train)\n",
    "features_test_scaled = scaler.transform(features_test) \n",
    "features_valid_scaled = scaler.transform(features_valid) "
   ]
  },
  {
   "cell_type": "markdown",
   "id": "699992ce",
   "metadata": {},
   "source": [
    "### Decision Tree ###"
   ]
  },
  {
   "cell_type": "code",
   "execution_count": 21,
   "id": "d3e2a32c",
   "metadata": {},
   "outputs": [
    {
     "name": "stdout",
     "output_type": "stream",
     "text": [
      "Best accuracy for DT: 0.86\n",
      "Best depth for DT: 7\n",
      "\n",
      "CPU times: total: 812 ms\n",
      "Wall time: 1.01 s\n"
     ]
    }
   ],
   "source": [
    "%%time\n",
    "\n",
    "# variables for best results of hyperparameters\n",
    "best_score_tree = 0\n",
    "best_depth_tree = 0\n",
    "\n",
    "# loop for find best depth\n",
    "for depth in range(1, 20, 1):\n",
    "    model_tree = DecisionTreeClassifier(max_depth=depth, random_state=69)\n",
    "    model_tree.fit(features_train, target_train)\n",
    "    \n",
    "    predicted_tree = model_tree.predict(features_valid)\n",
    "    tree_score = accuracy_score(target_valid, predicted_tree)\n",
    "    \n",
    "    if tree_score > best_score_tree:\n",
    "        best_score_tree = tree_score\n",
    "        best_depth_tree = depth\n",
    "\n",
    "print('Best accuracy for DT:', best_score_tree)\n",
    "print('Best depth for DT:', best_depth_tree)\n",
    "print('')"
   ]
  },
  {
   "cell_type": "markdown",
   "id": "38887be8",
   "metadata": {},
   "source": [
    "### Random Forest ###"
   ]
  },
  {
   "cell_type": "code",
   "execution_count": 22,
   "id": "d5beb9e0",
   "metadata": {},
   "outputs": [
    {
     "name": "stdout",
     "output_type": "stream",
     "text": [
      "Best accuracy for RF: 0.8666666666666667\n",
      "Best depth for RF: 14\n",
      "\n",
      "CPU times: total: 6.36 s\n",
      "Wall time: 7.46 s\n"
     ]
    }
   ],
   "source": [
    "%%time\n",
    "\n",
    "# same as for decision tree\n",
    "# start loop by 20 trees\n",
    "best_score_forest = 0\n",
    "best_depth_forest = 0\n",
    "\n",
    "for depth in range(1, 30, 1):\n",
    "    model_forest = RandomForestClassifier(n_estimators=20, max_depth=depth, random_state=69)\n",
    "    model_forest.fit(features_train, target_train)\n",
    "        \n",
    "    predicted_forest = model_forest.predict(features_valid)\n",
    "    forest_score = accuracy_score(target_valid, predicted_forest)\n",
    "        \n",
    "    if forest_score > best_score_forest:\n",
    "        best_score_forest = forest_score\n",
    "        best_depth_forest = depth\n",
    "            \n",
    "print('Best accuracy for RF:', best_score_forest)\n",
    "print('Best depth for RF:', best_depth_forest)\n",
    "print('')"
   ]
  },
  {
   "cell_type": "code",
   "execution_count": 23,
   "id": "3f5b7374",
   "metadata": {},
   "outputs": [
    {
     "name": "stdout",
     "output_type": "stream",
     "text": [
      "Best accuracy: 0.868\n",
      "Best estimators: 57\n",
      "Best depth: 10\n",
      "\n",
      "CPU times: total: 5min\n",
      "Wall time: 5min 13s\n"
     ]
    }
   ],
   "source": [
    "%%time\n",
    "\n",
    "best_score_forest = 0\n",
    "best_est_forest = 0\n",
    "best_depth_forest = 0\n",
    "\n",
    "# loop for find best estimators and depth\n",
    "for est in range(1, 60, 1):\n",
    "    for depth in range(1, 20, 1):\n",
    "        model_forest = RandomForestClassifier(n_estimators=est, max_depth=depth, random_state=69)\n",
    "        model_forest.fit(features_train, target_train)\n",
    "        \n",
    "        predicted_forest = model_forest.predict(features_test)\n",
    "        forest_score = accuracy_score(target_test, predicted_forest)\n",
    "        \n",
    "        if forest_score > best_score_forest:\n",
    "            best_score_forest = forest_score\n",
    "            best_est_forest = est\n",
    "            best_depth_forest = depth\n",
    "            \n",
    "print('Best accuracy:', best_score_forest)\n",
    "print('Best estimators:', best_est_forest)\n",
    "print('Best depth:', best_depth_forest)\n",
    "print('')"
   ]
  },
  {
   "cell_type": "code",
   "execution_count": 24,
   "id": "ec3dab36",
   "metadata": {},
   "outputs": [
    {
     "data": {
      "text/html": [
       "<div>\n",
       "<style scoped>\n",
       "    .dataframe tbody tr th:only-of-type {\n",
       "        vertical-align: middle;\n",
       "    }\n",
       "\n",
       "    .dataframe tbody tr th {\n",
       "        vertical-align: top;\n",
       "    }\n",
       "\n",
       "    .dataframe thead th {\n",
       "        text-align: right;\n",
       "    }\n",
       "</style>\n",
       "<table border=\"1\" class=\"dataframe\">\n",
       "  <thead>\n",
       "    <tr style=\"text-align: right;\">\n",
       "      <th></th>\n",
       "      <th>Classification</th>\n",
       "      <th>Best accuracy</th>\n",
       "      <th>Best depth</th>\n",
       "      <th>Best estimators</th>\n",
       "    </tr>\n",
       "  </thead>\n",
       "  <tbody>\n",
       "    <tr>\n",
       "      <th>0</th>\n",
       "      <td>Decision Tree</td>\n",
       "      <td>0.860</td>\n",
       "      <td>7</td>\n",
       "      <td>-</td>\n",
       "    </tr>\n",
       "    <tr>\n",
       "      <th>1</th>\n",
       "      <td>Random Forest</td>\n",
       "      <td>0.868</td>\n",
       "      <td>10</td>\n",
       "      <td>57</td>\n",
       "    </tr>\n",
       "  </tbody>\n",
       "</table>\n",
       "</div>"
      ],
      "text/plain": [
       "  Classification  Best accuracy  Best depth Best estimators\n",
       "0  Decision Tree          0.860           7               -\n",
       "1  Random Forest          0.868          10              57"
      ]
     },
     "execution_count": 24,
     "metadata": {},
     "output_type": "execute_result"
    }
   ],
   "source": [
    "# соберем полученную информацию в наглядную таблицу\n",
    "pd.DataFrame({\n",
    "    'Classification': ['Decision Tree', 'Random Forest'],\n",
    "    'Best accuracy': [best_score_tree, best_score_forest],\n",
    "    'Best depth': [best_depth_tree, best_depth_forest],\n",
    "    'Best estimators': ['-', best_est_forest]\n",
    "})"
   ]
  },
  {
   "cell_type": "markdown",
   "id": "22bb6027",
   "metadata": {},
   "source": [
    "<div class = \"alert alert-info\" style=\"border-left: 7px solid blue\">\n",
    "\n",
    "### Total of preparing model ###\n",
    "After construct models and check them their accuracy, we got best result from \"Random Forest\" method with hyperparameters **n_estimators=57** и **max_depth=10**."
   ]
  },
  {
   "cell_type": "markdown",
   "id": "f18a488e",
   "metadata": {},
   "source": [
    "## F-score for disbalanced sample ##"
   ]
  },
  {
   "cell_type": "markdown",
   "id": "43ac727c",
   "metadata": {},
   "source": [
    "### Decision Tree ###"
   ]
  },
  {
   "cell_type": "code",
   "execution_count": 25,
   "id": "13951299",
   "metadata": {},
   "outputs": [],
   "source": [
    "# constructing model with previous best hyperparameters\n",
    "model_tree = DecisionTreeClassifier(max_depth=best_depth_tree, random_state=69)\n",
    "model_tree.fit(features_train, target_train)\n",
    "    \n",
    "predicted_tree = model_tree.predict(features_test)\n",
    "\n",
    "# calculating accuracy, precision, recall and f-score\n",
    "tree_score = accuracy_score(target_test, predicted_tree)\n",
    "precision_tree = precision_score(target_test, predicted_tree)\n",
    "recall_tree = recall_score(target_test, predicted_tree)\n",
    "f_score_tree = f1_score(target_test, predicted_tree)"
   ]
  },
  {
   "cell_type": "markdown",
   "id": "c2c72b94",
   "metadata": {},
   "source": [
    "### Random Forest ###"
   ]
  },
  {
   "cell_type": "code",
   "execution_count": 26,
   "id": "67801b04",
   "metadata": {},
   "outputs": [],
   "source": [
    "#same as for decision tree, but for random forest\n",
    "\n",
    "model_forest = RandomForestClassifier(n_estimators=best_est_forest, max_depth=best_depth_forest, random_state=69)\n",
    "model_forest.fit(features_train, target_train)\n",
    "        \n",
    "predicted_forest = model_forest.predict(features_test)\n",
    "\n",
    "forest_score = accuracy_score(target_test, predicted_forest)\n",
    "precision_forest = precision_score(target_test, predicted_forest)\n",
    "recall_forest = recall_score(target_test, predicted_forest)\n",
    "f_score_forest = f1_score(target_test, predicted_forest)"
   ]
  },
  {
   "cell_type": "markdown",
   "id": "955c3e56",
   "metadata": {},
   "source": [
    "### Logistic Regression ###"
   ]
  },
  {
   "cell_type": "code",
   "execution_count": 27,
   "id": "766a35cf",
   "metadata": {},
   "outputs": [
    {
     "name": "stdout",
     "output_type": "stream",
     "text": [
      "Accuracy LR: 0.8026666666666666\n",
      "Precision LR: 0.7166666666666667\n",
      "Rcall LR: 0.2471264367816092\n",
      "F-score LR: 0.36752136752136755\n"
     ]
    }
   ],
   "source": [
    "model_lr = LogisticRegression(max_iter=1500, solver='lbfgs', random_state=69)\n",
    "model_lr.fit(features_train_scaled, target_train)\n",
    "\n",
    "predicted_lr = model_lr.predict(features_valid_scaled)\n",
    "\n",
    "score_lr = model_lr.score(features_valid_scaled, target_valid)\n",
    "precision_lr = precision_score(target_valid, predicted_lr)\n",
    "recall_lr = recall_score(target_valid, predicted_lr)\n",
    "f_score_lr = f1_score(target_valid, predicted_lr)\n",
    "\n",
    "print('Accuracy LR:', score_lr)\n",
    "print('Precision LR:', precision_lr)\n",
    "print('Rcall LR:', recall_lr)\n",
    "print('F-score LR:', f_score_lr)"
   ]
  },
  {
   "cell_type": "code",
   "execution_count": 28,
   "id": "d65290e0",
   "metadata": {},
   "outputs": [
    {
     "data": {
      "text/html": [
       "<div>\n",
       "<style scoped>\n",
       "    .dataframe tbody tr th:only-of-type {\n",
       "        vertical-align: middle;\n",
       "    }\n",
       "\n",
       "    .dataframe tbody tr th {\n",
       "        vertical-align: top;\n",
       "    }\n",
       "\n",
       "    .dataframe thead th {\n",
       "        text-align: right;\n",
       "    }\n",
       "</style>\n",
       "<table border=\"1\" class=\"dataframe\">\n",
       "  <thead>\n",
       "    <tr style=\"text-align: right;\">\n",
       "      <th></th>\n",
       "      <th>Metric</th>\n",
       "      <th>acc_score</th>\n",
       "      <th>precision_score</th>\n",
       "      <th>recall_score</th>\n",
       "      <th>f_score</th>\n",
       "    </tr>\n",
       "  </thead>\n",
       "  <tbody>\n",
       "    <tr>\n",
       "      <th>0</th>\n",
       "      <td>Decision Tree</td>\n",
       "      <td>0.860000</td>\n",
       "      <td>0.722045</td>\n",
       "      <td>0.497797</td>\n",
       "      <td>0.589309</td>\n",
       "    </tr>\n",
       "    <tr>\n",
       "      <th>1</th>\n",
       "      <td>Random Forest</td>\n",
       "      <td>0.868000</td>\n",
       "      <td>0.789668</td>\n",
       "      <td>0.471366</td>\n",
       "      <td>0.590345</td>\n",
       "    </tr>\n",
       "    <tr>\n",
       "      <th>2</th>\n",
       "      <td>Logistic Regression</td>\n",
       "      <td>0.802667</td>\n",
       "      <td>0.716667</td>\n",
       "      <td>0.247126</td>\n",
       "      <td>0.367521</td>\n",
       "    </tr>\n",
       "  </tbody>\n",
       "</table>\n",
       "</div>"
      ],
      "text/plain": [
       "                Metric  acc_score  precision_score  recall_score   f_score\n",
       "0        Decision Tree   0.860000         0.722045      0.497797  0.589309\n",
       "1        Random Forest   0.868000         0.789668      0.471366  0.590345\n",
       "2  Logistic Regression   0.802667         0.716667      0.247126  0.367521"
      ]
     },
     "execution_count": 28,
     "metadata": {},
     "output_type": "execute_result"
    }
   ],
   "source": [
    "# create a table to show the results\n",
    "\n",
    "f_score_disbalanced = pd.DataFrame({\n",
    "    'Metric': ['Decision Tree', 'Random Forest', 'Logistic Regression'],\n",
    "    'acc_score': [tree_score, forest_score, score_lr],\n",
    "    'precision_score': [precision_tree, precision_forest, precision_lr], \n",
    "    'recall_score': [recall_tree, recall_forest, recall_lr], \n",
    "    'f_score': [f_score_tree, f_score_forest, f_score_lr]\n",
    "})\n",
    "\n",
    "f_score_disbalanced"
   ]
  },
  {
   "cell_type": "markdown",
   "id": "8000dc48",
   "metadata": {},
   "source": [
    "<div class = \"alert alert-info\">\n",
    "\n",
    "### Total for disbalanced models ###\n",
    "\n",
    "Random Forest got the best f-score of other two models - 0.59. Next we will use this model with best hyperparameters for compare with balanced model."
   ]
  },
  {
   "cell_type": "markdown",
   "id": "6d3c80f9",
   "metadata": {},
   "source": [
    "## F-score for balanced sample ##"
   ]
  },
  {
   "cell_type": "markdown",
   "id": "35956ecc",
   "metadata": {},
   "source": [
    "### Decision Tree ###"
   ]
  },
  {
   "cell_type": "markdown",
   "id": "aa0b5537",
   "metadata": {},
   "source": [
    "Below we doing same steps for cunstructing models as in previous cells, but now we balancing classes with special method for each model."
   ]
  },
  {
   "cell_type": "code",
   "execution_count": 29,
   "id": "b46edb39",
   "metadata": {},
   "outputs": [
    {
     "name": "stdout",
     "output_type": "stream",
     "text": [
      "Лучшая доля правильных ответов: 0.7946666666666666\n",
      "Лучшее число ветвей дерева: 19\n",
      "\n",
      "CPU times: total: 734 ms\n",
      "Wall time: 786 ms\n"
     ]
    }
   ],
   "source": [
    "%%time\n",
    "\n",
    "\n",
    "best_score_tree = 0\n",
    "best_depth_tree = 0\n",
    "\n",
    "for depth in range(1, 20, 1):\n",
    "    model_tree = DecisionTreeClassifier(max_depth=depth, random_state=69, class_weight='balanced')\n",
    "    model_tree.fit(features_train, target_train)\n",
    "    \n",
    "    predicted_tree = model_tree.predict(features_valid)\n",
    "    tree_score = accuracy_score(target_valid, predicted_tree)\n",
    "    \n",
    "    if tree_score > best_score_tree:\n",
    "        best_score_tree = tree_score\n",
    "        best_depth_tree = depth\n",
    "\n",
    "print('Best accuracy DT:', best_score_tree)\n",
    "print('Best depth DT:', best_depth_tree)\n",
    "print('')"
   ]
  },
  {
   "cell_type": "code",
   "execution_count": 30,
   "id": "1dacddce",
   "metadata": {},
   "outputs": [
    {
     "name": "stdout",
     "output_type": "stream",
     "text": [
      "Доля положительных предсказаний: 0.7946666666666666\n",
      "Доля правильных положительных предсказаний: 0.5625\n",
      "Объем правильных положительных предсказаний: 0.5172413793103449\n",
      "Среднее гармоническое: 0.5389221556886229\n"
     ]
    }
   ],
   "source": [
    "model_tree_total = DecisionTreeClassifier(max_depth=best_depth_tree, random_state=69, class_weight='balanced')\n",
    "model_tree_total.fit(features_train, target_train)\n",
    "\n",
    "predicted_tree_valid = model_tree_total.predict(features_valid)\n",
    "\n",
    "# calculate f-score\n",
    "score_tree = model_tree_total.score(features_valid, target_valid)\n",
    "precision_tree = precision_score(target_valid, predicted_tree_valid)\n",
    "recall_tree = recall_score(target_valid, predicted_tree_valid)\n",
    "f_score_tree = f1_score(target_valid, predicted_tree_valid)\n",
    "\n",
    "print('Доля положительных предсказаний:', score_tree)\n",
    "print('Доля правильных положительных предсказаний:', precision_tree)\n",
    "print('Объем правильных положительных предсказаний:', recall_tree)\n",
    "print('Среднее гармоническое:', f_score_tree)"
   ]
  },
  {
   "cell_type": "markdown",
   "id": "48022457",
   "metadata": {},
   "source": [
    "### Random Forest ###"
   ]
  },
  {
   "cell_type": "code",
   "execution_count": 31,
   "id": "b7221898",
   "metadata": {},
   "outputs": [
    {
     "name": "stdout",
     "output_type": "stream",
     "text": [
      "Лучшая доля правильных ответов: 0.8666666666666667\n",
      "Лучшее число деревьев: 27\n",
      "Лучшее число ветвей леса: 16\n",
      "\n",
      "CPU times: total: 4min 49s\n",
      "Wall time: 4min 56s\n"
     ]
    }
   ],
   "source": [
    "%%time\n",
    "\n",
    "best_score_forest = 0\n",
    "best_est_forest = 0\n",
    "best_depth_forest = 0\n",
    "\n",
    "# пройдемся циклом по числу деревьев в лесу и количеству ветвей для каждого из них \n",
    "# для поиска наилучшей доли правильных ответов, числа деревьев и количеству ветвей\n",
    "for est in range(1, 60, 1):\n",
    "    for depth in range(1, 20, 1):\n",
    "        model_forest = RandomForestClassifier(\n",
    "            n_estimators=est, max_depth=depth, random_state=69, class_weight='balanced')\n",
    "        model_forest.fit(features_train, target_train)\n",
    "        \n",
    "        predicted_forest = model_forest.predict(features_valid)\n",
    "        forest_score = accuracy_score(target_valid, predicted_forest)\n",
    "        \n",
    "        if forest_score > best_score_forest:\n",
    "            best_score_forest = forest_score\n",
    "            best_est_forest = est\n",
    "            best_depth_forest = depth\n",
    "            \n",
    "print('Accuracy RF:', best_score_forest)\n",
    "print('Best estimators RF:', best_est_forest)\n",
    "print('Best depth RF:', best_depth_forest)\n",
    "print('')"
   ]
  },
  {
   "cell_type": "code",
   "execution_count": 32,
   "id": "40921105",
   "metadata": {
    "scrolled": true
   },
   "outputs": [
    {
     "name": "stdout",
     "output_type": "stream",
     "text": [
      "Доля положительных предсказаний: 0.8666666666666667\n",
      "Доля правильных положительных предсказаний: 0.8083333333333333\n",
      "Объем правильных положительных предсказаний: 0.5574712643678161\n",
      "Среднее гармоническое: 0.6598639455782314\n"
     ]
    }
   ],
   "source": [
    "# construct random forest model with best hyperparameters\n",
    "model_forest_total = RandomForestClassifier(\n",
    "    n_estimators=best_est_forest, max_depth=best_depth_forest, random_state=69, class_weight='balanced')\n",
    "model_forest_total.fit(features_train, target_train)\n",
    "\n",
    "predicted_forest_valid = model_forest_total.predict(features_valid)\n",
    "\n",
    "# calculate f-score\n",
    "score_forest = model_forest_total.score(features_valid, target_valid)\n",
    "precision_forest = precision_score(target_valid, predicted_forest_valid)\n",
    "recall_forest = recall_score(target_valid, predicted_forest_valid)\n",
    "f_score_forest = f1_score(target_valid, predicted_forest_valid)\n",
    "\n",
    "print('Accuracy RF:', score_forest)\n",
    "print('Precision RF:', precision_forest)\n",
    "print('Recall RF:', recall_forest)\n",
    "print('F-score RF:', f_score_forest)"
   ]
  },
  {
   "cell_type": "markdown",
   "id": "a64de714",
   "metadata": {},
   "source": [
    "### Logistic Regression ###"
   ]
  },
  {
   "cell_type": "markdown",
   "id": "40b7d8c0",
   "metadata": {},
   "source": [
    "For LR model we will use scaled features with balanced class weight."
   ]
  },
  {
   "cell_type": "code",
   "execution_count": 33,
   "id": "391bd3b6",
   "metadata": {},
   "outputs": [
    {
     "name": "stdout",
     "output_type": "stream",
     "text": [
      "Доля положительных предсказаний: 0.7\n",
      "Доля правильных положительных предсказаний: 0.41471571906354515\n",
      "Объем правильных положительных предсказаний: 0.7126436781609196\n",
      "Среднее гармоническое: 0.5243128964059197\n"
     ]
    }
   ],
   "source": [
    "model_lr = LogisticRegression(max_iter=1500, solver='lbfgs', random_state=69, class_weight='balanced')\n",
    "model_lr.fit(features_train_scaled, target_train)\n",
    "\n",
    "predicted_lr = model_lr.predict(features_valid_scaled)\n",
    "\n",
    "score_lr = model_lr.score(features_valid_scaled, target_valid)\n",
    "precision_lr = precision_score(target_valid, predicted_lr)\n",
    "recall_lr = recall_score(target_valid, predicted_lr)\n",
    "f_score_lr = f1_score(target_valid, predicted_lr)\n",
    "\n",
    "print('Accuracy LR:', score_lr)\n",
    "print('Precision LR:', precision_lr)\n",
    "print('Recall LR:', recall_lr)\n",
    "print('F-score LR:', f_score_lr)"
   ]
  },
  {
   "cell_type": "code",
   "execution_count": 34,
   "id": "133d4e3e",
   "metadata": {},
   "outputs": [
    {
     "data": {
      "text/html": [
       "<div>\n",
       "<style scoped>\n",
       "    .dataframe tbody tr th:only-of-type {\n",
       "        vertical-align: middle;\n",
       "    }\n",
       "\n",
       "    .dataframe tbody tr th {\n",
       "        vertical-align: top;\n",
       "    }\n",
       "\n",
       "    .dataframe thead th {\n",
       "        text-align: right;\n",
       "    }\n",
       "</style>\n",
       "<table border=\"1\" class=\"dataframe\">\n",
       "  <thead>\n",
       "    <tr style=\"text-align: right;\">\n",
       "      <th></th>\n",
       "      <th>Тип метрики</th>\n",
       "      <th>acc_score</th>\n",
       "      <th>precision_score</th>\n",
       "      <th>recall_score</th>\n",
       "      <th>f_score</th>\n",
       "    </tr>\n",
       "  </thead>\n",
       "  <tbody>\n",
       "    <tr>\n",
       "      <th>0</th>\n",
       "      <td>Дерево решений</td>\n",
       "      <td>0.794667</td>\n",
       "      <td>0.562500</td>\n",
       "      <td>0.517241</td>\n",
       "      <td>0.538922</td>\n",
       "    </tr>\n",
       "    <tr>\n",
       "      <th>1</th>\n",
       "      <td>Случайный лес</td>\n",
       "      <td>0.866667</td>\n",
       "      <td>0.808333</td>\n",
       "      <td>0.557471</td>\n",
       "      <td>0.659864</td>\n",
       "    </tr>\n",
       "    <tr>\n",
       "      <th>2</th>\n",
       "      <td>Логистическая регрессия</td>\n",
       "      <td>0.700000</td>\n",
       "      <td>0.414716</td>\n",
       "      <td>0.712644</td>\n",
       "      <td>0.524313</td>\n",
       "    </tr>\n",
       "  </tbody>\n",
       "</table>\n",
       "</div>"
      ],
      "text/plain": [
       "               Тип метрики  acc_score  precision_score  recall_score   f_score\n",
       "0           Дерево решений   0.794667         0.562500      0.517241  0.538922\n",
       "1            Случайный лес   0.866667         0.808333      0.557471  0.659864\n",
       "2  Логистическая регрессия   0.700000         0.414716      0.712644  0.524313"
      ]
     },
     "metadata": {},
     "output_type": "display_data"
    }
   ],
   "source": [
    "#сформируем таблицу для наглядности полученных результатов\n",
    "\n",
    "f_score_balanced = pd.DataFrame({\n",
    "    'Metrics': ['Decision Tree', 'Random Forest', 'Logistic Regression'],\n",
    "    'acc_score': [score_tree, score_forest, score_lr],\n",
    "    'precision_score': [precision_tree, precision_forest, precision_lr],\n",
    "    'recall_score': [recall_tree, recall_forest, recall_lr],\n",
    "    'f_score': [f_score_tree, f_score_forest, f_score_lr]\n",
    "})\n",
    "\n",
    "\n",
    "display(f_score_balanced)"
   ]
  },
  {
   "cell_type": "markdown",
   "id": "d21bccee",
   "metadata": {},
   "source": [
    "<div class = \"alert alert-info\" style=\"border-left: 7px solid blue\">\n",
    "\n",
    "### Total for balanced models ###\n",
    "\n",
    "After constructing models with balanced classes, **Random Forest** has show best result - ~0.66 f-score. This result is muuch higher than our previous f-score in Random Forest model, which was builded on the disbalanced samples.\n",
    "    \n",
    "Also we can see, what Logistic Regression have bad results even after we scaled our features samples and balanced classes. Major reason - disbalance of classes in geniune data."
   ]
  },
  {
   "cell_type": "markdown",
   "id": "b5209e20",
   "metadata": {},
   "source": [
    "## Auc-Roc ##"
   ]
  },
  {
   "cell_type": "markdown",
   "id": "183747f5",
   "metadata": {},
   "source": [
    "Below we construct two models - best from disbalance and best from balanced samples."
   ]
  },
  {
   "cell_type": "markdown",
   "id": "149f67cd",
   "metadata": {},
   "source": [
    "## Threshold change ##"
   ]
  },
  {
   "cell_type": "code",
   "execution_count": 35,
   "id": "f269ce42",
   "metadata": {},
   "outputs": [
    {
     "data": {
      "image/png": "[encoded data removed]",
      "text/plain": [
       "<Figure size 504x504 with 1 Axes>"
      ]
     },
     "metadata": {
      "needs_background": "light"
     },
     "output_type": "display_data"
    }
   ],
   "source": [
    "# threshold change for disbalanced random forest and separate list of precision, recall и threshold values\n",
    "proba_valid_disbalanced = model_tree.predict_proba(features_valid)\n",
    "precision_disbalanced, recall_disbalanced, thresholds_disbalanced = precision_recall_curve(\n",
    "    target_valid, proba_valid_disbalanced[:, 1])\n",
    "\n",
    "# same for abalanced\n",
    "proba_valid_balanced = model_forest_total.predict_proba(features_valid)\n",
    "precision_balanced, recall_balanced, thresholds_balanced = precision_recall_curve(target_valid, proba_valid_balanced[:, 1])\n",
    "\n",
    "# build PR-arc\n",
    "plt.figure(figsize=(7, 7))\n",
    "plt.step(recall_disbalanced, precision_disbalanced, where='post')\n",
    "plt.step(recall_balanced, precision_balanced, where='post')\n",
    "\n",
    "# parameters for graphic and returning result\n",
    "plt.legend(['Disbalanced', 'Balanced'])\n",
    "plt.xlabel('Recall')\n",
    "plt.ylabel('Precision')\n",
    "plt.ylim([0.0, 1.05])\n",
    "plt.xlim([0.0, 1.0])\n",
    "plt.title('Кривая Precision-Recall')\n",
    "plt.show() "
   ]
  },
  {
   "cell_type": "markdown",
   "id": "0468f1f3",
   "metadata": {},
   "source": [
    "Construct ROC-arc and fing AUC for disbalanced and balanced models"
   ]
  },
  {
   "cell_type": "code",
   "execution_count": 36,
   "id": "72f2a6aa",
   "metadata": {},
   "outputs": [
    {
     "data": {
      "image/png": "[encoded data removed]",
      "text/plain": [
       "<Figure size 648x648 with 1 Axes>"
      ]
     },
     "metadata": {
      "needs_background": "light"
     },
     "output_type": "display_data"
    },
    {
     "name": "stdout",
     "output_type": "stream",
     "text": [
      "0.6996527777777777\n",
      "0.8542714319923371\n"
     ]
    }
   ],
   "source": [
    "# threshold change for disbalanced and balanced models\n",
    "proba_valid_disbalanced = model_tree.predict_proba(features_valid)\n",
    "proba_one_valid_disbalanced = proba_valid_disbalanced[:, 1]\n",
    "\n",
    "# changing threshold for balanced model\n",
    "proba_valid_balanced = model_forest_total.predict_proba(features_valid)\n",
    "proba_one_valid_balanced = proba_valid_balanced[:, 1]\n",
    "\n",
    "# fpr, tpr and thresholds parameters for ROC-curve\n",
    "fpr_disbalanced, tpr_disbalanced, thresholds_disbalanced = roc_curve(target_valid, proba_one_valid_disbalanced)\n",
    "fpr, tpr, thresholds = roc_curve(target_valid, proba_one_valid_balanced)\n",
    "\n",
    "# graphic parameters\n",
    "plt.figure(figsize=(9,9))\n",
    "\n",
    "plt.plot([0, 1], [0, 1], linestyle='--')\n",
    "plt.plot(fpr_disbalanced, tpr_disbalanced, linestyle='-.')\n",
    "plt.plot(fpr, tpr, linestyle='-')\n",
    "plt.xlim([0, 1])\n",
    "plt.ylim([0, 1])\n",
    "plt.legend(['Random Model', 'Disbalanced', 'Balanced'])\n",
    "plt.title('ROC-кривая')\n",
    "plt.xlabel('False Positive Rate')\n",
    "plt.ylabel('True Positive Rate')\n",
    "\n",
    "plt.show()\n",
    "\n",
    "# найдем площадь под кривыми моделей\n",
    "print(roc_auc_score(target_valid, proba_one_valid_disbalanced))\n",
    "print(roc_auc_score(target_valid, proba_one_valid_balanced))"
   ]
  },
  {
   "cell_type": "markdown",
   "id": "ff782b59",
   "metadata": {},
   "source": [
    "<div class = \"alert alert-info\" style=\"border-left: 7px solid blue\">\n",
    "\n",
    "### Total of ROC-AUC ###\n",
    "\n",
    "As we can see, balanced model have overwhelming superiority above disbalanced - 0.85 > 0.7."
   ]
  },
  {
   "cell_type": "markdown",
   "id": "f155b1b5",
   "metadata": {},
   "source": [
    "Below we will check model results for upscaled and downscaled samples."
   ]
  },
  {
   "cell_type": "markdown",
   "id": "0f9335be",
   "metadata": {},
   "source": [
    "## Upscaling ##"
   ]
  },
  {
   "cell_type": "code",
   "execution_count": 37,
   "id": "c1bafcf5",
   "metadata": {
    "scrolled": true
   },
   "outputs": [
    {
     "name": "stdout",
     "output_type": "stream",
     "text": [
      "(40816, 10)\n",
      "(40816,)\n"
     ]
    }
   ],
   "source": [
    "# creating func of upscaling\n",
    "def upscaled(features, target, repeat):\n",
    "    features_zeros = features[target==0]\n",
    "    features_ones = features[target==1]\n",
    "    target_zeros = target[target==0]\n",
    "    target_ones = target[target==1]\n",
    "    \n",
    "    features_upsampled = pd.concat([features_zeros] + [features_ones] * repeat)\n",
    "    target_upsampled = pd.concat([target_zeros] + [target_ones] * repeat)\n",
    "    \n",
    "    features_upsampled, target_upsampled = shuffle(\n",
    "        features_upsampled, target_upsampled, random_state=69)\n",
    "    \n",
    "    return features_upsampled, target_upsampled\n",
    "\n",
    "# using func to train samples\n",
    "features_upscaled, target_upscaled = upscaled(features_train, target_train, 25)\n",
    "\n",
    "# check the result\n",
    "print(features_upscaled.shape)\n",
    "print(target_upscaled.shape)"
   ]
  },
  {
   "cell_type": "markdown",
   "id": "13b5cfd7",
   "metadata": {},
   "source": [
    "### Decision Tree ###"
   ]
  },
  {
   "cell_type": "code",
   "execution_count": 38,
   "id": "87bb4aef",
   "metadata": {
    "scrolled": true
   },
   "outputs": [
    {
     "name": "stdout",
     "output_type": "stream",
     "text": [
      "Лучшая доля правильных ответов: 0.76\n",
      "Лучшее число ветвей дерева: 19\n",
      "\n"
     ]
    }
   ],
   "source": [
    "# variables for best results\n",
    "best_score_tree_upscaled = 0\n",
    "best_depth_tree_upscaled = 0\n",
    "\n",
    "# same loop as previous\n",
    "for depth in range(1, 20, 1):\n",
    "    model_tree_upscaled = DecisionTreeClassifier(max_depth=depth, random_state=69)\n",
    "    model_tree_upscaled = model_tree_upscaled.fit(features_upscaled, target_upscaled)\n",
    "    \n",
    "    tree_upscaled_predicted = model_tree_upscaled.predict(features_valid)\n",
    "    score_tree_upscaled = model_tree_upscaled.score(features_valid, target_valid)\n",
    "    \n",
    "    if score_tree_upscaled > best_score_tree_upscaled:\n",
    "        best_score_tree_upscaled = score_tree_upscaled\n",
    "        best_depth_tree_upscaled = depth\n",
    "\n",
    "print('Accuracy DT:', best_score_tree_upscaled)\n",
    "print('Depth DT:', best_depth_tree_upscaled)\n",
    "print('')"
   ]
  },
  {
   "cell_type": "code",
   "execution_count": 39,
   "id": "c20dfd79",
   "metadata": {},
   "outputs": [
    {
     "name": "stdout",
     "output_type": "stream",
     "text": [
      "Доля положительных предсказаний: 0.232\n",
      "Доля правильных положительных предсказаний: 0.232\n",
      "Объем правильных положительных предсказаний: 1.0\n",
      "Среднее гармоническое: 0.37662337662337664\n"
     ]
    }
   ],
   "source": [
    "model_tree_upscaled = DecisionTreeClassifier(max_depth=best_score_tree_upscaled, random_state=69)\n",
    "model_tree_upscaled = model_tree_upscaled.fit(features_upscaled, target_upscaled)\n",
    "    \n",
    "tree_upscaled_predicted = model_tree_upscaled.predict(features_valid)\n",
    "\n",
    "\n",
    "# calculate accuracy, precision, recall and f-score\n",
    "score_tree_upscaled = model_tree_upscaled.score(features_valid, target_valid)\n",
    "precision_tree_upscaled = precision_score(target_valid, tree_upscaled_predicted)\n",
    "recall_tree_upscaled = recall_score(target_valid, tree_upscaled_predicted)\n",
    "f_score_tree_upscaled = f1_score(target_valid, tree_upscaled_predicted)\n",
    "\n",
    "\n",
    "print('Accuracy DT:', score_tree_upscaled)\n",
    "print('Precision DT:', precision_tree_upscaled)\n",
    "print('Recall DT:', recall_tree_upscaled)\n",
    "print('F-score DT:', f_score_tree_upscaled)"
   ]
  },
  {
   "cell_type": "markdown",
   "id": "566edf72",
   "metadata": {},
   "source": [
    "### Random Forest ###"
   ]
  },
  {
   "cell_type": "code",
   "execution_count": 40,
   "id": "6094fe52",
   "metadata": {},
   "outputs": [
    {
     "name": "stdout",
     "output_type": "stream",
     "text": [
      "Лучшая доля правильных ответов: 0.84\n",
      "Лучшее число деревьев: 33\n",
      "Лучшее число ветвей леса: 18\n",
      "\n"
     ]
    }
   ],
   "source": [
    "# dooing same steps as in previous cells\n",
    "best_score_forest_upscaled = 0\n",
    "best_est_forest_upscaled = 0\n",
    "best_depth_forest_upscaled = 0\n",
    "\n",
    "for est in range(1, 60, 1):\n",
    "    for depth in range(1, 20, 1):\n",
    "        model_forest_upscaled = RandomForestClassifier(\n",
    "            n_estimators=est, max_depth=depth, random_state=69)\n",
    "        model_forest_upscaled.fit(features_upscaled, target_upscaled)\n",
    "        \n",
    "        predicted_forest_upscaled = model_forest_upscaled.predict(features_valid)\n",
    "        forest_score_upscaled = accuracy_score(target_valid, predicted_forest_upscaled)\n",
    "        \n",
    "        if forest_score_upscaled > best_score_forest_upscaled:\n",
    "            best_score_forest_upscaled = forest_score_upscaled\n",
    "            best_est_forest_upscaled = est\n",
    "            best_depth_forest_upscaled = depth\n",
    "            \n",
    "print('Accuracy RF:', best_score_forest_upscaled)\n",
    "print('Best estimators:', best_est_forest_upscaled)\n",
    "print('Best depth:', best_depth_forest_upscaled)\n",
    "print('')"
   ]
  },
  {
   "cell_type": "code",
   "execution_count": 41,
   "id": "0bf63e50",
   "metadata": {},
   "outputs": [
    {
     "name": "stdout",
     "output_type": "stream",
     "text": [
      "Доля положительных предсказаний: 0.84\n",
      "Доля правильных положительных предсказаний: 0.6607142857142857\n",
      "Объем правильных положительных предсказаний: 0.6379310344827587\n",
      "Среднее гармоническое: 0.6491228070175439\n"
     ]
    }
   ],
   "source": [
    "model_forest_upscaled = RandomForestClassifier(\n",
    "    n_estimators=best_est_forest_upscaled, max_depth=best_depth_forest_upscaled, random_state=69)\n",
    "model_forest_upscaled = model_forest_upscaled.fit(features_upscaled, target_upscaled)\n",
    "\n",
    "forest_upscaled_predicted = model_forest_upscaled.predict(features_valid)\n",
    "\n",
    "# calculate accuracy, precision, recall and f-score\n",
    "score_forest_upscaled = model_forest_upscaled.score(features_valid, target_valid)\n",
    "precision_forest_upscaled = precision_score(target_valid, forest_upscaled_predicted)\n",
    "recall_forest_upscaled = recall_score(target_valid, forest_upscaled_predicted)\n",
    "f_score_forest_upscaled = f1_score(target_valid, forest_upscaled_predicted)\n",
    "\n",
    "\n",
    "print('Score RF:', score_forest_upscaled)\n",
    "print('Precision RF:', precision_forest_upscaled)\n",
    "print('Recall RF:', recall_forest_upscaled)\n",
    "print('F-score RF:', f_score_forest_upscaled)"
   ]
  },
  {
   "cell_type": "markdown",
   "id": "8accc2f6",
   "metadata": {},
   "source": [
    "### Logistic Regression ###"
   ]
  },
  {
   "cell_type": "code",
   "execution_count": 42,
   "id": "64feb9c5",
   "metadata": {},
   "outputs": [
    {
     "name": "stdout",
     "output_type": "stream",
     "text": [
      "Доля положительных предсказаний: 0.24133333333333334\n",
      "Доля правильных положительных предсказаний: 0.23346828609986506\n",
      "Объем правильных положительных предсказаний: 0.9942528735632183\n",
      "Среднее гармоническое: 0.37814207650273224\n"
     ]
    }
   ],
   "source": [
    "model_lr_upscaled = LogisticRegression(max_iter=1500, solver='liblinear', random_state=69)\n",
    "model_lr_upscaled.fit(features_upscaled, target_upscaled)\n",
    "\n",
    "lr_upscaled_predicted = model_lr_upscaled.predict(features_valid)\n",
    "\n",
    "# подсчитаем долю верных ответов, точность, полноту и f-меру\n",
    "score_lr_upscaled = model_lr_upscaled.score(features_valid, target_valid)\n",
    "precision_lr_upscaled = precision_score(target_valid, lr_upscaled_predicted)\n",
    "recall_lr_upscaled = recall_score(target_valid, lr_upscaled_predicted)\n",
    "f_score_lr_upscaled = f1_score(target_valid, lr_upscaled_predicted)\n",
    "\n",
    "print('Score LR:', score_lr_upscaled)\n",
    "print('Precision LR:', precision_lr_upscaled)\n",
    "print('Recall LR:', recall_lr_upscaled)\n",
    "print('F-score LR:', f_score_lr_upscaled)"
   ]
  },
  {
   "cell_type": "code",
   "execution_count": 43,
   "id": "15379b58",
   "metadata": {},
   "outputs": [
    {
     "data": {
      "text/html": [
       "<div>\n",
       "<style scoped>\n",
       "    .dataframe tbody tr th:only-of-type {\n",
       "        vertical-align: middle;\n",
       "    }\n",
       "\n",
       "    .dataframe tbody tr th {\n",
       "        vertical-align: top;\n",
       "    }\n",
       "\n",
       "    .dataframe thead th {\n",
       "        text-align: right;\n",
       "    }\n",
       "</style>\n",
       "<table border=\"1\" class=\"dataframe\">\n",
       "  <thead>\n",
       "    <tr style=\"text-align: right;\">\n",
       "      <th></th>\n",
       "      <th>Тип метрики</th>\n",
       "      <th>acc_score</th>\n",
       "      <th>precision_score</th>\n",
       "      <th>recall_score</th>\n",
       "      <th>f_score</th>\n",
       "    </tr>\n",
       "  </thead>\n",
       "  <tbody>\n",
       "    <tr>\n",
       "      <th>0</th>\n",
       "      <td>Дерево решений</td>\n",
       "      <td>0.232000</td>\n",
       "      <td>0.232000</td>\n",
       "      <td>1.000000</td>\n",
       "      <td>0.376623</td>\n",
       "    </tr>\n",
       "    <tr>\n",
       "      <th>1</th>\n",
       "      <td>Случайный лес</td>\n",
       "      <td>0.840000</td>\n",
       "      <td>0.660714</td>\n",
       "      <td>0.637931</td>\n",
       "      <td>0.649123</td>\n",
       "    </tr>\n",
       "    <tr>\n",
       "      <th>2</th>\n",
       "      <td>Логистическая регрессия</td>\n",
       "      <td>0.241333</td>\n",
       "      <td>0.233468</td>\n",
       "      <td>0.994253</td>\n",
       "      <td>0.378142</td>\n",
       "    </tr>\n",
       "  </tbody>\n",
       "</table>\n",
       "</div>"
      ],
      "text/plain": [
       "               Тип метрики  acc_score  precision_score  recall_score   f_score\n",
       "0           Дерево решений   0.232000         0.232000      1.000000  0.376623\n",
       "1            Случайный лес   0.840000         0.660714      0.637931  0.649123\n",
       "2  Логистическая регрессия   0.241333         0.233468      0.994253  0.378142"
      ]
     },
     "execution_count": 43,
     "metadata": {},
     "output_type": "execute_result"
    }
   ],
   "source": [
    "f_score_upscaled = pd.DataFrame({\n",
    "    'Metrics': ['Decision Tree', 'Random Forest', 'Logistic Regression'],\n",
    "    'acc_score': [score_tree_upscaled, score_forest_upscaled, score_lr_upscaled],\n",
    "    'precision_score': [precision_tree_upscaled, precision_forest_upscaled, precision_lr_upscaled],\n",
    "    'recall_score': [recall_tree_upscaled, recall_forest_upscaled, recall_lr_upscaled],\n",
    "    'f_score': [f_score_tree_upscaled, f_score_forest_upscaled, f_score_lr_upscaled]\n",
    "})\n",
    "\n",
    "f_score_upscaled\n"
   ]
  },
  {
   "cell_type": "markdown",
   "id": "0e0b390c",
   "metadata": {},
   "source": [
    "As previously, **Random Forest** get best result with 0.65 f-score."
   ]
  },
  {
   "cell_type": "markdown",
   "id": "e25ba654",
   "metadata": {},
   "source": [
    "## Downscale sample ##"
   ]
  },
  {
   "cell_type": "code",
   "execution_count": 44,
   "id": "0fdf06a2",
   "metadata": {},
   "outputs": [
    {
     "name": "stdout",
     "output_type": "stream",
     "text": [
      "(1968, 10)\n",
      "(1968,)\n"
     ]
    }
   ],
   "source": [
    "# creating func for downscale samples\n",
    "def downsample(features, target, fraction):\n",
    "    features_zeros = features[target == 0]\n",
    "    features_ones = features[target == 1]\n",
    "    target_zeros = target[target == 0]\n",
    "    target_ones = target[target == 1]\n",
    "\n",
    "    features_downsampled = pd.concat(\n",
    "        [features_zeros.sample(frac=fraction, random_state=69)] + [features_ones])\n",
    "    target_downsampled = pd.concat(\n",
    "        [target_zeros.sample(frac=fraction, random_state=69)] + [target_ones])\n",
    "    \n",
    "    features_downsampled, target_downsampled = shuffle(\n",
    "        features_downsampled, target_downsampled, random_state=69)\n",
    "    \n",
    "    return features_downsampled, target_downsampled\n",
    "\n",
    "# apply func to train samples\n",
    "features_downsampled, target_downsampled = downsample(features_train, target_train, 0.1)\n",
    "\n",
    "# check the result\n",
    "print(features_downsampled.shape)\n",
    "print(target_downsampled.shape)"
   ]
  },
  {
   "cell_type": "markdown",
   "id": "11b7b483",
   "metadata": {},
   "source": [
    "### Decision Tree ###"
   ]
  },
  {
   "cell_type": "code",
   "execution_count": 45,
   "id": "ee9f6951",
   "metadata": {},
   "outputs": [
    {
     "name": "stdout",
     "output_type": "stream",
     "text": [
      "Лучшая доля правильных ответов: 0.6786666666666666\n",
      "Лучшее число ветвей дерева: 1\n",
      "\n"
     ]
    }
   ],
   "source": [
    "best_score_tree_downsampled = 0\n",
    "best_depth_tree_downsampled = 0\n",
    "\n",
    "for depth in range(1, 20, 1):\n",
    "    model_tree_downsampled = DecisionTreeClassifier(max_depth=depth, random_state=69)\n",
    "    model_tree_downsampled = model_tree_downsampled.fit(features_downsampled, target_downsampled)\n",
    "    \n",
    "    tree_downsampled_predicted = model_tree_downsampled.predict(features_valid)\n",
    "    score_tree_downsampled = model_tree_downsampled.score(features_valid, target_valid)\n",
    "    \n",
    "    if score_tree_downsampled > best_score_tree_downsampled:\n",
    "        best_score_tree_downsampled = score_tree_downsampled\n",
    "        best_depth_tree_downsampled = depth\n",
    "\n",
    "print('Score DT:', best_score_tree_downsampled)\n",
    "print('Depth DT:', best_depth_tree_downsampled)\n",
    "print('')"
   ]
  },
  {
   "cell_type": "code",
   "execution_count": 46,
   "id": "80a09d01",
   "metadata": {},
   "outputs": [
    {
     "name": "stdout",
     "output_type": "stream",
     "text": [
      "Доля положительных предсказаний: 0.6786666666666666\n",
      "Доля правильных положительных предсказаний: 0.232\n",
      "Объем правильных положительных предсказаний: 1.0\n",
      "Среднее гармоническое: 0.37662337662337664\n"
     ]
    }
   ],
   "source": [
    "model_tree_downsampled = DecisionTreeClassifier(max_depth=best_depth_tree_downsampled, random_state=69)\n",
    "model_tree_downsampled = model_tree_downsampled.fit(features_downsampled, target_downsampled)\n",
    "\n",
    "tree_downsampled_predicted = model_tree_upscaled.predict(features_valid)\n",
    "\n",
    "# calculate accuracy, precision, recall and f-score\n",
    "score_tree_downsampled = model_tree_downsampled.score(features_valid, target_valid)\n",
    "precision_tree_downsampled = precision_score(target_valid, tree_downsampled_predicted)\n",
    "recall_tree_downsampled = recall_score(target_valid, tree_downsampled_predicted)\n",
    "f_score_tree_downsampled = f1_score(target_valid, tree_downsampled_predicted)\n",
    "\n",
    "print('Accuracy DT:', score_tree_downsampled)\n",
    "print('Precision DT:', precision_tree_downsampled)\n",
    "print('Recall DT:', recall_tree_downsampled)\n",
    "print('F-score DT:', f_score_tree_downsampled)"
   ]
  },
  {
   "cell_type": "markdown",
   "id": "9aae0e8d",
   "metadata": {},
   "source": [
    "### Random Forest ###"
   ]
  },
  {
   "cell_type": "code",
   "execution_count": 47,
   "id": "ad71ef9a",
   "metadata": {},
   "outputs": [
    {
     "name": "stdout",
     "output_type": "stream",
     "text": [
      "Лучшая доля правильных ответов: 0.7146666666666667\n",
      "Лучшее число деревьев: 2\n",
      "Лучшее число ветвей леса: 16\n",
      "\n"
     ]
    }
   ],
   "source": [
    "best_score_forest_downsampled = 0\n",
    "best_est_forest_downsampled = 0\n",
    "best_depth_forest_downsampled = 0\n",
    "\n",
    "for est in range(1, 60, 1):\n",
    "    for depth in range(1, 20, 1):\n",
    "        model_forest_downsampled = RandomForestClassifier(\n",
    "            n_estimators=est, max_depth=depth, random_state=69)\n",
    "        model_forest_downsampled.fit(features_downsampled, target_downsampled)\n",
    "        \n",
    "        predicted_forest_downsampled = model_forest_downsampled.predict(features_valid)\n",
    "        forest_score_downsampled = accuracy_score(target_valid, predicted_forest_downsampled)\n",
    "        \n",
    "        if forest_score_downsampled > best_score_forest_downsampled:\n",
    "            best_score_forest_downsampled = forest_score_downsampled\n",
    "            best_est_forest_downsampled = est\n",
    "            best_depth_forest_downsampled = depth\n",
    "            \n",
    "print('Score RF:', best_score_forest_downsampled)\n",
    "print('Best estimators RF:', best_est_forest_downsampled)\n",
    "print('Best depth RF:', best_depth_forest_downsampled)\n",
    "print('')"
   ]
  },
  {
   "cell_type": "code",
   "execution_count": 48,
   "id": "61d5a156",
   "metadata": {},
   "outputs": [
    {
     "name": "stdout",
     "output_type": "stream",
     "text": [
      "Доля положительных предсказаний: 0.7146666666666667\n",
      "Доля правильных положительных предсказаний: 0.42805755395683454\n",
      "Объем правильных положительных предсказаний: 0.6839080459770115\n",
      "Среднее гармоническое: 0.5265486725663717\n"
     ]
    }
   ],
   "source": [
    "model_forest_downsampled = RandomForestClassifier(\n",
    "    n_estimators=best_est_forest_downsampled, max_depth=best_depth_forest_downsampled, random_state=69)\n",
    "model_forest_downsampled = model_forest_downsampled.fit(features_downsampled, target_downsampled)\n",
    "\n",
    "forest_downsampled_predicted = model_forest_downsampled.predict(features_valid)\n",
    "\n",
    "# # calculate accuracy, precision, recall and f-score\n",
    "score_forest_downsampled = model_forest_downsampled.score(features_valid, target_valid)\n",
    "precision_forest_downsampled = precision_score(target_valid, forest_downsampled_predicted)\n",
    "recall_forest_downsampled = recall_score(target_valid, forest_downsampled_predicted)\n",
    "f_score_forest_downsampled = f1_score(target_valid, forest_downsampled_predicted)\n",
    "\n",
    "print('Accuracy RF:', score_forest_downsampled)\n",
    "print('Precision RF:', precision_forest_downsampled)\n",
    "print('Recall RF:', recall_forest_downsampled)\n",
    "print('F-score RF:', f_score_forest_downsampled)"
   ]
  },
  {
   "cell_type": "markdown",
   "id": "c49db7d4",
   "metadata": {},
   "source": [
    "### Logistic Regression ###"
   ]
  },
  {
   "cell_type": "code",
   "execution_count": 49,
   "id": "3f823e85",
   "metadata": {},
   "outputs": [
    {
     "name": "stdout",
     "output_type": "stream",
     "text": [
      "Доля положительных предсказаний: 0.24133333333333334\n",
      "Доля правильных положительных предсказаний: 0.26134585289514867\n",
      "Объем правильных положительных предсказаний: 0.9597701149425287\n",
      "Среднее гармоническое: 0.4108241082410824\n"
     ]
    }
   ],
   "source": [
    "model_lr_downsampled = LogisticRegression(max_iter=1500, solver='liblinear', random_state=69)\n",
    "model_lr_downsampled.fit(features_downsampled, target_downsampled)\n",
    "\n",
    "lr_downsampled_predicted = model_lr_downsampled.predict(features_valid)\n",
    "\n",
    "# calculate accuracy, precision, recall and f-score\n",
    "score_lr_downsampled = model_lr_upscaled.score(features_valid, target_valid)\n",
    "precision_lr_downsampled = precision_score(target_valid, lr_downsampled_predicted)\n",
    "recall_lr_downsampled = recall_score(target_valid, lr_downsampled_predicted)\n",
    "f_score_lr_downsampled = f1_score(target_valid, lr_downsampled_predicted)\n",
    "\n",
    "print('Доля положительных предсказаний:', score_lr_downsampled)\n",
    "print('Доля правильных положительных предсказаний:', precision_lr_downsampled)\n",
    "print('Объем правильных положительных предсказаний:', recall_lr_downsampled)\n",
    "print('Среднее гармоническое:', f_score_lr_downsampled)"
   ]
  },
  {
   "cell_type": "code",
   "execution_count": 50,
   "id": "14c07b83",
   "metadata": {},
   "outputs": [
    {
     "data": {
      "text/html": [
       "<div>\n",
       "<style scoped>\n",
       "    .dataframe tbody tr th:only-of-type {\n",
       "        vertical-align: middle;\n",
       "    }\n",
       "\n",
       "    .dataframe tbody tr th {\n",
       "        vertical-align: top;\n",
       "    }\n",
       "\n",
       "    .dataframe thead th {\n",
       "        text-align: right;\n",
       "    }\n",
       "</style>\n",
       "<table border=\"1\" class=\"dataframe\">\n",
       "  <thead>\n",
       "    <tr style=\"text-align: right;\">\n",
       "      <th></th>\n",
       "      <th>Тип метрики</th>\n",
       "      <th>acc_score</th>\n",
       "      <th>precision_score</th>\n",
       "      <th>recall_score</th>\n",
       "      <th>f_score</th>\n",
       "    </tr>\n",
       "  </thead>\n",
       "  <tbody>\n",
       "    <tr>\n",
       "      <th>0</th>\n",
       "      <td>Дерево решений</td>\n",
       "      <td>0.678667</td>\n",
       "      <td>0.232000</td>\n",
       "      <td>1.000000</td>\n",
       "      <td>0.376623</td>\n",
       "    </tr>\n",
       "    <tr>\n",
       "      <th>1</th>\n",
       "      <td>Случайный лес</td>\n",
       "      <td>0.714667</td>\n",
       "      <td>0.428058</td>\n",
       "      <td>0.683908</td>\n",
       "      <td>0.526549</td>\n",
       "    </tr>\n",
       "    <tr>\n",
       "      <th>2</th>\n",
       "      <td>Логистическая регрессия</td>\n",
       "      <td>0.241333</td>\n",
       "      <td>0.261346</td>\n",
       "      <td>0.959770</td>\n",
       "      <td>0.410824</td>\n",
       "    </tr>\n",
       "  </tbody>\n",
       "</table>\n",
       "</div>"
      ],
      "text/plain": [
       "               Тип метрики  acc_score  precision_score  recall_score   f_score\n",
       "0           Дерево решений   0.678667         0.232000      1.000000  0.376623\n",
       "1            Случайный лес   0.714667         0.428058      0.683908  0.526549\n",
       "2  Логистическая регрессия   0.241333         0.261346      0.959770  0.410824"
      ]
     },
     "execution_count": 50,
     "metadata": {},
     "output_type": "execute_result"
    }
   ],
   "source": [
    "f_score_downsampled = pd.DataFrame({\n",
    "    'Metrics': ['Decision Tree', 'Randopm Forest', 'Logistic Regression'],\n",
    "    'acc_score': [score_tree_downsampled, score_forest_downsampled, score_lr_downsampled],\n",
    "    'precision_score': [precision_tree_downsampled, precision_forest_downsampled, precision_lr_downsampled],\n",
    "    'recall_score': [recall_tree_downsampled, recall_forest_downsampled, recall_lr_downsampled],\n",
    "    'f_score': [f_score_tree_downsampled, f_score_forest_downsampled, f_score_lr_downsampled]\n",
    "})\n",
    "\n",
    "f_score_downsampled"
   ]
  },
  {
   "cell_type": "markdown",
   "id": "ba2e11a2",
   "metadata": {},
   "source": [
    "## Best kind of disbalance compensation ##"
   ]
  },
  {
   "cell_type": "code",
   "execution_count": 51,
   "id": "35d80619",
   "metadata": {
    "scrolled": true
   },
   "outputs": [
    {
     "data": {
      "text/html": [
       "<div>\n",
       "<style scoped>\n",
       "    .dataframe tbody tr th:only-of-type {\n",
       "        vertical-align: middle;\n",
       "    }\n",
       "\n",
       "    .dataframe tbody tr th {\n",
       "        vertical-align: top;\n",
       "    }\n",
       "\n",
       "    .dataframe thead th {\n",
       "        text-align: right;\n",
       "    }\n",
       "</style>\n",
       "<table border=\"1\" class=\"dataframe\">\n",
       "  <thead>\n",
       "    <tr style=\"text-align: right;\">\n",
       "      <th></th>\n",
       "      <th>Вид компенсации дисбаланса</th>\n",
       "      <th>Лучший f-score</th>\n",
       "    </tr>\n",
       "  </thead>\n",
       "  <tbody>\n",
       "    <tr>\n",
       "      <th>0</th>\n",
       "      <td>Изменение порога</td>\n",
       "      <td>0.659864</td>\n",
       "    </tr>\n",
       "    <tr>\n",
       "      <th>1</th>\n",
       "      <td>Увеличение выборки</td>\n",
       "      <td>0.649123</td>\n",
       "    </tr>\n",
       "    <tr>\n",
       "      <th>2</th>\n",
       "      <td>Уменьшение выборки</td>\n",
       "      <td>0.526549</td>\n",
       "    </tr>\n",
       "  </tbody>\n",
       "</table>\n",
       "</div>"
      ],
      "text/plain": [
       "  Вид компенсации дисбаланса  Лучший f-score\n",
       "0           Изменение порога        0.659864\n",
       "1         Увеличение выборки        0.649123\n",
       "2         Уменьшение выборки        0.526549"
      ]
     },
     "execution_count": 51,
     "metadata": {},
     "output_type": "execute_result"
    }
   ],
   "source": [
    "f_score_total = pd.DataFrame({\n",
    "    'Kind of disbalance compensation': ['Threshold change', 'Upscaling', 'Downscaling'],\n",
    "    'Best f-score': [f_score_forest, f_score_forest_upscaled, f_score_forest_downsampled]\n",
    "})\n",
    "\n",
    "f_score_total"
   ]
  },
  {
   "cell_type": "markdown",
   "id": "48fcf635",
   "metadata": {},
   "source": [
    "<div class = \"alert alert-info\" style=\"border-left: 7px solid blue\">\n",
    "\n",
    "### Results of disbalance compensation ###\n",
    "\n",
    "After testing three types of disbalance compensation, we can say what **random forest* model in **upscaled sample** is the best choice for our project.  Besides, we found out what upscaling in 10, 25 and 50 times best was in **25** and the results worsened as the sample got larger (in **10 times** - 0.65, **25** - 0.67, **40** - 0.64). This signals about bad scaling of model which overteaching or comfusing when analysis large samples.\n",
    "\n",
    "Downscaling also was bad: due to insufficient number of signs model can't correct predict leaving of client. Thats why we will not use this method.\n",
    "\n",
    "At all we can say, what the best kind of disbalance compensation is **threshold change** and **upscale sample** in 25 times."
   ]
  },
  {
   "cell_type": "markdown",
   "id": "a832e651",
   "metadata": {},
   "source": [
    "## Testing the best model ##"
   ]
  },
  {
   "cell_type": "markdown",
   "id": "37ca8ad7",
   "metadata": {},
   "source": [
    "Lets teach our model on upscaled sample with best hyperparameters."
   ]
  },
  {
   "cell_type": "code",
   "execution_count": 55,
   "id": "ab1e2bc7",
   "metadata": {},
   "outputs": [
    {
     "name": "stdout",
     "output_type": "stream",
     "text": [
      "Score total: 0.8404444444444444\n",
      "Precision total: 0.6067415730337079\n",
      "Recall total: 0.5947136563876652\n",
      "F-score total: 0.6006674082313681\n"
     ]
    }
   ],
   "source": [
    "# construct total model of random forest\n",
    "model_forest_total = RandomForestClassifier(\n",
    "    n_estimators=best_est_forest, max_depth=best_depth_forest, random_state=69, class_weight='balanced')\n",
    "model_forest_total.fit(features_upscaled, target_upscaled)\n",
    "\n",
    "total_predicted = model_forest_total.predict(features_test)\n",
    "\n",
    "# calculate accuracy, precision, recall and f-score\n",
    "score_total = model_forest_total.score(features_test, target_test)\n",
    "precision_total = precision_score(target_test, total_predicted)\n",
    "recall_total = recall_score(target_test, total_predicted)\n",
    "f_score_total = f1_score(target_test, total_predicted)\n",
    "\n",
    "print('Score total:', score_total)\n",
    "print('Precision total:', precision_total)\n",
    "print('Recall total:', recall_total)\n",
    "print('F-score total:', f_score_total)"
   ]
  },
  {
   "cell_type": "code",
   "execution_count": 53,
   "id": "a92b27c2",
   "metadata": {},
   "outputs": [
    {
     "data": {
      "image/png": "[encoded data removed]",
      "text/plain": [
       "<Figure size 504x504 with 1 Axes>"
      ]
     },
     "metadata": {
      "needs_background": "light"
     },
     "output_type": "display_data"
    }
   ],
   "source": [
    "proba_valid_balanced = model_forest_total.predict_proba(features_valid)\n",
    "precision_balanced, recall_balanced, thresholds_balanced = precision_recall_curve(target_valid, proba_valid_balanced[:, 1])\n",
    "\n",
    "proba_test = model_forest_total.predict_proba(features_test)\n",
    "precision_test, recall_test, thresholds_test = precision_recall_curve(target_test, proba_test[:, 1])\n",
    "\n",
    "# counstruct PR-curve\n",
    "plt.figure(figsize=(7, 7))\n",
    "plt.step(recall_balanced, precision_balanced, where='post')\n",
    "plt.step(recall_test, precision_test, where='post')\n",
    "\n",
    "# set the graphic parameters and return it\n",
    "plt.legend(['Balanced', 'Test'])\n",
    "plt.xlabel('Recall')\n",
    "plt.ylabel('Precision')\n",
    "plt.ylim([0.0, 1.05])\n",
    "plt.xlim([0.0, 1.0])\n",
    "plt.title('Кривая Precision-Recall')\n",
    "plt.show() "
   ]
  },
  {
   "cell_type": "code",
   "execution_count": 54,
   "id": "db355b8f",
   "metadata": {},
   "outputs": [
    {
     "data": {
      "image/png": "[encoded data removed]",
      "text/plain": [
       "<Figure size 648x648 with 1 Axes>"
      ]
     },
     "metadata": {
      "needs_background": "light"
     },
     "output_type": "display_data"
    },
    {
     "name": "stdout",
     "output_type": "stream",
     "text": [
      "0.8466934067688379\n",
      "0.8544176731454137\n"
     ]
    }
   ],
   "source": [
    "# divide the predictions valid and best models\n",
    "proba_one_valid_balanced = proba_valid_balanced[:, 1]\n",
    "\n",
    "proba_one_test = proba_test[:, 1]\n",
    "\n",
    "# set parameters of fpr, tpr and thresholds for ROC-curve\n",
    "fpr, tpr, thresholds = roc_curve(target_valid, proba_one_valid_balanced)\n",
    "fpr_test, tpr_test, thresholds_test = roc_curve(target_test, proba_one_test)\n",
    "\n",
    "# set the graphic parameters\n",
    "plt.figure(figsize=(9,9))\n",
    "\n",
    "plt.plot([0, 1], [0, 1], linestyle='--')\n",
    "plt.plot(fpr, tpr, linestyle='-')\n",
    "plt.plot(fpr_test, tpr_test, linestyle='-.')\n",
    "plt.xlim([0, 1])\n",
    "plt.ylim([0, 1])\n",
    "plt.legend(['Random Model', 'Balanced', 'Test'])\n",
    "plt.title('ROC-кривая')\n",
    "plt.xlabel('False Positive Rate')\n",
    "plt.ylabel('True Positive Rate')\n",
    "\n",
    "plt.show()\n",
    "\n",
    "# printing results\n",
    "print(roc_auc_score(target_valid, proba_one_valid_balanced))\n",
    "print(roc_auc_score(target_test, proba_one_test))"
   ]
  },
  {
   "cell_type": "markdown",
   "id": "b1f9c1c6",
   "metadata": {},
   "source": [
    "## Total result ##"
   ]
  },
  {
   "cell_type": "markdown",
   "id": "5963ee54",
   "metadata": {},
   "source": [
    "<div class = \"alert alert-info\" style=\"border-left: 7px solid blue\">\n",
    "    \n",
    "In the course of work we:\n",
    "- processed dataset, which applied to construct for construct ML-models;\n",
    "- teached models on the balanced and unbalanced samples;\n",
    "- proved what model, teached on balanced sample, have higher f-score than unbalanced;\n",
    "- created graphic of ROC-curve and calculate AUC-score. Results prooves what balanced model of Random Forest is better tham unbalanced, although results of unbalanced was higher.\n",
    "    \n",
    "Thats why the balanced model of Random Forest is complitely good for predicting will clients leave or no."
   ]
  }
 ],
 "metadata": {
  "ExecuteTimeLog": [
   {
    "duration": 1898,
    "start_time": "2022-11-23T22:33:50.396Z"
   },
   {
    "duration": 115,
    "start_time": "2022-11-23T22:33:52.296Z"
   },
   {
    "duration": 24,
    "start_time": "2022-11-23T22:33:52.413Z"
   },
   {
    "duration": 23,
    "start_time": "2022-11-23T22:33:53.759Z"
   },
   {
    "duration": 4,
    "start_time": "2022-11-23T22:33:54.528Z"
   },
   {
    "duration": 4,
    "start_time": "2022-11-23T22:33:57.865Z"
   },
   {
    "duration": 2397,
    "start_time": "2022-11-23T22:33:59.549Z"
   },
   {
    "duration": 18,
    "start_time": "2022-11-23T22:34:04.233Z"
   },
   {
    "duration": 22,
    "start_time": "2022-11-23T22:34:06.237Z"
   },
   {
    "duration": 17,
    "start_time": "2022-11-23T22:34:07.275Z"
   },
   {
    "duration": 106,
    "start_time": "2022-11-23T22:34:08.332Z"
   },
   {
    "duration": 17,
    "start_time": "2022-11-23T22:34:08.909Z"
   },
   {
    "duration": 17,
    "start_time": "2022-11-23T22:34:09.693Z"
   },
   {
    "duration": 6,
    "start_time": "2022-11-23T22:34:10.285Z"
   },
   {
    "duration": 51,
    "start_time": "2022-11-23T22:34:23.719Z"
   },
   {
    "duration": 10,
    "start_time": "2022-11-23T22:34:29.600Z"
   },
   {
    "duration": 3,
    "start_time": "2022-11-23T22:35:03.653Z"
   },
   {
    "duration": 63,
    "start_time": "2022-11-23T22:35:03.814Z"
   },
   {
    "duration": 22,
    "start_time": "2022-11-23T22:35:03.942Z"
   },
   {
    "duration": 25,
    "start_time": "2022-11-23T22:35:04.632Z"
   },
   {
    "duration": 5,
    "start_time": "2022-11-23T22:35:05.463Z"
   },
   {
    "duration": 4,
    "start_time": "2022-11-23T22:35:06.069Z"
   },
   {
    "duration": 2472,
    "start_time": "2022-11-23T22:35:06.705Z"
   },
   {
    "duration": 12,
    "start_time": "2022-11-23T22:35:09.179Z"
   },
   {
    "duration": 19,
    "start_time": "2022-11-23T22:35:12.247Z"
   },
   {
    "duration": 15,
    "start_time": "2022-11-23T22:35:42.586Z"
   },
   {
    "duration": 110,
    "start_time": "2022-11-23T22:35:45.598Z"
   },
   {
    "duration": 27,
    "start_time": "2022-11-23T22:35:46.526Z"
   },
   {
    "duration": 17,
    "start_time": "2022-11-23T22:35:54.486Z"
   },
   {
    "duration": 110,
    "start_time": "2022-11-23T22:41:20.787Z"
   },
   {
    "duration": 13,
    "start_time": "2022-11-23T22:41:38.691Z"
   },
   {
    "duration": 10,
    "start_time": "2022-11-23T22:41:51.465Z"
   },
   {
    "duration": 5,
    "start_time": "2022-11-23T22:41:55.633Z"
   },
   {
    "duration": 81,
    "start_time": "2022-11-23T22:41:55.766Z"
   },
   {
    "duration": 20,
    "start_time": "2022-11-23T22:41:55.893Z"
   },
   {
    "duration": 25,
    "start_time": "2022-11-23T22:41:56.306Z"
   },
   {
    "duration": 4,
    "start_time": "2022-11-23T22:41:56.595Z"
   },
   {
    "duration": 5,
    "start_time": "2022-11-23T22:41:57.056Z"
   },
   {
    "duration": 2367,
    "start_time": "2022-11-23T22:41:58.136Z"
   },
   {
    "duration": 12,
    "start_time": "2022-11-23T22:42:00.505Z"
   },
   {
    "duration": 56,
    "start_time": "2022-11-23T22:42:00.519Z"
   },
   {
    "duration": 15,
    "start_time": "2022-11-23T22:42:01.646Z"
   },
   {
    "duration": 284,
    "start_time": "2022-11-23T22:42:02.803Z"
   },
   {
    "duration": 19,
    "start_time": "2022-11-23T22:42:03.234Z"
   },
   {
    "duration": 18,
    "start_time": "2022-11-23T22:42:04.897Z"
   },
   {
    "duration": 14,
    "start_time": "2022-11-23T22:42:05.500Z"
   },
   {
    "duration": 4,
    "start_time": "2022-11-23T22:42:14.836Z"
   },
   {
    "duration": 8,
    "start_time": "2022-11-23T22:42:16.800Z"
   },
   {
    "duration": 21,
    "start_time": "2022-11-23T22:42:38.330Z"
   },
   {
    "duration": 10,
    "start_time": "2022-11-23T22:42:47.648Z"
   },
   {
    "duration": 10,
    "start_time": "2022-11-23T22:42:52.278Z"
   },
   {
    "duration": 53,
    "start_time": "2022-11-23T22:44:04.065Z"
   },
   {
    "duration": 8,
    "start_time": "2022-11-23T22:44:10.908Z"
   },
   {
    "duration": 231,
    "start_time": "2022-11-23T22:44:28.479Z"
   },
   {
    "duration": 282,
    "start_time": "2022-11-23T22:44:45.578Z"
   },
   {
    "duration": 62,
    "start_time": "2022-11-23T22:44:55.732Z"
   },
   {
    "duration": 212,
    "start_time": "2022-11-23T22:45:00.722Z"
   },
   {
    "duration": 4,
    "start_time": "2022-11-23T22:47:11.104Z"
   },
   {
    "duration": 5,
    "start_time": "2022-11-23T22:47:22.248Z"
   },
   {
    "duration": 4,
    "start_time": "2022-11-23T22:48:38.454Z"
   },
   {
    "duration": 85,
    "start_time": "2022-11-23T22:48:38.992Z"
   },
   {
    "duration": 14,
    "start_time": "2022-11-23T22:48:39.151Z"
   },
   {
    "duration": 25,
    "start_time": "2022-11-23T22:48:39.521Z"
   },
   {
    "duration": 7,
    "start_time": "2022-11-23T22:48:39.757Z"
   },
   {
    "duration": 5,
    "start_time": "2022-11-23T22:48:40.159Z"
   },
   {
    "duration": 2678,
    "start_time": "2022-11-23T22:48:40.557Z"
   },
   {
    "duration": 19,
    "start_time": "2022-11-23T22:48:43.244Z"
   },
   {
    "duration": 23,
    "start_time": "2022-11-23T22:48:43.265Z"
   },
   {
    "duration": 13,
    "start_time": "2022-11-23T22:48:43.291Z"
   },
   {
    "duration": 127,
    "start_time": "2022-11-23T22:48:43.305Z"
   },
   {
    "duration": 24,
    "start_time": "2022-11-23T22:48:43.433Z"
   },
   {
    "duration": 19,
    "start_time": "2022-11-23T22:48:43.608Z"
   },
   {
    "duration": 6,
    "start_time": "2022-11-23T22:49:22.169Z"
   },
   {
    "duration": 10,
    "start_time": "2022-11-23T22:49:42.589Z"
   },
   {
    "duration": 181,
    "start_time": "2022-11-26T07:08:37.874Z"
   },
   {
    "duration": 1576,
    "start_time": "2022-11-26T07:08:43.420Z"
   },
   {
    "duration": 230,
    "start_time": "2022-11-26T07:08:44.998Z"
   },
   {
    "duration": 17,
    "start_time": "2022-11-26T07:08:45.229Z"
   },
   {
    "duration": 39,
    "start_time": "2022-11-26T07:08:45.249Z"
   },
   {
    "duration": 4,
    "start_time": "2022-11-26T07:08:45.289Z"
   },
   {
    "duration": 41,
    "start_time": "2022-11-26T07:08:45.295Z"
   },
   {
    "duration": 2141,
    "start_time": "2022-11-26T07:08:45.338Z"
   },
   {
    "duration": 12,
    "start_time": "2022-11-26T07:08:47.481Z"
   },
   {
    "duration": 34,
    "start_time": "2022-11-26T07:08:47.494Z"
   },
   {
    "duration": 36,
    "start_time": "2022-11-26T07:08:47.530Z"
   },
   {
    "duration": 123,
    "start_time": "2022-11-26T07:08:47.568Z"
   },
   {
    "duration": 20,
    "start_time": "2022-11-26T07:08:47.693Z"
   },
   {
    "duration": 47,
    "start_time": "2022-11-26T07:08:47.714Z"
   },
   {
    "duration": 35,
    "start_time": "2022-11-26T07:08:47.763Z"
   },
   {
    "duration": 23,
    "start_time": "2022-11-26T07:08:47.800Z"
   },
   {
    "duration": 42,
    "start_time": "2022-11-26T07:08:47.825Z"
   },
   {
    "duration": 58,
    "start_time": "2022-11-26T07:08:47.868Z"
   },
   {
    "duration": 64,
    "start_time": "2022-11-26T07:08:47.928Z"
   },
   {
    "duration": 203,
    "start_time": "2022-11-26T07:08:47.994Z"
   },
   {
    "duration": 3910,
    "start_time": "2022-11-26T07:08:48.198Z"
   },
   {
    "duration": 207186,
    "start_time": "2022-11-26T07:08:52.110Z"
   },
   {
    "duration": 9,
    "start_time": "2022-11-26T07:12:19.298Z"
   },
   {
    "duration": 41,
    "start_time": "2022-11-26T07:12:19.308Z"
   },
   {
    "duration": 0,
    "start_time": "2022-11-26T07:12:19.351Z"
   },
   {
    "duration": 0,
    "start_time": "2022-11-26T07:12:19.352Z"
   },
   {
    "duration": 0,
    "start_time": "2022-11-26T07:12:19.354Z"
   },
   {
    "duration": 0,
    "start_time": "2022-11-26T07:12:19.355Z"
   },
   {
    "duration": 0,
    "start_time": "2022-11-26T07:12:19.357Z"
   },
   {
    "duration": 0,
    "start_time": "2022-11-26T07:12:19.359Z"
   },
   {
    "duration": 0,
    "start_time": "2022-11-26T07:12:19.360Z"
   },
   {
    "duration": 0,
    "start_time": "2022-11-26T07:12:19.362Z"
   },
   {
    "duration": 0,
    "start_time": "2022-11-26T07:12:19.363Z"
   },
   {
    "duration": 0,
    "start_time": "2022-11-26T07:12:19.364Z"
   },
   {
    "duration": 479,
    "start_time": "2022-11-26T07:13:39.226Z"
   },
   {
    "duration": 4326,
    "start_time": "2022-11-26T07:13:42.440Z"
   },
   {
    "duration": 3808,
    "start_time": "2022-11-26T07:13:59.966Z"
   },
   {
    "duration": 204791,
    "start_time": "2022-11-26T07:14:16.665Z"
   },
   {
    "duration": 8,
    "start_time": "2022-11-26T07:17:41.458Z"
   },
   {
    "duration": 31,
    "start_time": "2022-11-26T07:18:01.031Z"
   },
   {
    "duration": 378,
    "start_time": "2022-11-26T07:18:30.972Z"
   },
   {
    "duration": 9,
    "start_time": "2022-11-26T07:18:32.038Z"
   },
   {
    "duration": 37,
    "start_time": "2022-11-26T07:19:34.563Z"
   },
   {
    "duration": 33,
    "start_time": "2022-11-26T07:19:56.288Z"
   },
   {
    "duration": 417,
    "start_time": "2022-11-26T07:20:14.446Z"
   },
   {
    "duration": 11,
    "start_time": "2022-11-26T07:20:15.965Z"
   },
   {
    "duration": 539,
    "start_time": "2022-11-26T07:25:40.118Z"
   },
   {
    "duration": 36,
    "start_time": "2022-11-26T07:26:18.885Z"
   },
   {
    "duration": 198052,
    "start_time": "2022-11-26T07:26:46.058Z"
   },
   {
    "duration": 499,
    "start_time": "2022-11-26T07:37:17.573Z"
   },
   {
    "duration": 36,
    "start_time": "2022-11-26T07:37:23.998Z"
   },
   {
    "duration": 198178,
    "start_time": "2022-11-26T07:37:28.691Z"
   },
   {
    "duration": 301,
    "start_time": "2022-11-26T07:41:42.290Z"
   },
   {
    "duration": 1697,
    "start_time": "2022-11-26T13:45:13.813Z"
   },
   {
    "duration": 124,
    "start_time": "2022-11-26T13:45:59.997Z"
   },
   {
    "duration": 8,
    "start_time": "2022-11-26T13:46:07.812Z"
   },
   {
    "duration": 201,
    "start_time": "2022-11-26T13:46:08.020Z"
   },
   {
    "duration": 20,
    "start_time": "2022-11-26T13:46:08.246Z"
   },
   {
    "duration": 25,
    "start_time": "2022-11-26T13:46:08.796Z"
   },
   {
    "duration": 5,
    "start_time": "2022-11-26T13:46:09.215Z"
   },
   {
    "duration": 7,
    "start_time": "2022-11-26T13:46:09.785Z"
   },
   {
    "duration": 2271,
    "start_time": "2022-11-26T13:46:10.351Z"
   },
   {
    "duration": 14,
    "start_time": "2022-11-26T13:46:12.624Z"
   },
   {
    "duration": 18,
    "start_time": "2022-11-26T13:46:12.639Z"
   },
   {
    "duration": 14,
    "start_time": "2022-11-26T13:46:12.658Z"
   },
   {
    "duration": 96,
    "start_time": "2022-11-26T13:46:14.192Z"
   },
   {
    "duration": 17,
    "start_time": "2022-11-26T13:46:14.820Z"
   },
   {
    "duration": 15,
    "start_time": "2022-11-26T13:46:15.518Z"
   },
   {
    "duration": 10,
    "start_time": "2022-11-26T13:46:16.074Z"
   },
   {
    "duration": 7,
    "start_time": "2022-11-26T13:46:28.956Z"
   },
   {
    "duration": 23,
    "start_time": "2022-11-26T13:46:29.198Z"
   },
   {
    "duration": 25,
    "start_time": "2022-11-26T13:46:30.041Z"
   },
   {
    "duration": 16,
    "start_time": "2022-11-26T13:46:31.763Z"
   },
   {
    "duration": 12,
    "start_time": "2022-11-26T13:46:33.160Z"
   },
   {
    "duration": 40,
    "start_time": "2022-11-26T13:53:00.793Z"
   },
   {
    "duration": 12,
    "start_time": "2022-11-26T13:58:41.634Z"
   },
   {
    "duration": 1417,
    "start_time": "2022-11-26T13:58:46.864Z"
   },
   {
    "duration": 103,
    "start_time": "2022-11-26T13:58:48.283Z"
   },
   {
    "duration": 17,
    "start_time": "2022-11-26T13:58:48.388Z"
   },
   {
    "duration": 50,
    "start_time": "2022-11-26T13:58:48.410Z"
   },
   {
    "duration": 4,
    "start_time": "2022-11-26T13:58:48.462Z"
   },
   {
    "duration": 8,
    "start_time": "2022-11-26T13:58:48.468Z"
   },
   {
    "duration": 2309,
    "start_time": "2022-11-26T13:58:48.477Z"
   },
   {
    "duration": 34,
    "start_time": "2022-11-26T13:58:50.788Z"
   },
   {
    "duration": 19,
    "start_time": "2022-11-26T13:58:50.823Z"
   },
   {
    "duration": 11,
    "start_time": "2022-11-26T13:58:50.844Z"
   },
   {
    "duration": 107,
    "start_time": "2022-11-26T13:58:50.857Z"
   },
   {
    "duration": 17,
    "start_time": "2022-11-26T13:58:50.965Z"
   },
   {
    "duration": 30,
    "start_time": "2022-11-26T13:58:50.983Z"
   },
   {
    "duration": 30,
    "start_time": "2022-11-26T13:58:51.016Z"
   },
   {
    "duration": 18,
    "start_time": "2022-11-26T13:58:51.048Z"
   },
   {
    "duration": 26,
    "start_time": "2022-11-26T13:58:51.068Z"
   },
   {
    "duration": 37,
    "start_time": "2022-11-26T13:58:51.096Z"
   },
   {
    "duration": 23,
    "start_time": "2022-11-26T13:58:51.134Z"
   },
   {
    "duration": 21,
    "start_time": "2022-11-26T13:58:51.159Z"
   },
   {
    "duration": 594,
    "start_time": "2022-11-26T13:58:51.181Z"
   },
   {
    "duration": 4253,
    "start_time": "2022-11-26T13:58:51.776Z"
   },
   {
    "duration": 242456,
    "start_time": "2022-11-26T13:58:56.030Z"
   },
   {
    "duration": 25,
    "start_time": "2022-11-26T14:02:58.487Z"
   },
   {
    "duration": 95,
    "start_time": "2022-11-26T14:02:58.519Z"
   },
   {
    "duration": 228,
    "start_time": "2022-11-26T14:02:58.621Z"
   },
   {
    "duration": 13,
    "start_time": "2022-11-26T14:02:58.854Z"
   },
   {
    "duration": 693,
    "start_time": "2022-11-26T14:02:58.869Z"
   },
   {
    "duration": 61,
    "start_time": "2022-11-26T14:02:59.565Z"
   },
   {
    "duration": 231585,
    "start_time": "2022-11-26T14:02:59.634Z"
   },
   {
    "duration": 429,
    "start_time": "2022-11-26T14:06:51.220Z"
   },
   {
    "duration": 122,
    "start_time": "2022-11-26T14:06:51.651Z"
   },
   {
    "duration": 0,
    "start_time": "2022-11-26T14:06:51.774Z"
   },
   {
    "duration": 0,
    "start_time": "2022-11-26T14:06:51.775Z"
   },
   {
    "duration": 0,
    "start_time": "2022-11-26T14:06:51.776Z"
   },
   {
    "duration": 1395,
    "start_time": "2022-11-27T00:18:23.328Z"
   },
   {
    "duration": 100,
    "start_time": "2022-11-27T00:18:24.724Z"
   },
   {
    "duration": 16,
    "start_time": "2022-11-27T00:18:24.825Z"
   },
   {
    "duration": 21,
    "start_time": "2022-11-27T00:18:24.842Z"
   },
   {
    "duration": 3,
    "start_time": "2022-11-27T00:18:24.865Z"
   },
   {
    "duration": 8,
    "start_time": "2022-11-27T00:18:24.870Z"
   },
   {
    "duration": 2077,
    "start_time": "2022-11-27T00:18:24.879Z"
   },
   {
    "duration": 12,
    "start_time": "2022-11-27T00:18:26.958Z"
   },
   {
    "duration": 16,
    "start_time": "2022-11-27T00:18:26.972Z"
   },
   {
    "duration": 11,
    "start_time": "2022-11-27T00:18:26.990Z"
   },
   {
    "duration": 82,
    "start_time": "2022-11-27T00:18:27.021Z"
   },
   {
    "duration": 28,
    "start_time": "2022-11-27T00:18:27.105Z"
   },
   {
    "duration": 14,
    "start_time": "2022-11-27T00:18:27.134Z"
   },
   {
    "duration": 10,
    "start_time": "2022-11-27T00:18:27.150Z"
   },
   {
    "duration": 7,
    "start_time": "2022-11-27T00:18:27.161Z"
   },
   {
    "duration": 13,
    "start_time": "2022-11-27T00:18:27.169Z"
   },
   {
    "duration": 46,
    "start_time": "2022-11-27T00:18:27.184Z"
   },
   {
    "duration": 15,
    "start_time": "2022-11-27T00:18:27.232Z"
   },
   {
    "duration": 22,
    "start_time": "2022-11-27T00:18:27.248Z"
   },
   {
    "duration": 526,
    "start_time": "2022-11-27T00:18:27.272Z"
   },
   {
    "duration": 3825,
    "start_time": "2022-11-27T00:18:27.799Z"
   },
   {
    "duration": 201546,
    "start_time": "2022-11-27T00:18:31.626Z"
   },
   {
    "duration": 9,
    "start_time": "2022-11-27T00:21:53.174Z"
   },
   {
    "duration": 48,
    "start_time": "2022-11-27T00:21:53.185Z"
   },
   {
    "duration": 340,
    "start_time": "2022-11-27T00:21:53.235Z"
   },
   {
    "duration": 10,
    "start_time": "2022-11-27T00:21:53.577Z"
   },
   {
    "duration": 522,
    "start_time": "2022-11-27T00:21:53.588Z"
   },
   {
    "duration": 50,
    "start_time": "2022-11-27T00:21:54.113Z"
   },
   {
    "duration": 193872,
    "start_time": "2022-11-27T00:21:54.164Z"
   },
   {
    "duration": 211,
    "start_time": "2022-11-27T00:25:08.037Z"
   },
   {
    "duration": 107,
    "start_time": "2022-11-27T00:25:08.250Z"
   },
   {
    "duration": 0,
    "start_time": "2022-11-27T00:25:08.358Z"
   },
   {
    "duration": 0,
    "start_time": "2022-11-27T00:25:08.359Z"
   },
   {
    "duration": 0,
    "start_time": "2022-11-27T00:25:08.360Z"
   },
   {
    "duration": 3,
    "start_time": "2022-11-27T00:42:25.093Z"
   },
   {
    "duration": 679,
    "start_time": "2022-11-27T00:47:51.644Z"
   },
   {
    "duration": 10,
    "start_time": "2022-11-27T00:48:37.859Z"
   },
   {
    "duration": 187,
    "start_time": "2022-11-27T00:49:57.553Z"
   },
   {
    "duration": 11,
    "start_time": "2022-11-27T00:50:04.256Z"
   },
   {
    "duration": 107,
    "start_time": "2022-11-27T00:51:01.220Z"
   },
   {
    "duration": 9,
    "start_time": "2022-11-27T00:51:42.697Z"
   },
   {
    "duration": 90,
    "start_time": "2022-11-27T00:52:28.832Z"
   },
   {
    "duration": 10,
    "start_time": "2022-11-27T00:52:32.033Z"
   },
   {
    "duration": 133,
    "start_time": "2022-11-27T00:53:01.082Z"
   },
   {
    "duration": 176,
    "start_time": "2022-11-27T00:53:02.445Z"
   },
   {
    "duration": 19,
    "start_time": "2022-11-27T01:22:12.774Z"
   },
   {
    "duration": 19,
    "start_time": "2022-11-27T01:22:41.086Z"
   },
   {
    "duration": 56,
    "start_time": "2022-11-27T01:23:37.981Z"
   },
   {
    "duration": 61,
    "start_time": "2022-11-27T01:23:49.063Z"
   },
   {
    "duration": 4,
    "start_time": "2022-11-27T01:25:22.292Z"
   },
   {
    "duration": 78,
    "start_time": "2022-11-27T01:25:30.600Z"
   },
   {
    "duration": 85,
    "start_time": "2022-11-27T01:37:26.447Z"
   },
   {
    "duration": 60,
    "start_time": "2022-11-27T01:37:33.139Z"
   },
   {
    "duration": 70,
    "start_time": "2022-11-27T01:37:52.118Z"
   },
   {
    "duration": 72,
    "start_time": "2022-11-27T01:37:59.015Z"
   },
   {
    "duration": 68,
    "start_time": "2022-11-27T01:38:00.742Z"
   },
   {
    "duration": 63,
    "start_time": "2022-11-27T01:38:02.327Z"
   },
   {
    "duration": 64,
    "start_time": "2022-11-27T01:38:13.114Z"
   },
   {
    "duration": 129,
    "start_time": "2022-11-27T01:39:41.495Z"
   },
   {
    "duration": 112,
    "start_time": "2022-11-27T01:42:17.230Z"
   },
   {
    "duration": 112,
    "start_time": "2022-11-27T01:42:25.308Z"
   },
   {
    "duration": 109,
    "start_time": "2022-11-27T01:42:27.994Z"
   },
   {
    "duration": 43,
    "start_time": "2022-11-27T01:43:37.271Z"
   },
   {
    "duration": 490,
    "start_time": "2022-11-27T01:43:47.306Z"
   },
   {
    "duration": 16,
    "start_time": "2022-11-27T01:45:41.261Z"
   },
   {
    "duration": 193,
    "start_time": "2022-11-27T01:45:41.421Z"
   },
   {
    "duration": 61,
    "start_time": "2022-11-27T01:46:03.679Z"
   },
   {
    "duration": 176,
    "start_time": "2022-11-27T01:48:10.094Z"
   },
   {
    "duration": 82,
    "start_time": "2022-11-27T01:58:39.156Z"
   },
   {
    "duration": 155,
    "start_time": "2022-11-27T01:59:08.036Z"
   },
   {
    "duration": 86,
    "start_time": "2022-11-27T01:59:48.268Z"
   },
   {
    "duration": 11,
    "start_time": "2022-11-27T01:59:56.395Z"
   },
   {
    "duration": 4,
    "start_time": "2022-11-27T02:00:08.594Z"
   },
   {
    "duration": 11,
    "start_time": "2022-11-27T02:02:28.048Z"
   },
   {
    "duration": 11,
    "start_time": "2022-11-27T02:02:45.201Z"
   },
   {
    "duration": 542,
    "start_time": "2022-11-27T02:03:01.335Z"
   },
   {
    "duration": 20,
    "start_time": "2022-11-27T02:03:13.556Z"
   },
   {
    "duration": 93,
    "start_time": "2022-11-27T02:03:14.471Z"
   },
   {
    "duration": 83,
    "start_time": "2022-11-27T02:11:24.430Z"
   },
   {
    "duration": 390,
    "start_time": "2022-11-27T02:13:30.475Z"
   },
   {
    "duration": 224,
    "start_time": "2022-11-27T02:19:46.219Z"
   },
   {
    "duration": 50,
    "start_time": "2022-11-27T02:19:54.843Z"
   },
   {
    "duration": 213,
    "start_time": "2022-11-27T02:19:58.615Z"
   },
   {
    "duration": 11,
    "start_time": "2022-11-27T02:20:01.262Z"
   },
   {
    "duration": 521,
    "start_time": "2022-11-27T02:22:30.201Z"
   },
   {
    "duration": 401,
    "start_time": "2022-11-27T02:22:34.650Z"
   },
   {
    "duration": 283,
    "start_time": "2022-11-27T02:22:35.239Z"
   },
   {
    "duration": 11,
    "start_time": "2022-11-27T02:22:35.621Z"
   },
   {
    "duration": 183,
    "start_time": "2022-11-27T02:25:41.583Z"
   },
   {
    "duration": 192,
    "start_time": "2022-11-27T02:26:13.222Z"
   },
   {
    "duration": 187,
    "start_time": "2022-11-27T02:26:32.048Z"
   },
   {
    "duration": 193,
    "start_time": "2022-11-27T02:26:55.768Z"
   },
   {
    "duration": 16,
    "start_time": "2022-11-27T02:29:23.777Z"
   },
   {
    "duration": 61,
    "start_time": "2022-11-27T02:29:31.174Z"
   },
   {
    "duration": 406,
    "start_time": "2022-11-27T02:30:24.045Z"
   },
   {
    "duration": 659,
    "start_time": "2022-11-27T02:31:10.567Z"
   },
   {
    "duration": 22,
    "start_time": "2022-11-27T02:31:24.885Z"
   },
   {
    "duration": 449,
    "start_time": "2022-11-27T02:31:28.807Z"
   },
   {
    "duration": 454,
    "start_time": "2022-11-27T02:31:38.062Z"
   },
   {
    "duration": 514,
    "start_time": "2022-11-27T02:32:08.654Z"
   },
   {
    "duration": 594,
    "start_time": "2022-11-27T02:32:32.383Z"
   },
   {
    "duration": 1265,
    "start_time": "2022-11-27T02:32:39.998Z"
   },
   {
    "duration": 65,
    "start_time": "2022-11-27T02:32:41.264Z"
   },
   {
    "duration": 17,
    "start_time": "2022-11-27T02:32:41.330Z"
   },
   {
    "duration": 22,
    "start_time": "2022-11-27T02:32:41.349Z"
   },
   {
    "duration": 4,
    "start_time": "2022-11-27T02:32:41.372Z"
   },
   {
    "duration": 6,
    "start_time": "2022-11-27T02:32:41.377Z"
   },
   {
    "duration": 2043,
    "start_time": "2022-11-27T02:32:41.384Z"
   },
   {
    "duration": 14,
    "start_time": "2022-11-27T02:32:43.429Z"
   },
   {
    "duration": 19,
    "start_time": "2022-11-27T02:32:43.445Z"
   },
   {
    "duration": 12,
    "start_time": "2022-11-27T02:32:43.467Z"
   },
   {
    "duration": 121,
    "start_time": "2022-11-27T02:32:43.480Z"
   },
   {
    "duration": 29,
    "start_time": "2022-11-27T02:32:43.603Z"
   },
   {
    "duration": 15,
    "start_time": "2022-11-27T02:32:43.633Z"
   },
   {
    "duration": 11,
    "start_time": "2022-11-27T02:32:43.649Z"
   },
   {
    "duration": 6,
    "start_time": "2022-11-27T02:32:43.661Z"
   },
   {
    "duration": 15,
    "start_time": "2022-11-27T02:32:43.668Z"
   },
   {
    "duration": 45,
    "start_time": "2022-11-27T02:32:43.684Z"
   },
   {
    "duration": 15,
    "start_time": "2022-11-27T02:32:43.730Z"
   },
   {
    "duration": 21,
    "start_time": "2022-11-27T02:32:43.747Z"
   },
   {
    "duration": 528,
    "start_time": "2022-11-27T02:32:43.770Z"
   },
   {
    "duration": 3834,
    "start_time": "2022-11-27T02:32:44.299Z"
   },
   {
    "duration": 199914,
    "start_time": "2022-11-27T02:32:48.135Z"
   },
   {
    "duration": 8,
    "start_time": "2022-11-27T02:36:08.050Z"
   },
   {
    "duration": 29,
    "start_time": "2022-11-27T02:36:08.060Z"
   },
   {
    "duration": 374,
    "start_time": "2022-11-27T02:36:08.090Z"
   },
   {
    "duration": 68,
    "start_time": "2022-11-27T02:36:08.466Z"
   },
   {
    "duration": 93,
    "start_time": "2022-11-27T02:36:08.536Z"
   },
   {
    "duration": 612,
    "start_time": "2022-11-27T02:36:08.632Z"
   },
   {
    "duration": 45,
    "start_time": "2022-11-27T02:36:09.245Z"
   },
   {
    "duration": 193924,
    "start_time": "2022-11-27T02:36:09.292Z"
   },
   {
    "duration": 190,
    "start_time": "2022-11-27T02:39:23.217Z"
   },
   {
    "duration": 119,
    "start_time": "2022-11-27T02:39:23.409Z"
   },
   {
    "duration": 99,
    "start_time": "2022-11-27T02:39:23.530Z"
   },
   {
    "duration": 159,
    "start_time": "2022-11-27T02:39:23.630Z"
   },
   {
    "duration": 175,
    "start_time": "2022-11-27T02:39:23.791Z"
   },
   {
    "duration": 82,
    "start_time": "2022-11-27T02:39:23.968Z"
   },
   {
    "duration": 23,
    "start_time": "2022-11-27T02:39:24.052Z"
   },
   {
    "duration": 622,
    "start_time": "2022-11-27T02:39:24.077Z"
   },
   {
    "duration": 2237,
    "start_time": "2022-11-27T02:39:24.701Z"
   },
   {
    "duration": 1095,
    "start_time": "2022-11-27T02:39:26.939Z"
   },
   {
    "duration": 9,
    "start_time": "2022-11-27T02:39:28.036Z"
   },
   {
    "duration": 119,
    "start_time": "2022-11-27T02:39:28.046Z"
   },
   {
    "duration": 364,
    "start_time": "2022-11-27T02:41:36.175Z"
   },
   {
    "duration": 1875,
    "start_time": "2022-11-27T02:42:21.781Z"
   },
   {
    "duration": 714,
    "start_time": "2022-11-27T02:48:31.394Z"
   },
   {
    "duration": 727,
    "start_time": "2022-11-27T02:49:03.256Z"
   },
   {
    "duration": 10,
    "start_time": "2022-11-27T02:49:03.985Z"
   },
   {
    "duration": 1495,
    "start_time": "2022-11-28T07:31:34.780Z"
   },
   {
    "duration": 204,
    "start_time": "2022-11-28T07:31:36.277Z"
   },
   {
    "duration": 19,
    "start_time": "2022-11-28T07:31:36.483Z"
   },
   {
    "duration": 23,
    "start_time": "2022-11-28T07:31:36.504Z"
   },
   {
    "duration": 4,
    "start_time": "2022-11-28T07:31:36.529Z"
   },
   {
    "duration": 8,
    "start_time": "2022-11-28T07:31:36.534Z"
   },
   {
    "duration": 2198,
    "start_time": "2022-11-28T07:31:36.544Z"
   },
   {
    "duration": 13,
    "start_time": "2022-11-28T07:31:38.744Z"
   },
   {
    "duration": 18,
    "start_time": "2022-11-28T07:31:38.758Z"
   },
   {
    "duration": 11,
    "start_time": "2022-11-28T07:31:38.778Z"
   },
   {
    "duration": 151,
    "start_time": "2022-11-28T07:31:38.790Z"
   },
   {
    "duration": 20,
    "start_time": "2022-11-28T07:31:38.943Z"
   },
   {
    "duration": 20,
    "start_time": "2022-11-28T07:31:38.966Z"
   },
   {
    "duration": 16,
    "start_time": "2022-11-28T07:31:38.989Z"
   },
   {
    "duration": 34,
    "start_time": "2022-11-28T07:31:39.007Z"
   },
   {
    "duration": 22,
    "start_time": "2022-11-28T07:31:39.044Z"
   },
   {
    "duration": 34,
    "start_time": "2022-11-28T07:31:39.068Z"
   },
   {
    "duration": 38,
    "start_time": "2022-11-28T07:31:39.103Z"
   },
   {
    "duration": 28,
    "start_time": "2022-11-28T07:31:39.142Z"
   },
   {
    "duration": 567,
    "start_time": "2022-11-28T07:31:39.172Z"
   },
   {
    "duration": 4447,
    "start_time": "2022-11-28T07:31:39.741Z"
   },
   {
    "duration": 224705,
    "start_time": "2022-11-28T07:31:44.190Z"
   },
   {
    "duration": 13,
    "start_time": "2022-11-28T07:35:28.897Z"
   },
   {
    "duration": 64,
    "start_time": "2022-11-28T07:35:28.912Z"
   },
   {
    "duration": 385,
    "start_time": "2022-11-28T07:35:28.978Z"
   },
   {
    "duration": 174,
    "start_time": "2022-11-28T07:35:29.365Z"
   },
   {
    "duration": 97,
    "start_time": "2022-11-28T07:35:29.544Z"
   },
   {
    "duration": 615,
    "start_time": "2022-11-28T07:35:29.643Z"
   },
   {
    "duration": 56,
    "start_time": "2022-11-28T07:35:30.262Z"
   },
   {
    "duration": 220653,
    "start_time": "2022-11-28T07:35:30.320Z"
   },
   {
    "duration": 256,
    "start_time": "2022-11-28T07:39:10.974Z"
   },
   {
    "duration": 305,
    "start_time": "2022-11-28T07:39:11.232Z"
   },
   {
    "duration": 11,
    "start_time": "2022-11-28T07:39:11.540Z"
   },
   {
    "duration": 213,
    "start_time": "2022-11-28T07:39:11.553Z"
   },
   {
    "duration": 202,
    "start_time": "2022-11-28T07:39:11.768Z"
   },
   {
    "duration": 103,
    "start_time": "2022-11-28T07:39:11.972Z"
   },
   {
    "duration": 438,
    "start_time": "2022-11-28T07:39:12.077Z"
   },
   {
    "duration": 2703,
    "start_time": "2022-11-28T07:39:12.516Z"
   },
   {
    "duration": 802,
    "start_time": "2022-11-28T07:39:15.221Z"
   },
   {
    "duration": 22,
    "start_time": "2022-11-28T07:39:16.025Z"
   },
   {
    "duration": 12,
    "start_time": "2022-11-28T07:39:16.051Z"
   },
   {
    "duration": 13,
    "start_time": "2022-11-28T07:53:01.094Z"
   },
   {
    "duration": 445,
    "start_time": "2022-11-28T07:58:14.573Z"
   },
   {
    "duration": 7869,
    "start_time": "2022-11-28T08:16:22.300Z"
   },
   {
    "duration": 202,
    "start_time": "2022-11-28T08:17:54.813Z"
   },
   {
    "duration": 6124,
    "start_time": "2022-11-28T08:18:07.668Z"
   },
   {
    "duration": 6421,
    "start_time": "2022-11-28T08:18:23.079Z"
   },
   {
    "duration": 5839,
    "start_time": "2022-11-28T08:18:48.974Z"
   },
   {
    "duration": 6038,
    "start_time": "2022-11-28T08:19:23.128Z"
   },
   {
    "duration": 110,
    "start_time": "2022-11-28T08:19:30.701Z"
   },
   {
    "duration": 2504552,
    "start_time": "2022-11-28T08:49:00.638Z"
   },
   {
    "duration": 1813,
    "start_time": "2022-11-28T11:30:57.983Z"
   },
   {
    "duration": 245,
    "start_time": "2022-11-28T11:30:59.799Z"
   },
   {
    "duration": 27,
    "start_time": "2022-11-28T11:31:00.046Z"
   },
   {
    "duration": 30,
    "start_time": "2022-11-28T11:31:00.081Z"
   },
   {
    "duration": 5,
    "start_time": "2022-11-28T11:31:00.113Z"
   },
   {
    "duration": 23,
    "start_time": "2022-11-28T11:31:00.119Z"
   },
   {
    "duration": 2758,
    "start_time": "2022-11-28T11:31:00.144Z"
   },
   {
    "duration": 21,
    "start_time": "2022-11-28T11:31:02.905Z"
   },
   {
    "duration": 50,
    "start_time": "2022-11-28T11:31:02.928Z"
   },
   {
    "duration": 19,
    "start_time": "2022-11-28T11:31:02.982Z"
   },
   {
    "duration": 130,
    "start_time": "2022-11-28T11:31:03.002Z"
   },
   {
    "duration": 28,
    "start_time": "2022-11-28T11:31:03.134Z"
   },
   {
    "duration": 29,
    "start_time": "2022-11-28T11:31:03.164Z"
   },
   {
    "duration": 10,
    "start_time": "2022-11-28T11:31:03.196Z"
   },
   {
    "duration": 13,
    "start_time": "2022-11-28T11:31:03.208Z"
   },
   {
    "duration": 39,
    "start_time": "2022-11-28T11:31:03.223Z"
   },
   {
    "duration": 186,
    "start_time": "2022-11-28T11:31:03.266Z"
   },
   {
    "duration": 24,
    "start_time": "2022-11-28T11:31:03.463Z"
   },
   {
    "duration": 25,
    "start_time": "2022-11-28T11:31:03.489Z"
   },
   {
    "duration": 670,
    "start_time": "2022-11-28T11:31:03.516Z"
   },
   {
    "duration": 6424,
    "start_time": "2022-11-28T11:31:04.188Z"
   },
   {
    "duration": 254563,
    "start_time": "2022-11-28T11:31:10.614Z"
   },
   {
    "duration": 13,
    "start_time": "2022-11-28T11:35:25.179Z"
   },
   {
    "duration": 75,
    "start_time": "2022-11-28T11:35:25.194Z"
   },
   {
    "duration": 460,
    "start_time": "2022-11-28T11:35:25.271Z"
   },
   {
    "duration": 320,
    "start_time": "2022-11-28T11:35:25.733Z"
   },
   {
    "duration": 99,
    "start_time": "2022-11-28T11:35:26.055Z"
   },
   {
    "duration": 690,
    "start_time": "2022-11-28T11:35:26.156Z"
   },
   {
    "duration": 62,
    "start_time": "2022-11-28T11:35:26.863Z"
   },
   {
    "duration": 253916,
    "start_time": "2022-11-28T11:35:26.927Z"
   },
   {
    "duration": 300,
    "start_time": "2022-11-28T11:39:40.850Z"
   },
   {
    "duration": 114,
    "start_time": "2022-11-28T11:39:41.157Z"
   },
   {
    "duration": 125,
    "start_time": "2022-11-28T11:39:41.350Z"
   },
   {
    "duration": 213,
    "start_time": "2022-11-28T11:39:41.477Z"
   },
   {
    "duration": 227,
    "start_time": "2022-11-28T11:39:41.693Z"
   },
   {
    "duration": 110,
    "start_time": "2022-11-28T11:39:41.922Z"
   },
   {
    "duration": 7711,
    "start_time": "2022-11-28T11:39:42.034Z"
   },
   {
    "duration": 151,
    "start_time": "2022-11-28T11:39:49.754Z"
   },
   {
    "duration": 1457,
    "start_time": "2022-11-28T11:59:15.427Z"
   },
   {
    "duration": 75,
    "start_time": "2022-11-28T11:59:16.886Z"
   },
   {
    "duration": 17,
    "start_time": "2022-11-28T11:59:16.963Z"
   },
   {
    "duration": 30,
    "start_time": "2022-11-28T11:59:16.982Z"
   },
   {
    "duration": 4,
    "start_time": "2022-11-28T11:59:17.014Z"
   },
   {
    "duration": 23,
    "start_time": "2022-11-28T11:59:17.020Z"
   },
   {
    "duration": 2382,
    "start_time": "2022-11-28T11:59:17.044Z"
   },
   {
    "duration": 23,
    "start_time": "2022-11-28T11:59:19.429Z"
   },
   {
    "duration": 25,
    "start_time": "2022-11-28T11:59:19.454Z"
   },
   {
    "duration": 17,
    "start_time": "2022-11-28T11:59:19.483Z"
   },
   {
    "duration": 152,
    "start_time": "2022-11-28T11:59:19.501Z"
   },
   {
    "duration": 22,
    "start_time": "2022-11-28T11:59:19.655Z"
   },
   {
    "duration": 22,
    "start_time": "2022-11-28T11:59:19.679Z"
   },
   {
    "duration": 13,
    "start_time": "2022-11-28T11:59:19.703Z"
   },
   {
    "duration": 36,
    "start_time": "2022-11-28T11:59:19.718Z"
   },
   {
    "duration": 24,
    "start_time": "2022-11-28T11:59:19.757Z"
   },
   {
    "duration": 39,
    "start_time": "2022-11-28T11:59:19.783Z"
   },
   {
    "duration": 43,
    "start_time": "2022-11-28T11:59:19.825Z"
   },
   {
    "duration": 30,
    "start_time": "2022-11-28T11:59:19.870Z"
   },
   {
    "duration": 602,
    "start_time": "2022-11-28T11:59:19.902Z"
   },
   {
    "duration": 4345,
    "start_time": "2022-11-28T11:59:20.505Z"
   },
   {
    "duration": 232415,
    "start_time": "2022-11-28T11:59:24.852Z"
   },
   {
    "duration": 14,
    "start_time": "2022-11-28T12:03:17.270Z"
   },
   {
    "duration": 78,
    "start_time": "2022-11-28T12:03:17.286Z"
   },
   {
    "duration": 278,
    "start_time": "2022-11-28T12:03:17.369Z"
   },
   {
    "duration": 213,
    "start_time": "2022-11-28T12:03:17.650Z"
   },
   {
    "duration": 93,
    "start_time": "2022-11-28T12:03:17.865Z"
   },
   {
    "duration": 684,
    "start_time": "2022-11-28T12:03:17.964Z"
   },
   {
    "duration": 60,
    "start_time": "2022-11-28T12:03:18.651Z"
   },
   {
    "duration": 237428,
    "start_time": "2022-11-28T12:03:18.713Z"
   },
   {
    "duration": 482,
    "start_time": "2022-11-28T12:07:16.144Z"
   },
   {
    "duration": 229,
    "start_time": "2022-11-28T12:07:16.628Z"
   },
   {
    "duration": 93,
    "start_time": "2022-11-28T12:07:16.860Z"
   },
   {
    "duration": 205,
    "start_time": "2022-11-28T12:07:16.958Z"
   },
   {
    "duration": 233,
    "start_time": "2022-11-28T12:07:17.165Z"
   },
   {
    "duration": 101,
    "start_time": "2022-11-28T12:07:17.400Z"
   },
   {
    "duration": 7476,
    "start_time": "2022-11-28T12:07:17.503Z"
   },
   {
    "duration": 378,
    "start_time": "2022-11-28T12:07:24.981Z"
   },
   {
    "duration": 175,
    "start_time": "2022-11-28T12:51:55.300Z"
   },
   {
    "duration": 843,
    "start_time": "2022-11-28T12:51:55.477Z"
   },
   {
    "duration": 12,
    "start_time": "2022-11-28T12:51:56.322Z"
   },
   {
    "duration": 17,
    "start_time": "2022-11-28T12:51:56.353Z"
   },
   {
    "duration": 136,
    "start_time": "2022-11-28T12:51:56.373Z"
   },
   {
    "duration": 1477,
    "start_time": "2022-11-28T12:57:52.821Z"
   },
   {
    "duration": 72,
    "start_time": "2022-11-28T12:57:54.300Z"
   },
   {
    "duration": 19,
    "start_time": "2022-11-28T12:57:54.374Z"
   },
   {
    "duration": 22,
    "start_time": "2022-11-28T12:57:54.395Z"
   },
   {
    "duration": 4,
    "start_time": "2022-11-28T12:57:54.419Z"
   },
   {
    "duration": 26,
    "start_time": "2022-11-28T12:57:54.425Z"
   },
   {
    "duration": 2374,
    "start_time": "2022-11-28T12:57:54.453Z"
   },
   {
    "duration": 23,
    "start_time": "2022-11-28T12:57:56.828Z"
   },
   {
    "duration": 27,
    "start_time": "2022-11-28T12:57:56.853Z"
   },
   {
    "duration": 23,
    "start_time": "2022-11-28T12:57:56.884Z"
   },
   {
    "duration": 126,
    "start_time": "2022-11-28T12:57:56.909Z"
   },
   {
    "duration": 24,
    "start_time": "2022-11-28T12:57:57.037Z"
   },
   {
    "duration": 18,
    "start_time": "2022-11-28T12:57:57.063Z"
   },
   {
    "duration": 8,
    "start_time": "2022-11-28T12:57:57.082Z"
   },
   {
    "duration": 20,
    "start_time": "2022-11-28T12:57:57.092Z"
   },
   {
    "duration": 28,
    "start_time": "2022-11-28T12:57:57.114Z"
   },
   {
    "duration": 30,
    "start_time": "2022-11-28T12:57:57.150Z"
   },
   {
    "duration": 17,
    "start_time": "2022-11-28T12:57:57.182Z"
   },
   {
    "duration": 24,
    "start_time": "2022-11-28T12:57:57.201Z"
   },
   {
    "duration": 578,
    "start_time": "2022-11-28T12:57:57.251Z"
   },
   {
    "duration": 4738,
    "start_time": "2022-11-28T12:57:57.830Z"
   },
   {
    "duration": 238364,
    "start_time": "2022-11-28T12:58:02.570Z"
   },
   {
    "duration": 19,
    "start_time": "2022-11-28T13:02:00.937Z"
   },
   {
    "duration": 44,
    "start_time": "2022-11-28T13:02:00.957Z"
   },
   {
    "duration": 291,
    "start_time": "2022-11-28T13:02:01.003Z"
   },
   {
    "duration": 160,
    "start_time": "2022-11-28T13:02:01.296Z"
   },
   {
    "duration": 107,
    "start_time": "2022-11-28T13:02:01.460Z"
   },
   {
    "duration": 648,
    "start_time": "2022-11-28T13:02:01.571Z"
   },
   {
    "duration": 64,
    "start_time": "2022-11-28T13:02:02.221Z"
   },
   {
    "duration": 233481,
    "start_time": "2022-11-28T13:02:02.287Z"
   },
   {
    "duration": 313,
    "start_time": "2022-11-28T13:05:55.770Z"
   },
   {
    "duration": 178,
    "start_time": "2022-11-28T13:05:56.085Z"
   },
   {
    "duration": 100,
    "start_time": "2022-11-28T13:05:56.352Z"
   },
   {
    "duration": 181,
    "start_time": "2022-11-28T13:05:56.454Z"
   },
   {
    "duration": 215,
    "start_time": "2022-11-28T13:05:56.637Z"
   },
   {
    "duration": 86,
    "start_time": "2022-11-28T13:05:56.854Z"
   },
   {
    "duration": 6769,
    "start_time": "2022-11-28T13:05:56.951Z"
   },
   {
    "duration": 142,
    "start_time": "2022-11-28T13:06:03.722Z"
   },
   {
    "duration": 745914,
    "start_time": "2022-11-28T13:06:03.867Z"
   },
   {
    "duration": 0,
    "start_time": "2022-11-28T13:18:29.783Z"
   },
   {
    "duration": 0,
    "start_time": "2022-11-28T13:18:29.784Z"
   },
   {
    "duration": 0,
    "start_time": "2022-11-28T13:18:29.787Z"
   },
   {
    "duration": 0,
    "start_time": "2022-11-28T13:18:29.788Z"
   },
   {
    "duration": 1,
    "start_time": "2022-11-28T13:18:29.790Z"
   },
   {
    "duration": 0,
    "start_time": "2022-11-28T13:18:29.793Z"
   },
   {
    "duration": 17,
    "start_time": "2022-11-28T13:18:31.317Z"
   },
   {
    "duration": 1116,
    "start_time": "2022-11-28T13:18:32.254Z"
   },
   {
    "duration": 35,
    "start_time": "2022-11-28T13:18:34.187Z"
   },
   {
    "duration": 439910,
    "start_time": "2022-11-28T13:18:43.831Z"
   },
   {
    "duration": 930,
    "start_time": "2022-11-28T13:26:13.070Z"
   },
   {
    "duration": 119,
    "start_time": "2022-11-28T13:26:18.930Z"
   },
   {
    "duration": 12,
    "start_time": "2022-11-28T13:26:23.018Z"
   },
   {
    "duration": 14,
    "start_time": "2022-11-28T13:27:11.680Z"
   },
   {
    "duration": 30,
    "start_time": "2022-11-28T13:27:12.981Z"
   },
   {
    "duration": 11,
    "start_time": "2022-11-28T13:36:48.257Z"
   },
   {
    "duration": 238,
    "start_time": "2022-11-28T13:37:56.422Z"
   },
   {
    "duration": 20,
    "start_time": "2022-11-28T13:40:00.870Z"
   },
   {
    "duration": 97139,
    "start_time": "2022-11-28T13:41:06.258Z"
   },
   {
    "duration": 35,
    "start_time": "2022-11-28T13:46:16.647Z"
   },
   {
    "duration": 26,
    "start_time": "2022-11-28T13:48:12.671Z"
   },
   {
    "duration": 13,
    "start_time": "2022-11-28T13:50:36.975Z"
   },
   {
    "duration": 8,
    "start_time": "2022-11-28T13:57:34.621Z"
   },
   {
    "duration": 16,
    "start_time": "2022-11-28T13:57:46.146Z"
   },
   {
    "duration": 8,
    "start_time": "2022-11-28T13:57:56.979Z"
   },
   {
    "duration": 17,
    "start_time": "2022-11-28T13:58:03.463Z"
   },
   {
    "duration": 1445,
    "start_time": "2022-11-28T15:50:20.653Z"
   },
   {
    "duration": 95,
    "start_time": "2022-11-28T15:50:22.100Z"
   },
   {
    "duration": 16,
    "start_time": "2022-11-28T15:50:22.197Z"
   },
   {
    "duration": 23,
    "start_time": "2022-11-28T15:50:22.214Z"
   },
   {
    "duration": 3,
    "start_time": "2022-11-28T15:50:22.239Z"
   },
   {
    "duration": 7,
    "start_time": "2022-11-28T15:50:22.243Z"
   },
   {
    "duration": 2290,
    "start_time": "2022-11-28T15:50:22.252Z"
   },
   {
    "duration": 12,
    "start_time": "2022-11-28T15:50:24.544Z"
   },
   {
    "duration": 36,
    "start_time": "2022-11-28T15:50:24.557Z"
   },
   {
    "duration": 25,
    "start_time": "2022-11-28T15:50:24.597Z"
   },
   {
    "duration": 108,
    "start_time": "2022-11-28T15:50:24.624Z"
   },
   {
    "duration": 15,
    "start_time": "2022-11-28T15:50:24.734Z"
   },
   {
    "duration": 22,
    "start_time": "2022-11-28T15:50:24.750Z"
   },
   {
    "duration": 20,
    "start_time": "2022-11-28T15:50:24.773Z"
   },
   {
    "duration": 27,
    "start_time": "2022-11-28T15:50:24.794Z"
   },
   {
    "duration": 34,
    "start_time": "2022-11-28T15:50:24.822Z"
   },
   {
    "duration": 33,
    "start_time": "2022-11-28T15:50:24.858Z"
   },
   {
    "duration": 20,
    "start_time": "2022-11-28T15:50:24.893Z"
   },
   {
    "duration": 38,
    "start_time": "2022-11-28T15:50:24.914Z"
   },
   {
    "duration": 524,
    "start_time": "2022-11-28T15:50:24.954Z"
   },
   {
    "duration": 3797,
    "start_time": "2022-11-28T15:50:25.480Z"
   },
   {
    "duration": 202848,
    "start_time": "2022-11-28T15:50:29.278Z"
   },
   {
    "duration": 8,
    "start_time": "2022-11-28T15:53:52.127Z"
   },
   {
    "duration": 35,
    "start_time": "2022-11-28T15:53:52.137Z"
   },
   {
    "duration": 236,
    "start_time": "2022-11-28T15:53:52.174Z"
   },
   {
    "duration": 110,
    "start_time": "2022-11-28T15:53:52.412Z"
   },
   {
    "duration": 110,
    "start_time": "2022-11-28T15:53:52.524Z"
   },
   {
    "duration": 527,
    "start_time": "2022-11-28T15:53:52.637Z"
   },
   {
    "duration": 46,
    "start_time": "2022-11-28T15:53:53.165Z"
   },
   {
    "duration": 196073,
    "start_time": "2022-11-28T15:53:53.212Z"
   },
   {
    "duration": 270,
    "start_time": "2022-11-28T15:57:09.287Z"
   },
   {
    "duration": 162,
    "start_time": "2022-11-28T15:57:09.559Z"
   },
   {
    "duration": 108,
    "start_time": "2022-11-28T15:57:09.724Z"
   },
   {
    "duration": 171,
    "start_time": "2022-11-28T15:57:09.834Z"
   },
   {
    "duration": 178,
    "start_time": "2022-11-28T15:57:10.007Z"
   },
   {
    "duration": 16,
    "start_time": "2022-11-28T15:57:10.187Z"
   },
   {
    "duration": 994,
    "start_time": "2022-11-28T15:57:10.205Z"
   },
   {
    "duration": 37,
    "start_time": "2022-11-28T15:57:11.201Z"
   },
   {
    "duration": 381294,
    "start_time": "2022-11-28T15:57:11.240Z"
   },
   {
    "duration": 690,
    "start_time": "2022-11-28T16:03:32.536Z"
   },
   {
    "duration": 96,
    "start_time": "2022-11-28T16:03:33.227Z"
   },
   {
    "duration": 10,
    "start_time": "2022-11-28T16:03:33.324Z"
   },
   {
    "duration": 30,
    "start_time": "2022-11-28T16:03:33.335Z"
   },
   {
    "duration": 216,
    "start_time": "2022-11-28T16:03:33.366Z"
   },
   {
    "duration": 14,
    "start_time": "2022-11-28T16:03:33.584Z"
   },
   {
    "duration": 85303,
    "start_time": "2022-11-28T16:03:33.599Z"
   },
   {
    "duration": 30,
    "start_time": "2022-11-28T16:04:58.904Z"
   },
   {
    "duration": 19,
    "start_time": "2022-11-28T16:04:58.936Z"
   },
   {
    "duration": 10,
    "start_time": "2022-11-28T16:04:58.957Z"
   },
   {
    "duration": 46,
    "start_time": "2022-11-28T16:04:58.969Z"
   },
   {
    "duration": 11,
    "start_time": "2022-11-28T16:16:33.566Z"
   },
   {
    "duration": 11,
    "start_time": "2022-11-28T16:16:44.826Z"
   },
   {
    "duration": 12,
    "start_time": "2022-11-28T16:23:10.133Z"
   },
   {
    "duration": 109,
    "start_time": "2022-11-28T16:23:36.229Z"
   },
   {
    "duration": 20,
    "start_time": "2022-11-28T16:23:42.818Z"
   },
   {
    "duration": 20,
    "start_time": "2022-11-28T16:24:56.238Z"
   },
   {
    "duration": 145,
    "start_time": "2022-11-28T16:26:03.072Z"
   },
   {
    "duration": 16,
    "start_time": "2022-11-28T16:26:06.990Z"
   },
   {
    "duration": 11,
    "start_time": "2022-11-28T16:27:04.657Z"
   },
   {
    "duration": 11,
    "start_time": "2022-11-28T16:27:12.616Z"
   },
   {
    "duration": 8,
    "start_time": "2022-11-28T16:27:26.930Z"
   },
   {
    "duration": 11,
    "start_time": "2022-11-28T16:28:04.977Z"
   },
   {
    "duration": 8,
    "start_time": "2022-11-28T16:28:06.137Z"
   },
   {
    "duration": 2,
    "start_time": "2022-11-28T16:28:09.544Z"
   },
   {
    "duration": 3,
    "start_time": "2022-11-28T16:28:17.633Z"
   },
   {
    "duration": 12,
    "start_time": "2022-11-28T17:00:35.585Z"
   },
   {
    "duration": 11,
    "start_time": "2022-11-28T17:00:39.152Z"
   },
   {
    "duration": 16,
    "start_time": "2022-11-28T17:01:16.263Z"
   },
   {
    "duration": 1275,
    "start_time": "2022-11-28T17:01:23.063Z"
   },
   {
    "duration": 61,
    "start_time": "2022-11-28T17:01:24.340Z"
   },
   {
    "duration": 15,
    "start_time": "2022-11-28T17:01:24.403Z"
   },
   {
    "duration": 20,
    "start_time": "2022-11-28T17:01:24.420Z"
   },
   {
    "duration": 4,
    "start_time": "2022-11-28T17:01:24.442Z"
   },
   {
    "duration": 9,
    "start_time": "2022-11-28T17:01:24.448Z"
   },
   {
    "duration": 2141,
    "start_time": "2022-11-28T17:01:24.459Z"
   },
   {
    "duration": 20,
    "start_time": "2022-11-28T17:01:26.602Z"
   },
   {
    "duration": 16,
    "start_time": "2022-11-28T17:01:26.623Z"
   },
   {
    "duration": 11,
    "start_time": "2022-11-28T17:01:26.642Z"
   },
   {
    "duration": 107,
    "start_time": "2022-11-28T17:01:26.654Z"
   },
   {
    "duration": 14,
    "start_time": "2022-11-28T17:01:26.762Z"
   },
   {
    "duration": 14,
    "start_time": "2022-11-28T17:01:26.778Z"
   },
   {
    "duration": 27,
    "start_time": "2022-11-28T17:01:26.794Z"
   },
   {
    "duration": 5,
    "start_time": "2022-11-28T17:01:26.823Z"
   },
   {
    "duration": 13,
    "start_time": "2022-11-28T17:01:26.829Z"
   },
   {
    "duration": 26,
    "start_time": "2022-11-28T17:01:26.844Z"
   },
   {
    "duration": 16,
    "start_time": "2022-11-28T17:01:26.872Z"
   },
   {
    "duration": 44,
    "start_time": "2022-11-28T17:01:26.890Z"
   },
   {
    "duration": 508,
    "start_time": "2022-11-28T17:01:26.936Z"
   },
   {
    "duration": 3878,
    "start_time": "2022-11-28T17:01:27.446Z"
   },
   {
    "duration": 202948,
    "start_time": "2022-11-28T17:01:31.325Z"
   },
   {
    "duration": 8,
    "start_time": "2022-11-28T17:04:54.275Z"
   },
   {
    "duration": 41,
    "start_time": "2022-11-28T17:04:54.284Z"
   },
   {
    "duration": 335,
    "start_time": "2022-11-28T17:04:54.327Z"
   },
   {
    "duration": 69,
    "start_time": "2022-11-28T17:04:54.663Z"
   },
   {
    "duration": 100,
    "start_time": "2022-11-28T17:04:54.822Z"
   },
   {
    "duration": 567,
    "start_time": "2022-11-28T17:04:54.926Z"
   },
   {
    "duration": 51,
    "start_time": "2022-11-28T17:04:55.495Z"
   },
   {
    "duration": 197649,
    "start_time": "2022-11-28T17:04:55.548Z"
   },
   {
    "duration": 253,
    "start_time": "2022-11-28T17:08:13.199Z"
   },
   {
    "duration": 168,
    "start_time": "2022-11-28T17:08:13.453Z"
   },
   {
    "duration": 209,
    "start_time": "2022-11-28T17:08:13.623Z"
   },
   {
    "duration": 0,
    "start_time": "2022-11-28T17:08:13.834Z"
   },
   {
    "duration": 0,
    "start_time": "2022-11-28T17:08:13.835Z"
   },
   {
    "duration": 0,
    "start_time": "2022-11-28T17:08:13.836Z"
   },
   {
    "duration": 0,
    "start_time": "2022-11-28T17:08:13.837Z"
   },
   {
    "duration": 0,
    "start_time": "2022-11-28T17:08:13.838Z"
   },
   {
    "duration": 0,
    "start_time": "2022-11-28T17:08:13.838Z"
   },
   {
    "duration": 0,
    "start_time": "2022-11-28T17:08:13.839Z"
   },
   {
    "duration": 0,
    "start_time": "2022-11-28T17:08:13.840Z"
   },
   {
    "duration": 0,
    "start_time": "2022-11-28T17:08:13.841Z"
   },
   {
    "duration": 0,
    "start_time": "2022-11-28T17:08:13.842Z"
   },
   {
    "duration": 0,
    "start_time": "2022-11-28T17:08:13.843Z"
   },
   {
    "duration": 0,
    "start_time": "2022-11-28T17:08:13.844Z"
   },
   {
    "duration": 0,
    "start_time": "2022-11-28T17:08:13.845Z"
   },
   {
    "duration": 0,
    "start_time": "2022-11-28T17:08:13.846Z"
   },
   {
    "duration": 0,
    "start_time": "2022-11-28T17:08:13.847Z"
   },
   {
    "duration": 0,
    "start_time": "2022-11-28T17:08:13.848Z"
   },
   {
    "duration": 0,
    "start_time": "2022-11-28T17:08:13.849Z"
   },
   {
    "duration": 17,
    "start_time": "2022-11-28T17:09:57.381Z"
   },
   {
    "duration": 12,
    "start_time": "2022-11-28T17:11:16.245Z"
   },
   {
    "duration": 11,
    "start_time": "2022-11-28T17:11:20.152Z"
   },
   {
    "duration": 9,
    "start_time": "2022-11-28T17:11:45.606Z"
   },
   {
    "duration": 3,
    "start_time": "2022-11-28T17:11:48.543Z"
   },
   {
    "duration": 8,
    "start_time": "2022-11-28T17:11:52.760Z"
   },
   {
    "duration": 15,
    "start_time": "2022-11-28T17:13:53.148Z"
   },
   {
    "duration": 9,
    "start_time": "2022-11-28T17:14:28.394Z"
   },
   {
    "duration": 10,
    "start_time": "2022-11-28T17:15:25.206Z"
   },
   {
    "duration": 10,
    "start_time": "2022-11-28T17:15:29.415Z"
   },
   {
    "duration": 148,
    "start_time": "2022-11-28T17:15:53.968Z"
   },
   {
    "duration": 174,
    "start_time": "2022-11-28T17:15:54.763Z"
   },
   {
    "duration": 17,
    "start_time": "2022-11-28T17:15:58.309Z"
   },
   {
    "duration": 960,
    "start_time": "2022-11-28T17:15:58.980Z"
   },
   {
    "duration": 25,
    "start_time": "2022-11-28T17:15:59.941Z"
   },
   {
    "duration": 382689,
    "start_time": "2022-11-28T17:16:00.070Z"
   },
   {
    "duration": 316,
    "start_time": "2022-11-28T17:22:22.760Z"
   },
   {
    "duration": 103,
    "start_time": "2022-11-28T17:22:23.078Z"
   },
   {
    "duration": 10,
    "start_time": "2022-11-28T17:22:23.183Z"
   },
   {
    "duration": 13,
    "start_time": "2022-11-28T17:23:01.026Z"
   },
   {
    "duration": 211,
    "start_time": "2022-11-28T17:23:02.026Z"
   },
   {
    "duration": 16,
    "start_time": "2022-11-28T17:23:03.047Z"
   },
   {
    "duration": 85276,
    "start_time": "2022-11-28T17:23:04.622Z"
   },
   {
    "duration": 22,
    "start_time": "2022-11-28T17:24:42.120Z"
   },
   {
    "duration": 22,
    "start_time": "2022-11-28T17:24:43.519Z"
   },
   {
    "duration": 11,
    "start_time": "2022-11-28T17:24:44.122Z"
   },
   {
    "duration": 3,
    "start_time": "2022-11-28T17:25:43.181Z"
   },
   {
    "duration": 7,
    "start_time": "2022-11-28T17:25:49.283Z"
   },
   {
    "duration": 9,
    "start_time": "2022-11-28T17:33:30.103Z"
   },
   {
    "duration": 10,
    "start_time": "2022-11-28T17:33:32.787Z"
   },
   {
    "duration": 7,
    "start_time": "2022-11-28T17:34:07.436Z"
   },
   {
    "duration": 11,
    "start_time": "2022-11-28T17:34:14.485Z"
   },
   {
    "duration": 10,
    "start_time": "2022-11-28T17:37:51.185Z"
   },
   {
    "duration": 461,
    "start_time": "2022-11-28T17:47:40.705Z"
   },
   {
    "duration": 471,
    "start_time": "2022-11-28T17:50:12.408Z"
   },
   {
    "duration": 1345,
    "start_time": "2022-11-28T17:50:22.761Z"
   },
   {
    "duration": 66,
    "start_time": "2022-11-28T17:50:24.108Z"
   },
   {
    "duration": 17,
    "start_time": "2022-11-28T17:50:24.176Z"
   },
   {
    "duration": 22,
    "start_time": "2022-11-28T17:50:24.195Z"
   },
   {
    "duration": 4,
    "start_time": "2022-11-28T17:50:24.218Z"
   },
   {
    "duration": 9,
    "start_time": "2022-11-28T17:50:24.223Z"
   },
   {
    "duration": 2135,
    "start_time": "2022-11-28T17:50:24.233Z"
   },
   {
    "duration": 12,
    "start_time": "2022-11-28T17:50:26.370Z"
   },
   {
    "duration": 16,
    "start_time": "2022-11-28T17:50:26.383Z"
   },
   {
    "duration": 29,
    "start_time": "2022-11-28T17:50:26.401Z"
   },
   {
    "duration": 94,
    "start_time": "2022-11-28T17:50:26.432Z"
   },
   {
    "duration": 14,
    "start_time": "2022-11-28T17:50:26.528Z"
   },
   {
    "duration": 17,
    "start_time": "2022-11-28T17:50:26.544Z"
   },
   {
    "duration": 15,
    "start_time": "2022-11-28T17:50:26.563Z"
   },
   {
    "duration": 6,
    "start_time": "2022-11-28T17:50:26.580Z"
   },
   {
    "duration": 17,
    "start_time": "2022-11-28T17:50:26.588Z"
   },
   {
    "duration": 44,
    "start_time": "2022-11-28T17:50:26.606Z"
   },
   {
    "duration": 17,
    "start_time": "2022-11-28T17:50:26.651Z"
   },
   {
    "duration": 22,
    "start_time": "2022-11-28T17:50:26.669Z"
   },
   {
    "duration": 526,
    "start_time": "2022-11-28T17:50:26.693Z"
   },
   {
    "duration": 3805,
    "start_time": "2022-11-28T17:50:27.221Z"
   },
   {
    "duration": 203547,
    "start_time": "2022-11-28T17:50:31.028Z"
   },
   {
    "duration": 9,
    "start_time": "2022-11-28T17:53:54.577Z"
   },
   {
    "duration": 45,
    "start_time": "2022-11-28T17:53:54.588Z"
   },
   {
    "duration": 198,
    "start_time": "2022-11-28T17:53:54.635Z"
   },
   {
    "duration": 91,
    "start_time": "2022-11-28T17:53:54.834Z"
   },
   {
    "duration": 102,
    "start_time": "2022-11-28T17:53:54.927Z"
   },
   {
    "duration": 546,
    "start_time": "2022-11-28T17:53:55.034Z"
   },
   {
    "duration": 61,
    "start_time": "2022-11-28T17:53:55.582Z"
   },
   {
    "duration": 196328,
    "start_time": "2022-11-28T17:53:55.644Z"
   },
   {
    "duration": 376,
    "start_time": "2022-11-28T17:57:11.973Z"
   },
   {
    "duration": 172,
    "start_time": "2022-11-28T17:57:12.351Z"
   },
   {
    "duration": 100,
    "start_time": "2022-11-28T17:57:12.526Z"
   },
   {
    "duration": 174,
    "start_time": "2022-11-28T17:57:12.629Z"
   },
   {
    "duration": 195,
    "start_time": "2022-11-28T17:57:12.805Z"
   },
   {
    "duration": 28,
    "start_time": "2022-11-28T17:57:13.002Z"
   },
   {
    "duration": 1011,
    "start_time": "2022-11-28T17:57:13.032Z"
   },
   {
    "duration": 26,
    "start_time": "2022-11-28T17:57:14.045Z"
   },
   {
    "duration": 387754,
    "start_time": "2022-11-28T17:57:14.073Z"
   },
   {
    "duration": 719,
    "start_time": "2022-11-28T18:03:41.828Z"
   },
   {
    "duration": 104,
    "start_time": "2022-11-28T18:03:42.548Z"
   },
   {
    "duration": 11,
    "start_time": "2022-11-28T18:03:42.653Z"
   },
   {
    "duration": 26,
    "start_time": "2022-11-28T18:03:42.665Z"
   },
   {
    "duration": 241,
    "start_time": "2022-11-28T18:03:42.693Z"
   },
   {
    "duration": 16,
    "start_time": "2022-11-28T18:03:42.936Z"
   },
   {
    "duration": 85266,
    "start_time": "2022-11-28T18:03:42.953Z"
   },
   {
    "duration": 22,
    "start_time": "2022-11-28T18:05:08.221Z"
   },
   {
    "duration": 20,
    "start_time": "2022-11-28T18:05:08.244Z"
   },
   {
    "duration": 10,
    "start_time": "2022-11-28T18:05:08.265Z"
   },
   {
    "duration": 23,
    "start_time": "2022-11-28T18:05:08.277Z"
   },
   {
    "duration": 778,
    "start_time": "2022-11-28T18:05:08.301Z"
   },
   {
    "duration": 77,
    "start_time": "2022-11-28T18:10:21.395Z"
   },
   {
    "duration": 339,
    "start_time": "2022-11-28T18:10:43.754Z"
   },
   {
    "duration": 88,
    "start_time": "2022-11-28T18:12:26.242Z"
   },
   {
    "duration": 9,
    "start_time": "2022-11-28T18:12:52.068Z"
   },
   {
    "duration": 719,
    "start_time": "2022-11-28T18:14:45.519Z"
   },
   {
    "duration": 721,
    "start_time": "2022-11-28T18:14:53.707Z"
   },
   {
    "duration": 390,
    "start_time": "2022-11-28T18:15:18.352Z"
   },
   {
    "duration": 384,
    "start_time": "2022-11-28T18:15:59.415Z"
   },
   {
    "duration": 154,
    "start_time": "2022-11-28T18:20:08.188Z"
   },
   {
    "duration": 720,
    "start_time": "2022-11-28T19:09:55.518Z"
   },
   {
    "duration": 745,
    "start_time": "2022-11-28T19:10:09.295Z"
   },
   {
    "duration": 708,
    "start_time": "2022-11-28T19:11:52.067Z"
   },
   {
    "duration": 177,
    "start_time": "2022-11-28T19:15:51.794Z"
   },
   {
    "duration": 203,
    "start_time": "2022-11-28T19:19:48.118Z"
   },
   {
    "duration": 10,
    "start_time": "2022-11-28T19:53:48.503Z"
   },
   {
    "duration": 25,
    "start_time": "2022-11-28T19:54:07.765Z"
   },
   {
    "duration": 179,
    "start_time": "2022-11-28T19:54:22.375Z"
   },
   {
    "duration": 184,
    "start_time": "2022-11-28T19:55:01.712Z"
   },
   {
    "duration": 172,
    "start_time": "2022-11-28T20:02:23.908Z"
   },
   {
    "duration": 182,
    "start_time": "2022-11-28T20:02:34.121Z"
   },
   {
    "duration": 27,
    "start_time": "2022-11-28T20:37:57.235Z"
   },
   {
    "duration": 739,
    "start_time": "2022-11-28T20:38:26.142Z"
   },
   {
    "duration": 93,
    "start_time": "2022-11-28T20:41:28.081Z"
   },
   {
    "duration": 11,
    "start_time": "2022-11-28T20:41:30.830Z"
   },
   {
    "duration": 96,
    "start_time": "2022-11-28T21:01:21.635Z"
   },
   {
    "duration": 25,
    "start_time": "2022-11-28T21:23:47.926Z"
   },
   {
    "duration": 1443,
    "start_time": "2022-11-28T21:23:48.865Z"
   },
   {
    "duration": 38,
    "start_time": "2022-11-28T21:23:50.310Z"
   },
   {
    "duration": 1288,
    "start_time": "2022-11-28T21:24:11.295Z"
   },
   {
    "duration": 60,
    "start_time": "2022-11-28T21:24:12.585Z"
   },
   {
    "duration": 14,
    "start_time": "2022-11-28T21:24:12.647Z"
   },
   {
    "duration": 19,
    "start_time": "2022-11-28T21:24:12.663Z"
   },
   {
    "duration": 3,
    "start_time": "2022-11-28T21:24:12.683Z"
   },
   {
    "duration": 6,
    "start_time": "2022-11-28T21:24:12.688Z"
   },
   {
    "duration": 1974,
    "start_time": "2022-11-28T21:24:12.696Z"
   },
   {
    "duration": 12,
    "start_time": "2022-11-28T21:24:14.672Z"
   },
   {
    "duration": 17,
    "start_time": "2022-11-28T21:24:14.685Z"
   },
   {
    "duration": 12,
    "start_time": "2022-11-28T21:24:14.720Z"
   },
   {
    "duration": 96,
    "start_time": "2022-11-28T21:24:14.734Z"
   },
   {
    "duration": 16,
    "start_time": "2022-11-28T21:24:14.831Z"
   },
   {
    "duration": 15,
    "start_time": "2022-11-28T21:24:14.848Z"
   },
   {
    "duration": 9,
    "start_time": "2022-11-28T21:24:14.864Z"
   },
   {
    "duration": 6,
    "start_time": "2022-11-28T21:24:14.874Z"
   },
   {
    "duration": 41,
    "start_time": "2022-11-28T21:24:14.881Z"
   },
   {
    "duration": 28,
    "start_time": "2022-11-28T21:24:14.924Z"
   },
   {
    "duration": 16,
    "start_time": "2022-11-28T21:24:14.953Z"
   },
   {
    "duration": 22,
    "start_time": "2022-11-28T21:24:14.970Z"
   },
   {
    "duration": 554,
    "start_time": "2022-11-28T21:24:14.993Z"
   },
   {
    "duration": 3792,
    "start_time": "2022-11-28T21:24:15.549Z"
   },
   {
    "duration": 202558,
    "start_time": "2022-11-28T21:24:19.343Z"
   },
   {
    "duration": 8,
    "start_time": "2022-11-28T21:27:41.902Z"
   },
   {
    "duration": 36,
    "start_time": "2022-11-28T21:27:41.921Z"
   },
   {
    "duration": 360,
    "start_time": "2022-11-28T21:27:41.959Z"
   },
   {
    "duration": 105,
    "start_time": "2022-11-28T21:27:42.321Z"
   },
   {
    "duration": 106,
    "start_time": "2022-11-28T21:27:42.428Z"
   },
   {
    "duration": 591,
    "start_time": "2022-11-28T21:27:42.537Z"
   },
   {
    "duration": 51,
    "start_time": "2022-11-28T21:27:43.131Z"
   },
   {
    "duration": 195857,
    "start_time": "2022-11-28T21:27:43.184Z"
   },
   {
    "duration": 203,
    "start_time": "2022-11-28T21:30:59.043Z"
   },
   {
    "duration": 173,
    "start_time": "2022-11-28T21:30:59.248Z"
   },
   {
    "duration": 103,
    "start_time": "2022-11-28T21:30:59.426Z"
   },
   {
    "duration": 148,
    "start_time": "2022-11-28T21:30:59.530Z"
   },
   {
    "duration": 175,
    "start_time": "2022-11-28T21:30:59.679Z"
   },
   {
    "duration": 23,
    "start_time": "2022-11-28T21:30:59.855Z"
   },
   {
    "duration": 1439,
    "start_time": "2022-11-28T21:30:59.880Z"
   },
   {
    "duration": 34,
    "start_time": "2022-11-28T21:31:01.322Z"
   },
   {
    "duration": 564170,
    "start_time": "2022-11-28T21:31:01.357Z"
   },
   {
    "duration": 367,
    "start_time": "2022-11-28T21:40:25.529Z"
   },
   {
    "duration": 132,
    "start_time": "2022-11-28T21:40:25.898Z"
   },
   {
    "duration": 129,
    "start_time": "2022-11-28T21:40:26.032Z"
   },
   {
    "duration": 0,
    "start_time": "2022-11-28T21:40:26.163Z"
   },
   {
    "duration": 0,
    "start_time": "2022-11-28T21:40:26.164Z"
   },
   {
    "duration": 0,
    "start_time": "2022-11-28T21:40:26.165Z"
   },
   {
    "duration": 0,
    "start_time": "2022-11-28T21:40:26.166Z"
   },
   {
    "duration": 0,
    "start_time": "2022-11-28T21:40:26.167Z"
   },
   {
    "duration": 0,
    "start_time": "2022-11-28T21:40:26.168Z"
   },
   {
    "duration": 0,
    "start_time": "2022-11-28T21:40:26.169Z"
   },
   {
    "duration": 0,
    "start_time": "2022-11-28T21:40:26.170Z"
   },
   {
    "duration": 0,
    "start_time": "2022-11-28T21:40:26.171Z"
   },
   {
    "duration": 0,
    "start_time": "2022-11-28T21:40:26.172Z"
   },
   {
    "duration": 0,
    "start_time": "2022-11-28T21:40:26.173Z"
   },
   {
    "duration": 4,
    "start_time": "2022-11-28T21:46:15.456Z"
   },
   {
    "duration": 4,
    "start_time": "2022-11-28T21:46:28.100Z"
   },
   {
    "duration": 15,
    "start_time": "2022-11-28T21:47:12.653Z"
   },
   {
    "duration": 11,
    "start_time": "2022-11-28T21:55:35.630Z"
   },
   {
    "duration": 11,
    "start_time": "2022-11-28T21:55:40.513Z"
   },
   {
    "duration": 12,
    "start_time": "2022-11-28T22:04:12.663Z"
   },
   {
    "duration": 13,
    "start_time": "2022-11-28T22:20:14.901Z"
   },
   {
    "duration": 1262,
    "start_time": "2022-11-28T22:24:20.116Z"
   },
   {
    "duration": 59,
    "start_time": "2022-11-28T22:24:21.380Z"
   },
   {
    "duration": 15,
    "start_time": "2022-11-28T22:24:21.440Z"
   },
   {
    "duration": 22,
    "start_time": "2022-11-28T22:24:21.457Z"
   },
   {
    "duration": 6,
    "start_time": "2022-11-28T22:24:21.480Z"
   },
   {
    "duration": 17,
    "start_time": "2022-11-28T22:24:21.488Z"
   },
   {
    "duration": 2057,
    "start_time": "2022-11-28T22:24:21.506Z"
   },
   {
    "duration": 13,
    "start_time": "2022-11-28T22:24:23.564Z"
   },
   {
    "duration": 23,
    "start_time": "2022-11-28T22:24:23.579Z"
   },
   {
    "duration": 21,
    "start_time": "2022-11-28T22:24:23.605Z"
   },
   {
    "duration": 103,
    "start_time": "2022-11-28T22:24:23.628Z"
   },
   {
    "duration": 15,
    "start_time": "2022-11-28T22:24:23.733Z"
   },
   {
    "duration": 15,
    "start_time": "2022-11-28T22:24:23.750Z"
   },
   {
    "duration": 8,
    "start_time": "2022-11-28T22:24:23.767Z"
   },
   {
    "duration": 5,
    "start_time": "2022-11-28T22:24:23.777Z"
   },
   {
    "duration": 42,
    "start_time": "2022-11-28T22:24:23.784Z"
   },
   {
    "duration": 27,
    "start_time": "2022-11-28T22:24:23.827Z"
   },
   {
    "duration": 14,
    "start_time": "2022-11-28T22:24:23.855Z"
   },
   {
    "duration": 22,
    "start_time": "2022-11-28T22:24:23.870Z"
   },
   {
    "duration": 559,
    "start_time": "2022-11-28T22:24:23.894Z"
   },
   {
    "duration": 3855,
    "start_time": "2022-11-28T22:24:24.455Z"
   },
   {
    "duration": 200726,
    "start_time": "2022-11-28T22:24:28.312Z"
   },
   {
    "duration": 10,
    "start_time": "2022-11-28T22:27:49.040Z"
   },
   {
    "duration": 34,
    "start_time": "2022-11-28T22:27:49.052Z"
   },
   {
    "duration": 317,
    "start_time": "2022-11-28T22:27:49.087Z"
   },
   {
    "duration": 122,
    "start_time": "2022-11-28T22:27:49.406Z"
   },
   {
    "duration": 99,
    "start_time": "2022-11-28T22:27:49.530Z"
   },
   {
    "duration": 523,
    "start_time": "2022-11-28T22:27:49.632Z"
   },
   {
    "duration": 46,
    "start_time": "2022-11-28T22:27:50.157Z"
   },
   {
    "duration": 195103,
    "start_time": "2022-11-28T22:27:50.205Z"
   },
   {
    "duration": 251,
    "start_time": "2022-11-28T22:31:05.310Z"
   },
   {
    "duration": 364,
    "start_time": "2022-11-28T22:31:05.563Z"
   },
   {
    "duration": 94,
    "start_time": "2022-11-28T22:31:05.930Z"
   },
   {
    "duration": 158,
    "start_time": "2022-11-28T22:31:06.026Z"
   },
   {
    "duration": 177,
    "start_time": "2022-11-28T22:31:06.186Z"
   },
   {
    "duration": 23,
    "start_time": "2022-11-28T22:31:06.365Z"
   },
   {
    "duration": 1406,
    "start_time": "2022-11-28T22:31:06.389Z"
   },
   {
    "duration": 39,
    "start_time": "2022-11-28T22:31:07.797Z"
   },
   {
    "duration": 558101,
    "start_time": "2022-11-28T22:31:07.838Z"
   },
   {
    "duration": 1193,
    "start_time": "2022-11-28T22:40:25.940Z"
   },
   {
    "duration": 128,
    "start_time": "2022-11-28T22:40:27.135Z"
   },
   {
    "duration": 109,
    "start_time": "2022-11-28T22:40:27.265Z"
   },
   {
    "duration": 0,
    "start_time": "2022-11-28T22:40:27.376Z"
   },
   {
    "duration": 0,
    "start_time": "2022-11-28T22:40:27.378Z"
   },
   {
    "duration": 0,
    "start_time": "2022-11-28T22:40:27.379Z"
   },
   {
    "duration": 0,
    "start_time": "2022-11-28T22:40:27.380Z"
   },
   {
    "duration": 0,
    "start_time": "2022-11-28T22:40:27.382Z"
   },
   {
    "duration": 0,
    "start_time": "2022-11-28T22:40:27.384Z"
   },
   {
    "duration": 0,
    "start_time": "2022-11-28T22:40:27.386Z"
   },
   {
    "duration": 0,
    "start_time": "2022-11-28T22:40:27.387Z"
   },
   {
    "duration": 0,
    "start_time": "2022-11-28T22:40:27.389Z"
   },
   {
    "duration": 0,
    "start_time": "2022-11-28T22:40:27.390Z"
   },
   {
    "duration": 0,
    "start_time": "2022-11-28T22:40:27.391Z"
   },
   {
    "duration": 13,
    "start_time": "2022-11-28T22:46:16.799Z"
   },
   {
    "duration": 13,
    "start_time": "2022-11-28T22:47:15.431Z"
   },
   {
    "duration": 14,
    "start_time": "2022-11-28T22:47:27.196Z"
   },
   {
    "duration": 13,
    "start_time": "2022-11-28T22:47:31.873Z"
   },
   {
    "duration": 20,
    "start_time": "2022-11-28T22:47:48.879Z"
   },
   {
    "duration": 12,
    "start_time": "2022-11-28T22:47:59.738Z"
   },
   {
    "duration": 19,
    "start_time": "2022-11-28T22:48:05.697Z"
   },
   {
    "duration": 10,
    "start_time": "2022-11-28T22:48:26.764Z"
   },
   {
    "duration": 10,
    "start_time": "2022-11-28T22:48:31.596Z"
   },
   {
    "duration": 10,
    "start_time": "2022-11-28T22:50:39.991Z"
   },
   {
    "duration": 142,
    "start_time": "2022-11-28T22:50:43.307Z"
   },
   {
    "duration": 169,
    "start_time": "2022-11-28T22:50:43.987Z"
   },
   {
    "duration": 24,
    "start_time": "2022-11-28T22:50:44.608Z"
   },
   {
    "duration": 1393,
    "start_time": "2022-11-28T22:50:45.343Z"
   },
   {
    "duration": 34,
    "start_time": "2022-11-28T22:50:46.738Z"
   },
   {
    "duration": 14,
    "start_time": "2022-11-28T22:51:45.564Z"
   },
   {
    "duration": 204,
    "start_time": "2022-11-28T22:51:48.739Z"
   },
   {
    "duration": 16,
    "start_time": "2022-11-28T22:51:50.511Z"
   },
   {
    "duration": 15,
    "start_time": "2022-11-28T22:52:29.635Z"
   },
   {
    "duration": 17,
    "start_time": "2022-11-28T22:52:41.902Z"
   },
   {
    "duration": 83662,
    "start_time": "2022-11-28T22:52:48.834Z"
   },
   {
    "duration": 23,
    "start_time": "2022-11-28T22:57:54.490Z"
   },
   {
    "duration": 21,
    "start_time": "2022-11-28T22:57:56.416Z"
   },
   {
    "duration": 16,
    "start_time": "2022-11-28T22:58:55.515Z"
   },
   {
    "duration": 26,
    "start_time": "2022-11-28T22:59:27.359Z"
   },
   {
    "duration": 24,
    "start_time": "2022-11-28T22:59:43.641Z"
   },
   {
    "duration": 26,
    "start_time": "2022-11-28T22:59:49.707Z"
   },
   {
    "duration": 22,
    "start_time": "2022-11-28T22:59:53.042Z"
   },
   {
    "duration": 10,
    "start_time": "2022-11-28T23:00:02.414Z"
   },
   {
    "duration": 8,
    "start_time": "2022-11-28T23:00:09.512Z"
   },
   {
    "duration": 630,
    "start_time": "2022-11-28T23:05:09.267Z"
   },
   {
    "duration": 160,
    "start_time": "2022-11-28T23:05:12.427Z"
   },
   {
    "duration": 182,
    "start_time": "2022-11-28T23:05:16.345Z"
   },
   {
    "duration": 242,
    "start_time": "2022-11-28T23:06:07.075Z"
   },
   {
    "duration": 161,
    "start_time": "2022-11-28T23:06:10.255Z"
   },
   {
    "duration": 184,
    "start_time": "2022-11-28T23:06:14.089Z"
   },
   {
    "duration": 620,
    "start_time": "2022-11-28T23:06:33.290Z"
   },
   {
    "duration": 170,
    "start_time": "2022-11-28T23:06:36.441Z"
   },
   {
    "duration": 262,
    "start_time": "2022-11-28T23:06:39.973Z"
   },
   {
    "duration": 32,
    "start_time": "2022-11-28T23:06:49.263Z"
   },
   {
    "duration": 974,
    "start_time": "2022-11-28T23:06:57.243Z"
   },
   {
    "duration": 161,
    "start_time": "2022-11-28T23:07:01.879Z"
   },
   {
    "duration": 186,
    "start_time": "2022-11-28T23:07:05.812Z"
   },
   {
    "duration": 32,
    "start_time": "2022-11-28T23:07:24.346Z"
   },
   {
    "duration": 2336,
    "start_time": "2022-11-28T23:07:25.897Z"
   },
   {
    "duration": 52,
    "start_time": "2022-11-28T23:07:31.998Z"
   },
   {
    "duration": 898879,
    "start_time": "2022-11-28T23:07:35.104Z"
   },
   {
    "duration": 1517,
    "start_time": "2022-11-28T23:24:13.686Z"
   },
   {
    "duration": 244,
    "start_time": "2022-11-28T23:24:17.919Z"
   },
   {
    "duration": 10,
    "start_time": "2022-11-28T23:24:20.172Z"
   },
   {
    "duration": 12,
    "start_time": "2022-11-28T23:24:23.983Z"
   },
   {
    "duration": 236,
    "start_time": "2022-11-28T23:24:25.064Z"
   },
   {
    "duration": 17,
    "start_time": "2022-11-28T23:24:25.464Z"
   },
   {
    "duration": 24,
    "start_time": "2022-11-28T23:25:50.802Z"
   },
   {
    "duration": 84334,
    "start_time": "2022-11-28T23:25:50.828Z"
   },
   {
    "duration": 23,
    "start_time": "2022-11-28T23:29:55.770Z"
   },
   {
    "duration": 22,
    "start_time": "2022-11-28T23:31:37.107Z"
   },
   {
    "duration": 10,
    "start_time": "2022-11-28T23:31:37.755Z"
   },
   {
    "duration": 8,
    "start_time": "2022-11-28T23:31:42.991Z"
   },
   {
    "duration": 987,
    "start_time": "2022-11-28T23:31:51.620Z"
   },
   {
    "duration": 160,
    "start_time": "2022-11-28T23:31:52.609Z"
   },
   {
    "duration": 183,
    "start_time": "2022-11-28T23:31:53.663Z"
   },
   {
    "duration": 366,
    "start_time": "2022-11-28T23:33:57.056Z"
   },
   {
    "duration": 167,
    "start_time": "2022-11-28T23:33:58.200Z"
   },
   {
    "duration": 196,
    "start_time": "2022-11-28T23:34:01.651Z"
   },
   {
    "duration": 240,
    "start_time": "2022-11-28T23:35:32.135Z"
   },
   {
    "duration": 166,
    "start_time": "2022-11-28T23:35:32.846Z"
   },
   {
    "duration": 179,
    "start_time": "2022-11-28T23:35:33.535Z"
   },
   {
    "duration": 963,
    "start_time": "2022-11-28T23:37:33.768Z"
   },
   {
    "duration": 160,
    "start_time": "2022-11-28T23:37:34.733Z"
   },
   {
    "duration": 273,
    "start_time": "2022-11-28T23:37:35.499Z"
   },
   {
    "duration": 24,
    "start_time": "2022-11-28T23:37:58.905Z"
   },
   {
    "duration": 1680,
    "start_time": "2022-11-28T23:38:00.670Z"
   },
   {
    "duration": 40,
    "start_time": "2022-11-28T23:38:03.078Z"
   },
   {
    "duration": 644866,
    "start_time": "2022-11-28T23:38:14.120Z"
   },
   {
    "duration": 1095,
    "start_time": "2022-11-28T23:50:22.094Z"
   },
   {
    "duration": 172,
    "start_time": "2022-11-28T23:50:24.576Z"
   },
   {
    "duration": 11,
    "start_time": "2022-11-28T23:50:25.293Z"
   },
   {
    "duration": 12,
    "start_time": "2022-11-28T23:50:27.614Z"
   },
   {
    "duration": 208,
    "start_time": "2022-11-28T23:50:28.788Z"
   },
   {
    "duration": 17,
    "start_time": "2022-11-28T23:50:29.536Z"
   },
   {
    "duration": 23,
    "start_time": "2022-11-28T23:51:54.426Z"
   },
   {
    "duration": 84920,
    "start_time": "2022-11-28T23:51:54.450Z"
   },
   {
    "duration": 24,
    "start_time": "2022-11-28T23:53:33.760Z"
   },
   {
    "duration": 22,
    "start_time": "2022-11-28T23:53:35.546Z"
   },
   {
    "duration": 10,
    "start_time": "2022-11-28T23:53:36.383Z"
   },
   {
    "duration": 8,
    "start_time": "2022-11-28T23:53:39.563Z"
   },
   {
    "duration": 712,
    "start_time": "2022-11-28T23:59:26.277Z"
   },
   {
    "duration": 166,
    "start_time": "2022-11-28T23:59:27.320Z"
   },
   {
    "duration": 184,
    "start_time": "2022-11-28T23:59:28.685Z"
   },
   {
    "duration": 159,
    "start_time": "2022-11-28T23:59:47.531Z"
   },
   {
    "duration": 182,
    "start_time": "2022-11-28T23:59:48.368Z"
   },
   {
    "duration": 16,
    "start_time": "2022-11-29T00:00:07.683Z"
   },
   {
    "duration": 438,
    "start_time": "2022-11-29T00:00:11.573Z"
   },
   {
    "duration": 169,
    "start_time": "2022-11-29T00:00:12.681Z"
   },
   {
    "duration": 181,
    "start_time": "2022-11-29T00:00:13.846Z"
   },
   {
    "duration": 468,
    "start_time": "2022-11-29T00:02:10.314Z"
   },
   {
    "duration": 166,
    "start_time": "2022-11-29T00:02:11.334Z"
   },
   {
    "duration": 161,
    "start_time": "2022-11-29T00:02:14.104Z"
   },
   {
    "duration": 9,
    "start_time": "2022-11-29T00:02:22.829Z"
   },
   {
    "duration": 24,
    "start_time": "2022-11-29T00:02:41.106Z"
   },
   {
    "duration": 1645,
    "start_time": "2022-11-29T00:02:48.460Z"
   },
   {
    "duration": 40,
    "start_time": "2022-11-29T00:02:52.568Z"
   },
   {
    "duration": 44,
    "start_time": "2022-11-29T00:03:01.578Z"
   },
   {
    "duration": 41,
    "start_time": "2022-11-29T00:03:17.642Z"
   },
   {
    "duration": 646286,
    "start_time": "2022-11-29T00:03:20.362Z"
   },
   {
    "duration": 1073,
    "start_time": "2022-11-29T00:14:10.502Z"
   },
   {
    "duration": 189,
    "start_time": "2022-11-29T00:14:14.550Z"
   },
   {
    "duration": 10,
    "start_time": "2022-11-29T00:14:16.026Z"
   },
   {
    "duration": 13,
    "start_time": "2022-11-29T00:14:20.710Z"
   },
   {
    "duration": 207,
    "start_time": "2022-11-29T00:14:22.285Z"
   },
   {
    "duration": 695,
    "start_time": "2022-11-29T00:14:31.788Z"
   },
   {
    "duration": 161,
    "start_time": "2022-11-29T00:14:33.545Z"
   },
   {
    "duration": 157,
    "start_time": "2022-11-29T00:14:36.393Z"
   },
   {
    "duration": 1107,
    "start_time": "2022-11-29T00:15:43.062Z"
   },
   {
    "duration": 180,
    "start_time": "2022-11-29T00:15:44.171Z"
   },
   {
    "duration": 161,
    "start_time": "2022-11-29T00:15:44.847Z"
   },
   {
    "duration": 361,
    "start_time": "2022-11-29T00:16:06.130Z"
   },
   {
    "duration": 174,
    "start_time": "2022-11-29T00:16:06.731Z"
   },
   {
    "duration": 159,
    "start_time": "2022-11-29T00:16:11.215Z"
   },
   {
    "duration": 1118,
    "start_time": "2022-11-29T00:17:24.555Z"
   },
   {
    "duration": 732,
    "start_time": "2022-11-29T00:17:33.844Z"
   },
   {
    "duration": 163,
    "start_time": "2022-11-29T00:17:36.787Z"
   },
   {
    "duration": 156,
    "start_time": "2022-11-29T00:17:40.009Z"
   },
   {
    "duration": 186,
    "start_time": "2022-11-29T00:19:50.215Z"
   },
   {
    "duration": 237,
    "start_time": "2022-11-29T00:21:36.650Z"
   },
   {
    "duration": 159,
    "start_time": "2022-11-29T00:21:37.929Z"
   },
   {
    "duration": 168,
    "start_time": "2022-11-29T00:21:38.542Z"
   },
   {
    "duration": 715,
    "start_time": "2022-11-29T00:22:48.516Z"
   },
   {
    "duration": 98,
    "start_time": "2022-11-29T00:22:55.362Z"
   },
   {
    "duration": 493,
    "start_time": "2022-11-29T00:23:01.863Z"
   },
   {
    "duration": 31,
    "start_time": "2022-11-29T00:23:07.538Z"
   },
   {
    "duration": 982,
    "start_time": "2022-11-29T00:23:11.084Z"
   },
   {
    "duration": 19,
    "start_time": "2022-11-29T00:23:19.259Z"
   },
   {
    "duration": 563,
    "start_time": "2022-11-29T00:23:22.547Z"
   },
   {
    "duration": 23,
    "start_time": "2022-11-29T00:23:29.825Z"
   },
   {
    "duration": 700,
    "start_time": "2022-11-29T00:23:33.065Z"
   },
   {
    "duration": 161,
    "start_time": "2022-11-29T00:23:53.029Z"
   },
   {
    "duration": 161,
    "start_time": "2022-11-29T00:23:56.569Z"
   },
   {
    "duration": 731,
    "start_time": "2022-11-29T00:24:13.896Z"
   },
   {
    "duration": 712,
    "start_time": "2022-11-29T00:24:26.736Z"
   },
   {
    "duration": 164,
    "start_time": "2022-11-29T00:24:30.591Z"
   },
   {
    "duration": 176,
    "start_time": "2022-11-29T00:24:35.247Z"
   },
   {
    "duration": 1241,
    "start_time": "2022-11-29T00:30:26.562Z"
   },
   {
    "duration": 64,
    "start_time": "2022-11-29T00:30:27.805Z"
   },
   {
    "duration": 16,
    "start_time": "2022-11-29T00:30:27.873Z"
   },
   {
    "duration": 20,
    "start_time": "2022-11-29T00:30:27.890Z"
   },
   {
    "duration": 3,
    "start_time": "2022-11-29T00:30:27.912Z"
   },
   {
    "duration": 7,
    "start_time": "2022-11-29T00:30:27.917Z"
   },
   {
    "duration": 1948,
    "start_time": "2022-11-29T00:30:27.925Z"
   },
   {
    "duration": 11,
    "start_time": "2022-11-29T00:30:29.875Z"
   },
   {
    "duration": 15,
    "start_time": "2022-11-29T00:30:29.889Z"
   },
   {
    "duration": 10,
    "start_time": "2022-11-29T00:30:29.921Z"
   },
   {
    "duration": 96,
    "start_time": "2022-11-29T00:30:29.932Z"
   },
   {
    "duration": 15,
    "start_time": "2022-11-29T00:30:30.029Z"
   },
   {
    "duration": 15,
    "start_time": "2022-11-29T00:30:30.045Z"
   },
   {
    "duration": 24,
    "start_time": "2022-11-29T00:30:30.061Z"
   },
   {
    "duration": 20,
    "start_time": "2022-11-29T00:30:30.087Z"
   },
   {
    "duration": 33,
    "start_time": "2022-11-29T00:30:30.108Z"
   },
   {
    "duration": 28,
    "start_time": "2022-11-29T00:30:30.143Z"
   },
   {
    "duration": 15,
    "start_time": "2022-11-29T00:30:30.173Z"
   },
   {
    "duration": 21,
    "start_time": "2022-11-29T00:30:30.189Z"
   },
   {
    "duration": 517,
    "start_time": "2022-11-29T00:30:30.211Z"
   },
   {
    "duration": 3776,
    "start_time": "2022-11-29T00:30:30.729Z"
   },
   {
    "duration": 201150,
    "start_time": "2022-11-29T00:30:34.506Z"
   },
   {
    "duration": 8,
    "start_time": "2022-11-29T00:33:55.658Z"
   },
   {
    "duration": 29,
    "start_time": "2022-11-29T00:33:55.667Z"
   },
   {
    "duration": 331,
    "start_time": "2022-11-29T00:33:55.697Z"
   },
   {
    "duration": 194,
    "start_time": "2022-11-29T00:33:56.029Z"
   },
   {
    "duration": 101,
    "start_time": "2022-11-29T00:33:56.228Z"
   },
   {
    "duration": 520,
    "start_time": "2022-11-29T00:33:56.331Z"
   },
   {
    "duration": 45,
    "start_time": "2022-11-29T00:33:56.853Z"
   },
   {
    "duration": 193804,
    "start_time": "2022-11-29T00:33:56.899Z"
   },
   {
    "duration": 257,
    "start_time": "2022-11-29T00:37:10.704Z"
   },
   {
    "duration": 60,
    "start_time": "2022-11-29T00:37:10.962Z"
   },
   {
    "duration": 101,
    "start_time": "2022-11-29T00:37:11.024Z"
   },
   {
    "duration": 158,
    "start_time": "2022-11-29T00:37:11.127Z"
   },
   {
    "duration": 173,
    "start_time": "2022-11-29T00:37:11.287Z"
   },
   {
    "duration": 27,
    "start_time": "2022-11-29T00:37:11.463Z"
   },
   {
    "duration": 1640,
    "start_time": "2022-11-29T00:37:11.491Z"
   },
   {
    "duration": 37,
    "start_time": "2022-11-29T00:37:13.133Z"
   },
   {
    "duration": 638862,
    "start_time": "2022-11-29T00:37:13.172Z"
   },
   {
    "duration": 355,
    "start_time": "2022-11-29T00:47:52.035Z"
   },
   {
    "duration": 206,
    "start_time": "2022-11-29T00:47:52.392Z"
   },
   {
    "duration": 10,
    "start_time": "2022-11-29T00:47:52.599Z"
   },
   {
    "duration": 22,
    "start_time": "2022-11-29T00:47:52.611Z"
   },
   {
    "duration": 223,
    "start_time": "2022-11-29T00:47:52.634Z"
   },
   {
    "duration": 16,
    "start_time": "2022-11-29T00:47:52.859Z"
   },
   {
    "duration": 84313,
    "start_time": "2022-11-29T00:47:52.876Z"
   },
   {
    "duration": 31,
    "start_time": "2022-11-29T00:49:17.191Z"
   },
   {
    "duration": 20,
    "start_time": "2022-11-29T00:49:17.223Z"
   },
   {
    "duration": 9,
    "start_time": "2022-11-29T00:49:17.244Z"
   },
   {
    "duration": 9,
    "start_time": "2022-11-29T00:49:17.254Z"
   },
   {
    "duration": 797,
    "start_time": "2022-11-29T00:49:17.264Z"
   },
   {
    "duration": 162,
    "start_time": "2022-11-29T00:49:18.063Z"
   },
   {
    "duration": 160,
    "start_time": "2022-11-29T00:49:18.226Z"
   },
   {
    "duration": 1505,
    "start_time": "2022-11-29T16:27:09.003Z"
   },
   {
    "duration": 427,
    "start_time": "2022-11-29T16:27:10.510Z"
   },
   {
    "duration": 25,
    "start_time": "2022-11-29T16:27:10.939Z"
   },
   {
    "duration": 24,
    "start_time": "2022-11-29T16:27:10.967Z"
   },
   {
    "duration": 4,
    "start_time": "2022-11-29T16:27:10.993Z"
   },
   {
    "duration": 7,
    "start_time": "2022-11-29T16:27:10.998Z"
   },
   {
    "duration": 2102,
    "start_time": "2022-11-29T16:27:11.007Z"
   },
   {
    "duration": 14,
    "start_time": "2022-11-29T16:27:13.110Z"
   },
   {
    "duration": 18,
    "start_time": "2022-11-29T16:27:13.126Z"
   },
   {
    "duration": 42,
    "start_time": "2022-11-29T16:27:13.146Z"
   },
   {
    "duration": 97,
    "start_time": "2022-11-29T16:27:13.189Z"
   },
   {
    "duration": 15,
    "start_time": "2022-11-29T16:27:13.287Z"
   },
   {
    "duration": 16,
    "start_time": "2022-11-29T16:27:13.303Z"
   },
   {
    "duration": 9,
    "start_time": "2022-11-29T16:27:13.320Z"
   },
   {
    "duration": 6,
    "start_time": "2022-11-29T16:27:13.331Z"
   },
   {
    "duration": 47,
    "start_time": "2022-11-29T16:27:13.338Z"
   },
   {
    "duration": 30,
    "start_time": "2022-11-29T16:27:13.386Z"
   },
   {
    "duration": 16,
    "start_time": "2022-11-29T16:27:13.417Z"
   },
   {
    "duration": 44,
    "start_time": "2022-11-29T16:27:13.434Z"
   },
   {
    "duration": 533,
    "start_time": "2022-11-29T16:27:13.479Z"
   },
   {
    "duration": 3984,
    "start_time": "2022-11-29T16:27:14.014Z"
   },
   {
    "duration": 209581,
    "start_time": "2022-11-29T16:27:18.000Z"
   },
   {
    "duration": 9,
    "start_time": "2022-11-29T16:30:47.583Z"
   },
   {
    "duration": 36,
    "start_time": "2022-11-29T16:30:47.593Z"
   },
   {
    "duration": 249,
    "start_time": "2022-11-29T16:30:47.630Z"
   },
   {
    "duration": 197,
    "start_time": "2022-11-29T16:30:47.880Z"
   },
   {
    "duration": 106,
    "start_time": "2022-11-29T16:30:48.080Z"
   },
   {
    "duration": 524,
    "start_time": "2022-11-29T16:30:48.189Z"
   },
   {
    "duration": 45,
    "start_time": "2022-11-29T16:30:48.715Z"
   },
   {
    "duration": 200790,
    "start_time": "2022-11-29T16:30:48.762Z"
   },
   {
    "duration": 260,
    "start_time": "2022-11-29T16:34:09.553Z"
   },
   {
    "duration": 172,
    "start_time": "2022-11-29T16:34:09.814Z"
   },
   {
    "duration": 108,
    "start_time": "2022-11-29T16:34:09.987Z"
   },
   {
    "duration": 146,
    "start_time": "2022-11-29T16:34:10.097Z"
   },
   {
    "duration": 177,
    "start_time": "2022-11-29T16:34:10.245Z"
   },
   {
    "duration": 26,
    "start_time": "2022-11-29T16:34:10.424Z"
   },
   {
    "duration": 1640,
    "start_time": "2022-11-29T16:34:10.451Z"
   },
   {
    "duration": 38,
    "start_time": "2022-11-29T16:34:12.093Z"
   },
   {
    "duration": 673889,
    "start_time": "2022-11-29T16:34:12.133Z"
   },
   {
    "duration": 944,
    "start_time": "2022-11-29T16:45:26.024Z"
   },
   {
    "duration": 209,
    "start_time": "2022-11-29T16:45:26.969Z"
   },
   {
    "duration": 10,
    "start_time": "2022-11-29T16:45:27.180Z"
   },
   {
    "duration": 13,
    "start_time": "2022-11-29T16:45:27.192Z"
   },
   {
    "duration": 222,
    "start_time": "2022-11-29T16:45:27.207Z"
   },
   {
    "duration": 17,
    "start_time": "2022-11-29T16:45:27.430Z"
   },
   {
    "duration": 86922,
    "start_time": "2022-11-29T16:45:27.448Z"
   },
   {
    "duration": 25,
    "start_time": "2022-11-29T16:46:54.371Z"
   },
   {
    "duration": 24,
    "start_time": "2022-11-29T16:46:54.397Z"
   },
   {
    "duration": 10,
    "start_time": "2022-11-29T16:46:54.423Z"
   },
   {
    "duration": 10,
    "start_time": "2022-11-29T16:46:54.434Z"
   },
   {
    "duration": 818,
    "start_time": "2022-11-29T16:46:54.445Z"
   },
   {
    "duration": 166,
    "start_time": "2022-11-29T16:46:55.264Z"
   },
   {
    "duration": 175,
    "start_time": "2022-11-29T16:46:55.432Z"
   }
  ],
  "kernelspec": {
   "display_name": "Python 3 (ipykernel)",
   "language": "python",
   "name": "python3"
  },
  "language_info": {
   "codemirror_mode": {
    "name": "ipython",
    "version": 3
   },
   "file_extension": ".py",
   "mimetype": "text/x-python",
   "name": "python",
   "nbconvert_exporter": "python",
   "pygments_lexer": "ipython3",
   "version": "3.9.12"
  },
  "toc": {
   "base_numbering": 1,
   "nav_menu": {},
   "number_sections": true,
   "sideBar": true,
   "skip_h1_title": true,
   "title_cell": "Table of Contents",
   "title_sidebar": "Contents",
   "toc_cell": false,
   "toc_position": {
    "height": "calc(100% - 180px)",
    "left": "10px",
    "top": "150px",
    "width": "366.175px"
   },
   "toc_section_display": true,
   "toc_window_display": true
  }
 },
 "nbformat": 4,
 "nbformat_minor": 5
}
